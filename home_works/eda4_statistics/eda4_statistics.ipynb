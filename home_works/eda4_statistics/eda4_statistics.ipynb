{
  "cells": [
    {
      "attachments": {},
      "cell_type": "markdown",
      "metadata": {
        "id": "yMG_XPwziMUN"
      },
      "source": [
        "# <center> Домашнее задание: Статистические тесты в контексте EDA"
      ]
    },
    {
      "attachments": {},
      "cell_type": "markdown",
      "metadata": {
        "id": "EMd2vwh8ihnl"
      },
      "source": [
        "## Постановка задачи\n",
        "\n",
        "Исследуйте данные и сделайте выводы по полученным результатам. Подкрепите свои рассуждения и выводы визуализациями и с помощью статистического тестирования проверьте, являются ли выводы статистически значимыми.\n",
        "\n",
        "### В процессе своего анализа вы должны:\n",
        "\n",
        "1. Выяснить, какие факторы влияют на зарплату специалиста Data Scientist.\n",
        "2. А также ответить на ключевые вопросы HR-агентства:\n",
        "    - Наблюдается ли ежегодный рост зарплат у специалистов Data Scientist?\n",
        "    - Как соотносятся зарплаты Data Scientist и Data Engineer в 2022 году?\n",
        "    - Как соотносятся зарплаты специалистов Data Scientist в компаниях различных размеров?\n",
        "    - Есть ли связь между наличием должностей Data Scientist и Data Engineer и размером компании?<p></p>\n",
        "\n",
        "3. Если вы найдёте в данных интересные закономерности, также отметьте их в своём анализе.\n",
        "\n",
        "4. Продемонстрируйте использование разных тестов для проверки статистической значимости сделанных выводов:\n",
        "\n",
        "    - тесты для количественного признака:\n",
        "        - для одной выборки;\n",
        "        - для двух выборок;\n",
        "        - для нескольких выборок;\n",
        "    - тест для категориальных признаков.\n"
      ]
    },
    {
      "attachments": {},
      "cell_type": "markdown",
      "metadata": {
        "id": "_XMyOg3cgcN1"
      },
      "source": [
        "## Загрузка данных"
      ]
    },
    {
      "cell_type": "code",
      "execution_count": 73,
      "metadata": {
        "id": "2JjaPf35gyCK"
      },
      "outputs": [],
      "source": [
        "# загружаем необходимые библиотеки\n",
        "import pandas as pd\n",
        "import numpy as np\n",
        "\n",
        "from scipy import stats\n",
        "import statsmodels.api as sm\n",
        "from statsmodels import stats as sms\n",
        "\n",
        "import matplotlib.pyplot as plt\n",
        "import seaborn as sns\n",
        "\n",
        "# делаем визуальную настройку графиков\n",
        "sns.set_theme(\"notebook\") \n",
        "sns.set_palette(\"Set2\") "
      ]
    },
    {
      "cell_type": "code",
      "execution_count": 74,
      "metadata": {
        "colab": {
          "base_uri": "https://localhost:8080/",
          "height": 206
        },
        "id": "ZPiI902dv11F",
        "outputId": "eccef1b9-a3cc-4144-a9df-a2a020abf30c"
      },
      "outputs": [
        {
          "data": {
            "text/html": [
              "<div>\n",
              "<style scoped>\n",
              "    .dataframe tbody tr th:only-of-type {\n",
              "        vertical-align: middle;\n",
              "    }\n",
              "\n",
              "    .dataframe tbody tr th {\n",
              "        vertical-align: top;\n",
              "    }\n",
              "\n",
              "    .dataframe thead th {\n",
              "        text-align: right;\n",
              "    }\n",
              "</style>\n",
              "<table border=\"1\" class=\"dataframe\">\n",
              "  <thead>\n",
              "    <tr style=\"text-align: right;\">\n",
              "      <th></th>\n",
              "      <th>Unnamed: 0</th>\n",
              "      <th>work_year</th>\n",
              "      <th>experience_level</th>\n",
              "      <th>employment_type</th>\n",
              "      <th>job_title</th>\n",
              "      <th>salary</th>\n",
              "      <th>salary_currency</th>\n",
              "      <th>salary_in_usd</th>\n",
              "      <th>employee_residence</th>\n",
              "      <th>remote_ratio</th>\n",
              "      <th>company_location</th>\n",
              "      <th>company_size</th>\n",
              "    </tr>\n",
              "  </thead>\n",
              "  <tbody>\n",
              "    <tr>\n",
              "      <th>0</th>\n",
              "      <td>0</td>\n",
              "      <td>2020</td>\n",
              "      <td>MI</td>\n",
              "      <td>FT</td>\n",
              "      <td>Data Scientist</td>\n",
              "      <td>70000</td>\n",
              "      <td>EUR</td>\n",
              "      <td>79833</td>\n",
              "      <td>DE</td>\n",
              "      <td>0</td>\n",
              "      <td>DE</td>\n",
              "      <td>L</td>\n",
              "    </tr>\n",
              "    <tr>\n",
              "      <th>1</th>\n",
              "      <td>1</td>\n",
              "      <td>2020</td>\n",
              "      <td>SE</td>\n",
              "      <td>FT</td>\n",
              "      <td>Machine Learning Scientist</td>\n",
              "      <td>260000</td>\n",
              "      <td>USD</td>\n",
              "      <td>260000</td>\n",
              "      <td>JP</td>\n",
              "      <td>0</td>\n",
              "      <td>JP</td>\n",
              "      <td>S</td>\n",
              "    </tr>\n",
              "    <tr>\n",
              "      <th>2</th>\n",
              "      <td>2</td>\n",
              "      <td>2020</td>\n",
              "      <td>SE</td>\n",
              "      <td>FT</td>\n",
              "      <td>Big Data Engineer</td>\n",
              "      <td>85000</td>\n",
              "      <td>GBP</td>\n",
              "      <td>109024</td>\n",
              "      <td>GB</td>\n",
              "      <td>50</td>\n",
              "      <td>GB</td>\n",
              "      <td>M</td>\n",
              "    </tr>\n",
              "    <tr>\n",
              "      <th>3</th>\n",
              "      <td>3</td>\n",
              "      <td>2020</td>\n",
              "      <td>MI</td>\n",
              "      <td>FT</td>\n",
              "      <td>Product Data Analyst</td>\n",
              "      <td>20000</td>\n",
              "      <td>USD</td>\n",
              "      <td>20000</td>\n",
              "      <td>HN</td>\n",
              "      <td>0</td>\n",
              "      <td>HN</td>\n",
              "      <td>S</td>\n",
              "    </tr>\n",
              "    <tr>\n",
              "      <th>4</th>\n",
              "      <td>4</td>\n",
              "      <td>2020</td>\n",
              "      <td>SE</td>\n",
              "      <td>FT</td>\n",
              "      <td>Machine Learning Engineer</td>\n",
              "      <td>150000</td>\n",
              "      <td>USD</td>\n",
              "      <td>150000</td>\n",
              "      <td>US</td>\n",
              "      <td>50</td>\n",
              "      <td>US</td>\n",
              "      <td>L</td>\n",
              "    </tr>\n",
              "    <tr>\n",
              "      <th>...</th>\n",
              "      <td>...</td>\n",
              "      <td>...</td>\n",
              "      <td>...</td>\n",
              "      <td>...</td>\n",
              "      <td>...</td>\n",
              "      <td>...</td>\n",
              "      <td>...</td>\n",
              "      <td>...</td>\n",
              "      <td>...</td>\n",
              "      <td>...</td>\n",
              "      <td>...</td>\n",
              "      <td>...</td>\n",
              "    </tr>\n",
              "    <tr>\n",
              "      <th>602</th>\n",
              "      <td>602</td>\n",
              "      <td>2022</td>\n",
              "      <td>SE</td>\n",
              "      <td>FT</td>\n",
              "      <td>Data Engineer</td>\n",
              "      <td>154000</td>\n",
              "      <td>USD</td>\n",
              "      <td>154000</td>\n",
              "      <td>US</td>\n",
              "      <td>100</td>\n",
              "      <td>US</td>\n",
              "      <td>M</td>\n",
              "    </tr>\n",
              "    <tr>\n",
              "      <th>603</th>\n",
              "      <td>603</td>\n",
              "      <td>2022</td>\n",
              "      <td>SE</td>\n",
              "      <td>FT</td>\n",
              "      <td>Data Engineer</td>\n",
              "      <td>126000</td>\n",
              "      <td>USD</td>\n",
              "      <td>126000</td>\n",
              "      <td>US</td>\n",
              "      <td>100</td>\n",
              "      <td>US</td>\n",
              "      <td>M</td>\n",
              "    </tr>\n",
              "    <tr>\n",
              "      <th>604</th>\n",
              "      <td>604</td>\n",
              "      <td>2022</td>\n",
              "      <td>SE</td>\n",
              "      <td>FT</td>\n",
              "      <td>Data Analyst</td>\n",
              "      <td>129000</td>\n",
              "      <td>USD</td>\n",
              "      <td>129000</td>\n",
              "      <td>US</td>\n",
              "      <td>0</td>\n",
              "      <td>US</td>\n",
              "      <td>M</td>\n",
              "    </tr>\n",
              "    <tr>\n",
              "      <th>605</th>\n",
              "      <td>605</td>\n",
              "      <td>2022</td>\n",
              "      <td>SE</td>\n",
              "      <td>FT</td>\n",
              "      <td>Data Analyst</td>\n",
              "      <td>150000</td>\n",
              "      <td>USD</td>\n",
              "      <td>150000</td>\n",
              "      <td>US</td>\n",
              "      <td>100</td>\n",
              "      <td>US</td>\n",
              "      <td>M</td>\n",
              "    </tr>\n",
              "    <tr>\n",
              "      <th>606</th>\n",
              "      <td>606</td>\n",
              "      <td>2022</td>\n",
              "      <td>MI</td>\n",
              "      <td>FT</td>\n",
              "      <td>AI Scientist</td>\n",
              "      <td>200000</td>\n",
              "      <td>USD</td>\n",
              "      <td>200000</td>\n",
              "      <td>IN</td>\n",
              "      <td>100</td>\n",
              "      <td>US</td>\n",
              "      <td>L</td>\n",
              "    </tr>\n",
              "  </tbody>\n",
              "</table>\n",
              "<p>607 rows × 12 columns</p>\n",
              "</div>"
            ],
            "text/plain": [
              "     Unnamed: 0  work_year experience_level employment_type  \\\n",
              "0             0       2020               MI              FT   \n",
              "1             1       2020               SE              FT   \n",
              "2             2       2020               SE              FT   \n",
              "3             3       2020               MI              FT   \n",
              "4             4       2020               SE              FT   \n",
              "..          ...        ...              ...             ...   \n",
              "602         602       2022               SE              FT   \n",
              "603         603       2022               SE              FT   \n",
              "604         604       2022               SE              FT   \n",
              "605         605       2022               SE              FT   \n",
              "606         606       2022               MI              FT   \n",
              "\n",
              "                      job_title  salary salary_currency  salary_in_usd  \\\n",
              "0                Data Scientist   70000             EUR          79833   \n",
              "1    Machine Learning Scientist  260000             USD         260000   \n",
              "2             Big Data Engineer   85000             GBP         109024   \n",
              "3          Product Data Analyst   20000             USD          20000   \n",
              "4     Machine Learning Engineer  150000             USD         150000   \n",
              "..                          ...     ...             ...            ...   \n",
              "602               Data Engineer  154000             USD         154000   \n",
              "603               Data Engineer  126000             USD         126000   \n",
              "604                Data Analyst  129000             USD         129000   \n",
              "605                Data Analyst  150000             USD         150000   \n",
              "606                AI Scientist  200000             USD         200000   \n",
              "\n",
              "    employee_residence  remote_ratio company_location company_size  \n",
              "0                   DE             0               DE            L  \n",
              "1                   JP             0               JP            S  \n",
              "2                   GB            50               GB            M  \n",
              "3                   HN             0               HN            S  \n",
              "4                   US            50               US            L  \n",
              "..                 ...           ...              ...          ...  \n",
              "602                 US           100               US            M  \n",
              "603                 US           100               US            M  \n",
              "604                 US             0               US            M  \n",
              "605                 US           100               US            M  \n",
              "606                 IN           100               US            L  \n",
              "\n",
              "[607 rows x 12 columns]"
            ]
          },
          "execution_count": 74,
          "metadata": {},
          "output_type": "execute_result"
        }
      ],
      "source": [
        "# загружаем датасет\n",
        "data = pd.read_csv('./ds_salaries.zip')\n",
        "data"
      ]
    },
    {
      "cell_type": "code",
      "execution_count": 75,
      "metadata": {
        "colab": {
          "base_uri": "https://localhost:8080/"
        },
        "id": "uLEEV6aLomOU",
        "outputId": "23314b21-aa3f-4537-94cb-be776d9427ae"
      },
      "outputs": [
        {
          "name": "stdout",
          "output_type": "stream",
          "text": [
            "Уровень значимости alpha = 0.05\n"
          ]
        }
      ],
      "source": [
        "# задаём уровень значимости\n",
        "alpha = 0.05 \n",
        "print(\"Уровень значимости alpha = {:.2f}\".format(alpha))"
      ]
    },
    {
      "attachments": {},
      "cell_type": "markdown",
      "metadata": {
        "id": "c9QRWWOVfV13"
      },
      "source": [
        "## Описательный анализ данных"
      ]
    },
    {
      "cell_type": "code",
      "execution_count": 76,
      "metadata": {
        "colab": {
          "base_uri": "https://localhost:8080/"
        },
        "id": "zkiOmlAy2XQU",
        "outputId": "88adbac3-0fd7-460c-a368-c40baff97200"
      },
      "outputs": [
        {
          "name": "stdout",
          "output_type": "stream",
          "text": [
            "<class 'pandas.core.frame.DataFrame'>\n",
            "RangeIndex: 607 entries, 0 to 606\n",
            "Data columns (total 12 columns):\n",
            " #   Column              Non-Null Count  Dtype \n",
            "---  ------              --------------  ----- \n",
            " 0   Unnamed: 0          607 non-null    int64 \n",
            " 1   work_year           607 non-null    int64 \n",
            " 2   experience_level    607 non-null    object\n",
            " 3   employment_type     607 non-null    object\n",
            " 4   job_title           607 non-null    object\n",
            " 5   salary              607 non-null    int64 \n",
            " 6   salary_currency     607 non-null    object\n",
            " 7   salary_in_usd       607 non-null    int64 \n",
            " 8   employee_residence  607 non-null    object\n",
            " 9   remote_ratio        607 non-null    int64 \n",
            " 10  company_location    607 non-null    object\n",
            " 11  company_size        607 non-null    object\n",
            "dtypes: int64(5), object(7)\n",
            "memory usage: 57.0+ KB\n"
          ]
        }
      ],
      "source": [
        "data.info()"
      ]
    },
    {
      "attachments": {},
      "cell_type": "markdown",
      "metadata": {
        "id": "2DSvnZuul7Za"
      },
      "source": [
        "В датасете 607 записей (без пропущенных значений)."
      ]
    },
    {
      "attachments": {},
      "cell_type": "markdown",
      "metadata": {
        "id": "Xug87trzl7Za"
      },
      "source": [
        "Проверим данные на наличие полных дубликатов:"
      ]
    },
    {
      "cell_type": "code",
      "execution_count": 77,
      "metadata": {
        "colab": {
          "base_uri": "https://localhost:8080/"
        },
        "id": "As_X7I6jl7Za",
        "outputId": "3d3795b3-ab7c-4cc6-ab3d-23a4796a7b5c"
      },
      "outputs": [
        {
          "name": "stdout",
          "output_type": "stream",
          "text": [
            "Количество дубликатов: 0\n",
            "Дубликатов не обраружено. Размеры таблицы не меняется: (607, 12)\n"
          ]
        }
      ],
      "source": [
        "print('Количество дубликатов: {}'.format(data[data.duplicated()].shape[0]))\n",
        "\n",
        "# Удаляем дубликаты если необходимо:\n",
        "if data[data.duplicated()].shape[0] == 0:\n",
        "    print('Дубликатов не обраружено. Размеры таблицы не меняется: {}'.format(data.shape))\n",
        "else:\n",
        "    data = data.drop_duplicates()\n",
        "    print('Размер таблицы после удаления дубликатов: {}'.format(data.shape))"
      ]
    },
    {
      "attachments": {},
      "cell_type": "markdown",
      "metadata": {},
      "source": [
        "#### Преобразование признаков"
      ]
    },
    {
      "cell_type": "code",
      "execution_count": 78,
      "metadata": {},
      "outputs": [],
      "source": [
        "# Удалим первый столбец \"Unnamed: 0\", который совпадает с индексом\n",
        "data = data.drop('Unnamed: 0', axis=1)"
      ]
    },
    {
      "cell_type": "code",
      "execution_count": 79,
      "metadata": {},
      "outputs": [
        {
          "name": "stdout",
          "output_type": "stream",
          "text": [
            "<class 'pandas.core.frame.DataFrame'>\n",
            "RangeIndex: 607 entries, 0 to 606\n",
            "Data columns (total 12 columns):\n",
            " #   Column              Non-Null Count  Dtype   \n",
            "---  ------              --------------  -----   \n",
            " 0   work_year           607 non-null    category\n",
            " 1   experience_level    607 non-null    category\n",
            " 2   employment_type     607 non-null    category\n",
            " 3   salary              607 non-null    int64   \n",
            " 4   salary_currency     607 non-null    category\n",
            " 5   salary_in_usd       607 non-null    int64   \n",
            " 6   employee_residence  607 non-null    category\n",
            " 7   remote_ratio        607 non-null    category\n",
            " 8   company_location    607 non-null    category\n",
            " 9   company_size        607 non-null    category\n",
            " 10  is_data_scientist   607 non-null    int64   \n",
            " 11  is_data_engineer    607 non-null    int64   \n",
            "dtypes: category(8), int64(4)\n",
            "memory usage: 30.2 KB\n"
          ]
        }
      ],
      "source": [
        "# work_year сделаем категориальным, поскольку у нас в наличии всего три года\n",
        "data['work_year'] = data['work_year'].astype('category')\n",
        "\n",
        "# experience_level является порядковым категориальным признаком (чем больше опыт, тем выше порядок),\n",
        "# поэтому указываем порядок преобразовании признака в категориальный.\n",
        "data['experience_level'] = pd.Categorical(data['experience_level'], categories=['EN', 'MI', 'SE', 'EX'], ordered=True)\n",
        "\n",
        "# employment_type является категориальным, но не порядковам\n",
        "data['employment_type'] = data['employment_type'].astype('category')\n",
        "\n",
        "# job_title - используя этот признак, создадим два новых, анализ которых поставлен в задаче:\n",
        "# 1) is_data_scientist - 1 or 0\n",
        "# 2) is_data_engineer - 1 or 0\n",
        "#\n",
        "# а сам job_title удалим\n",
        "if 'job_title' in data:\n",
        "    data['is_data_scientist'] = data['job_title'].apply(lambda x: 1 if x == 'Data Scientist' else 0)\n",
        "    data['is_data_engineer'] = data['job_title'].apply(lambda x: 1 if x == 'Data Engineer' else 0)\n",
        "    data = data.drop('job_title', axis=1)\n",
        "    \n",
        "# company_size является порядковым категориальным признаком - размер компании можно сравнивать,\n",
        "# поэтому далем соответствующие преобразования\n",
        "data['company_size'] = pd.Categorical(data['company_size'], categories=['S', 'M', 'L'], ordered=True)\n",
        "\n",
        "# признаки salary, salary_currency, employee_residence, company_location и remote_ratio скорее всего, не будут учавствовать в анализе\n",
        "# исходя из условия задачи, поэтому их можно удалить.\n",
        "# Но поскольку много места они не занимают и никак не повлияют на статистический анализ,\n",
        "# то оставим их для поиска какой-нибудь закономерности, выделив из них категориальные признаки remote_ratio, валюты и кода страны\n",
        "data['salary_currency'] = data['salary_currency'].astype('category')\n",
        "data['employee_residence'] = data['employee_residence'].astype('category')\n",
        "data['company_location'] = data['company_location'].astype('category')\n",
        "data['remote_ratio'] = data['remote_ratio'].astype('category')\n",
        "\n",
        "# итого получаем\n",
        "data.info()\n"
      ]
    },
    {
      "attachments": {},
      "cell_type": "markdown",
      "metadata": {},
      "source": [
        "#### Статистические характеристики признаков"
      ]
    },
    {
      "cell_type": "code",
      "execution_count": 80,
      "metadata": {},
      "outputs": [
        {
          "name": "stdout",
          "output_type": "stream",
          "text": [
            "=== Частоты категориальных признаков ===\n"
          ]
        },
        {
          "data": {
            "text/plain": [
              "work_year\n",
              "2022    318\n",
              "2021    217\n",
              "2020     72\n",
              "Name: count, dtype: int64"
            ]
          },
          "metadata": {},
          "output_type": "display_data"
        },
        {
          "data": {
            "text/plain": [
              "experience_level\n",
              "SE    280\n",
              "MI    213\n",
              "EN     88\n",
              "EX     26\n",
              "Name: count, dtype: int64"
            ]
          },
          "metadata": {},
          "output_type": "display_data"
        },
        {
          "data": {
            "text/plain": [
              "employment_type\n",
              "FT    588\n",
              "PT     10\n",
              "CT      5\n",
              "FL      4\n",
              "Name: count, dtype: int64"
            ]
          },
          "metadata": {},
          "output_type": "display_data"
        },
        {
          "data": {
            "text/plain": [
              "salary_currency\n",
              "USD    398\n",
              "EUR     95\n",
              "GBP     44\n",
              "INR     27\n",
              "CAD     18\n",
              "Name: count, dtype: int64"
            ]
          },
          "metadata": {},
          "output_type": "display_data"
        },
        {
          "data": {
            "text/plain": [
              "company_location\n",
              "US    355\n",
              "GB     47\n",
              "CA     30\n",
              "DE     28\n",
              "IN     24\n",
              "Name: count, dtype: int64"
            ]
          },
          "metadata": {},
          "output_type": "display_data"
        },
        {
          "data": {
            "text/plain": [
              "employee_residence\n",
              "US    332\n",
              "GB     44\n",
              "IN     30\n",
              "CA     29\n",
              "DE     25\n",
              "Name: count, dtype: int64"
            ]
          },
          "metadata": {},
          "output_type": "display_data"
        },
        {
          "data": {
            "text/plain": [
              "remote_ratio\n",
              "100    381\n",
              "0      127\n",
              "50      99\n",
              "Name: count, dtype: int64"
            ]
          },
          "metadata": {},
          "output_type": "display_data"
        },
        {
          "data": {
            "text/plain": [
              "company_size\n",
              "M    326\n",
              "L    198\n",
              "S     83\n",
              "Name: count, dtype: int64"
            ]
          },
          "metadata": {},
          "output_type": "display_data"
        }
      ],
      "source": [
        "print(\"=== Частоты категориальных признаков ===\")\n",
        "display(data['work_year'].value_counts())\n",
        "display(data['experience_level'].value_counts())\n",
        "display(data['employment_type'].value_counts())\n",
        "display(data['salary_currency'].value_counts().head(5))\n",
        "display(data['company_location'].value_counts().head(5))\n",
        "display(data['employee_residence'].value_counts().head(5))\n",
        "display(data['remote_ratio'].value_counts().head(5))\n",
        "display(data['company_size'].value_counts().head(5))"
      ]
    },
    {
      "attachments": {},
      "cell_type": "markdown",
      "metadata": {},
      "source": [
        "##### Выводы по категориальным признакам\n",
        "* с каждым годом число позиций связанные с DS увеличивается\n",
        "* больше всего требуется DS-специалистов уровня эксперта\n",
        "* больше всего требуется DS-специалистов в средних компаниях\n",
        "* интересно, что \n",
        "    - 30 позиций из Канады, но только 18 позиций платят зарплату в канадский долларах\n",
        "    - 24 поизций из Индии, но 27 позиций платят зарплату в индийских рупиях\n",
        "  \n",
        "  (возможно, это связано с сотрудниками из других стран)"
      ]
    },
    {
      "cell_type": "code",
      "execution_count": 81,
      "metadata": {},
      "outputs": [
        {
          "data": {
            "text/html": [
              "<div>\n",
              "<style scoped>\n",
              "    .dataframe tbody tr th:only-of-type {\n",
              "        vertical-align: middle;\n",
              "    }\n",
              "\n",
              "    .dataframe tbody tr th {\n",
              "        vertical-align: top;\n",
              "    }\n",
              "\n",
              "    .dataframe thead th {\n",
              "        text-align: right;\n",
              "    }\n",
              "</style>\n",
              "<table border=\"1\" class=\"dataframe\">\n",
              "  <thead>\n",
              "    <tr style=\"text-align: right;\">\n",
              "      <th></th>\n",
              "      <th>work_year</th>\n",
              "      <th>experience_level</th>\n",
              "      <th>employment_type</th>\n",
              "      <th>salary</th>\n",
              "      <th>salary_currency</th>\n",
              "      <th>salary_in_usd</th>\n",
              "      <th>employee_residence</th>\n",
              "      <th>remote_ratio</th>\n",
              "      <th>company_location</th>\n",
              "      <th>company_size</th>\n",
              "      <th>is_data_scientist</th>\n",
              "      <th>is_data_engineer</th>\n",
              "    </tr>\n",
              "  </thead>\n",
              "  <tbody>\n",
              "    <tr>\n",
              "      <th>224</th>\n",
              "      <td>2021</td>\n",
              "      <td>SE</td>\n",
              "      <td>FT</td>\n",
              "      <td>225000</td>\n",
              "      <td>USD</td>\n",
              "      <td>225000</td>\n",
              "      <td>US</td>\n",
              "      <td>100</td>\n",
              "      <td>CA</td>\n",
              "      <td>L</td>\n",
              "      <td>0</td>\n",
              "      <td>0</td>\n",
              "    </tr>\n",
              "    <tr>\n",
              "      <th>358</th>\n",
              "      <td>2022</td>\n",
              "      <td>SE</td>\n",
              "      <td>FT</td>\n",
              "      <td>192400</td>\n",
              "      <td>USD</td>\n",
              "      <td>192400</td>\n",
              "      <td>CA</td>\n",
              "      <td>100</td>\n",
              "      <td>CA</td>\n",
              "      <td>M</td>\n",
              "      <td>0</td>\n",
              "      <td>0</td>\n",
              "    </tr>\n",
              "    <tr>\n",
              "      <th>359</th>\n",
              "      <td>2022</td>\n",
              "      <td>SE</td>\n",
              "      <td>FT</td>\n",
              "      <td>90700</td>\n",
              "      <td>USD</td>\n",
              "      <td>90700</td>\n",
              "      <td>CA</td>\n",
              "      <td>100</td>\n",
              "      <td>CA</td>\n",
              "      <td>M</td>\n",
              "      <td>0</td>\n",
              "      <td>0</td>\n",
              "    </tr>\n",
              "    <tr>\n",
              "      <th>360</th>\n",
              "      <td>2022</td>\n",
              "      <td>SE</td>\n",
              "      <td>FT</td>\n",
              "      <td>130000</td>\n",
              "      <td>USD</td>\n",
              "      <td>130000</td>\n",
              "      <td>CA</td>\n",
              "      <td>100</td>\n",
              "      <td>CA</td>\n",
              "      <td>M</td>\n",
              "      <td>0</td>\n",
              "      <td>0</td>\n",
              "    </tr>\n",
              "    <tr>\n",
              "      <th>361</th>\n",
              "      <td>2022</td>\n",
              "      <td>SE</td>\n",
              "      <td>FT</td>\n",
              "      <td>61300</td>\n",
              "      <td>USD</td>\n",
              "      <td>61300</td>\n",
              "      <td>CA</td>\n",
              "      <td>100</td>\n",
              "      <td>CA</td>\n",
              "      <td>M</td>\n",
              "      <td>0</td>\n",
              "      <td>0</td>\n",
              "    </tr>\n",
              "    <tr>\n",
              "      <th>362</th>\n",
              "      <td>2022</td>\n",
              "      <td>SE</td>\n",
              "      <td>FT</td>\n",
              "      <td>130000</td>\n",
              "      <td>USD</td>\n",
              "      <td>130000</td>\n",
              "      <td>CA</td>\n",
              "      <td>100</td>\n",
              "      <td>CA</td>\n",
              "      <td>M</td>\n",
              "      <td>0</td>\n",
              "      <td>0</td>\n",
              "    </tr>\n",
              "    <tr>\n",
              "      <th>363</th>\n",
              "      <td>2022</td>\n",
              "      <td>SE</td>\n",
              "      <td>FT</td>\n",
              "      <td>61300</td>\n",
              "      <td>USD</td>\n",
              "      <td>61300</td>\n",
              "      <td>CA</td>\n",
              "      <td>100</td>\n",
              "      <td>CA</td>\n",
              "      <td>M</td>\n",
              "      <td>0</td>\n",
              "      <td>0</td>\n",
              "    </tr>\n",
              "    <tr>\n",
              "      <th>491</th>\n",
              "      <td>2022</td>\n",
              "      <td>MI</td>\n",
              "      <td>FT</td>\n",
              "      <td>75000</td>\n",
              "      <td>USD</td>\n",
              "      <td>75000</td>\n",
              "      <td>CA</td>\n",
              "      <td>100</td>\n",
              "      <td>CA</td>\n",
              "      <td>S</td>\n",
              "      <td>0</td>\n",
              "      <td>0</td>\n",
              "    </tr>\n",
              "    <tr>\n",
              "      <th>530</th>\n",
              "      <td>2022</td>\n",
              "      <td>MI</td>\n",
              "      <td>FT</td>\n",
              "      <td>85000</td>\n",
              "      <td>USD</td>\n",
              "      <td>85000</td>\n",
              "      <td>CA</td>\n",
              "      <td>0</td>\n",
              "      <td>CA</td>\n",
              "      <td>M</td>\n",
              "      <td>0</td>\n",
              "      <td>0</td>\n",
              "    </tr>\n",
              "    <tr>\n",
              "      <th>531</th>\n",
              "      <td>2022</td>\n",
              "      <td>MI</td>\n",
              "      <td>FT</td>\n",
              "      <td>75000</td>\n",
              "      <td>USD</td>\n",
              "      <td>75000</td>\n",
              "      <td>CA</td>\n",
              "      <td>0</td>\n",
              "      <td>CA</td>\n",
              "      <td>M</td>\n",
              "      <td>0</td>\n",
              "      <td>0</td>\n",
              "    </tr>\n",
              "    <tr>\n",
              "      <th>600</th>\n",
              "      <td>2022</td>\n",
              "      <td>EN</td>\n",
              "      <td>FT</td>\n",
              "      <td>67000</td>\n",
              "      <td>USD</td>\n",
              "      <td>67000</td>\n",
              "      <td>CA</td>\n",
              "      <td>0</td>\n",
              "      <td>CA</td>\n",
              "      <td>M</td>\n",
              "      <td>0</td>\n",
              "      <td>0</td>\n",
              "    </tr>\n",
              "    <tr>\n",
              "      <th>601</th>\n",
              "      <td>2022</td>\n",
              "      <td>EN</td>\n",
              "      <td>FT</td>\n",
              "      <td>52000</td>\n",
              "      <td>USD</td>\n",
              "      <td>52000</td>\n",
              "      <td>CA</td>\n",
              "      <td>0</td>\n",
              "      <td>CA</td>\n",
              "      <td>M</td>\n",
              "      <td>0</td>\n",
              "      <td>0</td>\n",
              "    </tr>\n",
              "  </tbody>\n",
              "</table>\n",
              "</div>"
            ],
            "text/plain": [
              "    work_year experience_level employment_type  salary salary_currency  \\\n",
              "224      2021               SE              FT  225000             USD   \n",
              "358      2022               SE              FT  192400             USD   \n",
              "359      2022               SE              FT   90700             USD   \n",
              "360      2022               SE              FT  130000             USD   \n",
              "361      2022               SE              FT   61300             USD   \n",
              "362      2022               SE              FT  130000             USD   \n",
              "363      2022               SE              FT   61300             USD   \n",
              "491      2022               MI              FT   75000             USD   \n",
              "530      2022               MI              FT   85000             USD   \n",
              "531      2022               MI              FT   75000             USD   \n",
              "600      2022               EN              FT   67000             USD   \n",
              "601      2022               EN              FT   52000             USD   \n",
              "\n",
              "     salary_in_usd employee_residence remote_ratio company_location  \\\n",
              "224         225000                 US          100               CA   \n",
              "358         192400                 CA          100               CA   \n",
              "359          90700                 CA          100               CA   \n",
              "360         130000                 CA          100               CA   \n",
              "361          61300                 CA          100               CA   \n",
              "362         130000                 CA          100               CA   \n",
              "363          61300                 CA          100               CA   \n",
              "491          75000                 CA          100               CA   \n",
              "530          85000                 CA            0               CA   \n",
              "531          75000                 CA            0               CA   \n",
              "600          67000                 CA            0               CA   \n",
              "601          52000                 CA            0               CA   \n",
              "\n",
              "    company_size  is_data_scientist  is_data_engineer  \n",
              "224            L                  0                 0  \n",
              "358            M                  0                 0  \n",
              "359            M                  0                 0  \n",
              "360            M                  0                 0  \n",
              "361            M                  0                 0  \n",
              "362            M                  0                 0  \n",
              "363            M                  0                 0  \n",
              "491            S                  0                 0  \n",
              "530            M                  0                 0  \n",
              "531            M                  0                 0  \n",
              "600            M                  0                 0  \n",
              "601            M                  0                 0  "
            ]
          },
          "execution_count": 81,
          "metadata": {},
          "output_type": "execute_result"
        }
      ],
      "source": [
        "# проверим компании из Канады, которые платят не в канадских долларах\n",
        "data[(data['company_location'] == 'CA') & (data['salary_currency'] != 'CAD')]"
      ]
    },
    {
      "attachments": {},
      "cell_type": "markdown",
      "metadata": {},
      "source": [
        "Вывод: оказывается, некоторым сотрудникам в канадских компаниях, проживающим в Канаде, платят зарплату в долларах США"
      ]
    },
    {
      "cell_type": "code",
      "execution_count": 82,
      "metadata": {},
      "outputs": [
        {
          "data": {
            "text/html": [
              "<div>\n",
              "<style scoped>\n",
              "    .dataframe tbody tr th:only-of-type {\n",
              "        vertical-align: middle;\n",
              "    }\n",
              "\n",
              "    .dataframe tbody tr th {\n",
              "        vertical-align: top;\n",
              "    }\n",
              "\n",
              "    .dataframe thead th {\n",
              "        text-align: right;\n",
              "    }\n",
              "</style>\n",
              "<table border=\"1\" class=\"dataframe\">\n",
              "  <thead>\n",
              "    <tr style=\"text-align: right;\">\n",
              "      <th></th>\n",
              "      <th>work_year</th>\n",
              "      <th>experience_level</th>\n",
              "      <th>employment_type</th>\n",
              "      <th>salary</th>\n",
              "      <th>salary_currency</th>\n",
              "      <th>salary_in_usd</th>\n",
              "      <th>employee_residence</th>\n",
              "      <th>remote_ratio</th>\n",
              "      <th>company_location</th>\n",
              "      <th>company_size</th>\n",
              "      <th>is_data_scientist</th>\n",
              "      <th>is_data_engineer</th>\n",
              "    </tr>\n",
              "  </thead>\n",
              "  <tbody>\n",
              "    <tr>\n",
              "      <th>179</th>\n",
              "      <td>2021</td>\n",
              "      <td>MI</td>\n",
              "      <td>FT</td>\n",
              "      <td>420000</td>\n",
              "      <td>INR</td>\n",
              "      <td>5679</td>\n",
              "      <td>IN</td>\n",
              "      <td>100</td>\n",
              "      <td>US</td>\n",
              "      <td>S</td>\n",
              "      <td>1</td>\n",
              "      <td>0</td>\n",
              "    </tr>\n",
              "    <tr>\n",
              "      <th>198</th>\n",
              "      <td>2021</td>\n",
              "      <td>SE</td>\n",
              "      <td>FT</td>\n",
              "      <td>4000000</td>\n",
              "      <td>INR</td>\n",
              "      <td>54094</td>\n",
              "      <td>IN</td>\n",
              "      <td>50</td>\n",
              "      <td>US</td>\n",
              "      <td>L</td>\n",
              "      <td>0</td>\n",
              "      <td>0</td>\n",
              "    </tr>\n",
              "    <tr>\n",
              "      <th>213</th>\n",
              "      <td>2021</td>\n",
              "      <td>EN</td>\n",
              "      <td>FT</td>\n",
              "      <td>435000</td>\n",
              "      <td>INR</td>\n",
              "      <td>5882</td>\n",
              "      <td>IN</td>\n",
              "      <td>0</td>\n",
              "      <td>CH</td>\n",
              "      <td>L</td>\n",
              "      <td>0</td>\n",
              "      <td>0</td>\n",
              "    </tr>\n",
              "    <tr>\n",
              "      <th>244</th>\n",
              "      <td>2021</td>\n",
              "      <td>EN</td>\n",
              "      <td>FT</td>\n",
              "      <td>1335000</td>\n",
              "      <td>INR</td>\n",
              "      <td>18053</td>\n",
              "      <td>IN</td>\n",
              "      <td>100</td>\n",
              "      <td>AS</td>\n",
              "      <td>S</td>\n",
              "      <td>0</td>\n",
              "      <td>0</td>\n",
              "    </tr>\n",
              "  </tbody>\n",
              "</table>\n",
              "</div>"
            ],
            "text/plain": [
              "    work_year experience_level employment_type   salary salary_currency  \\\n",
              "179      2021               MI              FT   420000             INR   \n",
              "198      2021               SE              FT  4000000             INR   \n",
              "213      2021               EN              FT   435000             INR   \n",
              "244      2021               EN              FT  1335000             INR   \n",
              "\n",
              "     salary_in_usd employee_residence remote_ratio company_location  \\\n",
              "179           5679                 IN          100               US   \n",
              "198          54094                 IN           50               US   \n",
              "213           5882                 IN            0               CH   \n",
              "244          18053                 IN          100               AS   \n",
              "\n",
              "    company_size  is_data_scientist  is_data_engineer  \n",
              "179            S                  1                 0  \n",
              "198            L                  0                 0  \n",
              "213            L                  0                 0  \n",
              "244            S                  0                 0  "
            ]
          },
          "execution_count": 82,
          "metadata": {},
          "output_type": "execute_result"
        }
      ],
      "source": [
        "# проверим компании не из Индии, которые платят в индийских рупиях\n",
        "data[(data['salary_currency'] == 'INR') & (data['company_location'] != 'IN')]"
      ]
    },
    {
      "attachments": {},
      "cell_type": "markdown",
      "metadata": {},
      "source": [
        "Вывод: вероятно, по индийскому законодательству, резиденты страны дожны получать зарплату в рупиях"
      ]
    },
    {
      "cell_type": "code",
      "execution_count": 83,
      "metadata": {},
      "outputs": [
        {
          "name": "stdout",
          "output_type": "stream",
          "text": [
            "Количество вакансий Data Scientist: 143\n",
            "Количество вакансий Data Engineer: 132\n"
          ]
        },
        {
          "data": {
            "text/html": [
              "<div>\n",
              "<style scoped>\n",
              "    .dataframe tbody tr th:only-of-type {\n",
              "        vertical-align: middle;\n",
              "    }\n",
              "\n",
              "    .dataframe tbody tr th {\n",
              "        vertical-align: top;\n",
              "    }\n",
              "\n",
              "    .dataframe thead th {\n",
              "        text-align: right;\n",
              "    }\n",
              "</style>\n",
              "<table border=\"1\" class=\"dataframe\">\n",
              "  <thead>\n",
              "    <tr style=\"text-align: right;\">\n",
              "      <th></th>\n",
              "      <th>Зарплата по всей выборке</th>\n",
              "    </tr>\n",
              "  </thead>\n",
              "  <tbody>\n",
              "    <tr>\n",
              "      <th>count</th>\n",
              "      <td>607.00</td>\n",
              "    </tr>\n",
              "    <tr>\n",
              "      <th>mean</th>\n",
              "      <td>112297.87</td>\n",
              "    </tr>\n",
              "    <tr>\n",
              "      <th>std</th>\n",
              "      <td>70957.26</td>\n",
              "    </tr>\n",
              "    <tr>\n",
              "      <th>min</th>\n",
              "      <td>2859.00</td>\n",
              "    </tr>\n",
              "    <tr>\n",
              "      <th>25%</th>\n",
              "      <td>62726.00</td>\n",
              "    </tr>\n",
              "    <tr>\n",
              "      <th>50%</th>\n",
              "      <td>101570.00</td>\n",
              "    </tr>\n",
              "    <tr>\n",
              "      <th>75%</th>\n",
              "      <td>150000.00</td>\n",
              "    </tr>\n",
              "    <tr>\n",
              "      <th>max</th>\n",
              "      <td>600000.00</td>\n",
              "    </tr>\n",
              "  </tbody>\n",
              "</table>\n",
              "</div>"
            ],
            "text/plain": [
              "       Зарплата по всей выборке\n",
              "count                    607.00\n",
              "mean                  112297.87\n",
              "std                    70957.26\n",
              "min                     2859.00\n",
              "25%                    62726.00\n",
              "50%                   101570.00\n",
              "75%                   150000.00\n",
              "max                   600000.00"
            ]
          },
          "metadata": {},
          "output_type": "display_data"
        },
        {
          "data": {
            "text/html": [
              "<div>\n",
              "<style scoped>\n",
              "    .dataframe tbody tr th:only-of-type {\n",
              "        vertical-align: middle;\n",
              "    }\n",
              "\n",
              "    .dataframe tbody tr th {\n",
              "        vertical-align: top;\n",
              "    }\n",
              "\n",
              "    .dataframe thead th {\n",
              "        text-align: right;\n",
              "    }\n",
              "</style>\n",
              "<table border=\"1\" class=\"dataframe\">\n",
              "  <thead>\n",
              "    <tr style=\"text-align: right;\">\n",
              "      <th></th>\n",
              "      <th>Зарплата по позициям Data Scientist и Data Engineer</th>\n",
              "    </tr>\n",
              "  </thead>\n",
              "  <tbody>\n",
              "    <tr>\n",
              "      <th>count</th>\n",
              "      <td>275.00</td>\n",
              "    </tr>\n",
              "    <tr>\n",
              "      <th>mean</th>\n",
              "      <td>110365.67</td>\n",
              "    </tr>\n",
              "    <tr>\n",
              "      <th>std</th>\n",
              "      <td>61018.23</td>\n",
              "    </tr>\n",
              "    <tr>\n",
              "      <th>min</th>\n",
              "      <td>2859.00</td>\n",
              "    </tr>\n",
              "    <tr>\n",
              "      <th>25%</th>\n",
              "      <td>65438.00</td>\n",
              "    </tr>\n",
              "    <tr>\n",
              "      <th>50%</th>\n",
              "      <td>104702.00</td>\n",
              "    </tr>\n",
              "    <tr>\n",
              "      <th>75%</th>\n",
              "      <td>150000.00</td>\n",
              "    </tr>\n",
              "    <tr>\n",
              "      <th>max</th>\n",
              "      <td>412000.00</td>\n",
              "    </tr>\n",
              "  </tbody>\n",
              "</table>\n",
              "</div>"
            ],
            "text/plain": [
              "       Зарплата по позициям Data Scientist и Data Engineer\n",
              "count                                             275.00  \n",
              "mean                                           110365.67  \n",
              "std                                             61018.23  \n",
              "min                                              2859.00  \n",
              "25%                                             65438.00  \n",
              "50%                                            104702.00  \n",
              "75%                                            150000.00  \n",
              "max                                            412000.00  "
            ]
          },
          "metadata": {},
          "output_type": "display_data"
        }
      ],
      "source": [
        "# вычислим статисчические характеристика для числовых признаков\n",
        "print(\"Количество вакансий Data Scientist:\", data['is_data_scientist'].sum())\n",
        "print(\"Количество вакансий Data Engineer:\", data['is_data_engineer'].sum())\n",
        "\n",
        "data_agg = data['salary_in_usd'].describe().round(2).to_frame()\n",
        "data_agg.columns = ['Зарплата по всей выборке']\n",
        "display(data_agg)\n",
        "\n",
        "data_agg = data[(data['is_data_engineer'] == 1)|(data['is_data_scientist'] == 1)]['salary_in_usd'].describe().round(2).to_frame()\n",
        "data_agg.columns = ['Зарплата по позициям Data Scientist и Data Engineer']\n",
        "display(data_agg)"
      ]
    },
    {
      "attachments": {},
      "cell_type": "markdown",
      "metadata": {},
      "source": [
        "##### Выводы по числовым признакам\n",
        "* примерно половина выборки содержит вакансии на позиции Data Scientist и Data Engineer\n",
        "* зарплаты выборки из позиций Data Scientist и Data Engineer очень близко к нормальному распределению (медиана отстает от среднего на 5 тысяч - возможно, это связано с выбросами)\n",
        "* стандартное отклонение всей выборки выше (70957), чем у выборки, содержащую только позиции Data Scientist и Data Engineer (61018), что логично - во всю выборку входят зарплаты директоров"
      ]
    },
    {
      "attachments": {},
      "cell_type": "markdown",
      "metadata": {},
      "source": [
        "## Разведовательный анализ данных"
      ]
    },
    {
      "attachments": {},
      "cell_type": "markdown",
      "metadata": {},
      "source": [
        "### Ежегодное распределие зарплат у специалистов Data Scientist"
      ]
    },
    {
      "cell_type": "code",
      "execution_count": 84,
      "metadata": {},
      "outputs": [
        {
          "data": {
            "image/png": "[encoded data removed]",
            "text/plain": [
              "<Figure size 800x1000 with 2 Axes>"
            ]
          },
          "metadata": {},
          "output_type": "display_data"
        }
      ],
      "source": [
        "fig, axes = plt.subplots(2, 1, figsize=(8, 10), constrained_layout=True)\n",
        "\n",
        "df = data[(data['is_data_scientist'] == 1)].groupby('work_year', as_index=False)['salary_in_usd'].median()\n",
        "\n",
        "h1 = sns.barplot(\n",
        "    data=df,\n",
        "    x='work_year',\n",
        "    y='salary_in_usd',\n",
        "    ax=axes[0]\n",
        ").set(\n",
        "    title='Распределение зарплат специалистов Data Scientist по годам', \n",
        "    xlabel='Год',\n",
        "    ylabel='Зарплата, USD',\n",
        ")\n",
        "\n",
        "h2 = sns.boxplot(\n",
        "    data=data[(data['is_data_scientist'] == 1)],\n",
        "    y='work_year',\n",
        "    x='salary_in_usd',\n",
        "    ax=axes[1]\n",
        ").set(\n",
        "    title='Распределение зарплат специалистов Data Scientist по годам', \n",
        "    xlabel='Зарплата, USD', \n",
        "    ylabel='Год',\n",
        ")\n",
        "\n",
        "plt.show()"
      ]
    },
    {
      "attachments": {},
      "cell_type": "markdown",
      "metadata": {},
      "source": [
        "Выводы: \n",
        "* визуально наблюдается ежегодный рост медианной зарплаты у специалистов Data Scientist\n",
        "* можно утверждать, что рост медианной зарплаты в 2022 году по сравнению с предыдущими годами вырос значимо (подвердим это про помощи статистических тестов ниже)\n",
        "* рост медианной зарплаты в 2021 году по сравнению с 2020 годом, скорее всего, вырос не значимо"
      ]
    },
    {
      "attachments": {},
      "cell_type": "markdown",
      "metadata": {
        "id": "6uAbyderTaNx"
      },
      "source": [
        "### Распределение зарплат у специалистов Data Scientist и Data Engineer в 2022 году"
      ]
    },
    {
      "cell_type": "code",
      "execution_count": 85,
      "metadata": {
        "colab": {
          "base_uri": "https://localhost:8080/",
          "height": 496
        },
        "id": "KX6k6B2NWJ8t",
        "outputId": "523d571d-679e-4926-fe74-dc130c6a1b53"
      },
      "outputs": [
        {
          "data": {
            "image/png": "[encoded data removed]",
            "text/plain": [
              "<Figure size 1600x1200 with 4 Axes>"
            ]
          },
          "metadata": {},
          "output_type": "display_data"
        }
      ],
      "source": [
        "fig, axes = plt.subplots(2, 2, figsize=(16, 12))\n",
        "\n",
        "df_scientist = data[(data['is_data_scientist'] == 1) & (data['work_year'] == 2022)]['salary_in_usd'].reset_index(drop=True)\n",
        "\n",
        "sns.histplot(df_scientist, kde=True, ax=axes[0][0])\n",
        "axes[0][0].set(xlabel='Зарплата', ylabel='Частота')\n",
        "axes[0][0].set_title('Распределение зарплат у специалистов Data Scientist')\n",
        "axes[0][0].axvline(df_scientist.mean(), color='red', linestyle='--', linewidth=0.8)\n",
        "\n",
        "sns.boxplot(df_scientist, ax=axes[0][1], orient='h', medianprops={\"color\": \"red\", \"linestyle\": '--'})\n",
        "axes[0][1].set(ylabel='Зарплата')\n",
        "axes[0][1].set_title('Распределение зарплат у специалистов Data Scientist')\n",
        "\n",
        "df_engineer = data[(data['is_data_engineer'] == 1) & (data['work_year'] == 2022)]['salary_in_usd'].reset_index(drop=True)\n",
        "\n",
        "sns.histplot(df_engineer, kde=True, ax=axes[1][0])\n",
        "axes[1][0].set(xlabel='Зарплата', ylabel='Частота')\n",
        "axes[1][0].set_title('Распределение зарплат у специалистов Data Engineer')\n",
        "axes[1][0].axvline(df_engineer.mean(), color='red', linestyle='--', linewidth=0.8)\n",
        "\n",
        "sns.boxplot(df_engineer, ax=axes[1][1], orient='h', medianprops={\"color\": \"red\", \"linestyle\": '--'})\n",
        "axes[1][1].set(ylabel='Зарплата')\n",
        "axes[1][1].set_title('Распределение зарплат у специалистов Data Engineer')\n",
        "\n",
        "plt.show()"
      ]
    },
    {
      "attachments": {},
      "cell_type": "markdown",
      "metadata": {},
      "source": [
        "Выводы: \n",
        "* наблюдается выброс для позиции Data Engineer\n",
        "* распределение зарплат Data Scientist и Data Engineer близко к нормально, но это утверждение надо проверить тестами на нормальность\n",
        "* визуально зарплата специалиста Data Scientist больше, чем у Data Engineer, но является это утверждение статистически значимым или нет, проверим в статистическом анализе данных"
      ]
    },
    {
      "attachments": {},
      "cell_type": "markdown",
      "metadata": {
        "id": "cFABAmBjTkCo"
      },
      "source": [
        "### Зарплаты специалистов Data Scientist в зависимости от размеров компании"
      ]
    },
    {
      "cell_type": "code",
      "execution_count": 86,
      "metadata": {
        "colab": {
          "base_uri": "https://localhost:8080/",
          "height": 480
        },
        "id": "a06HKS1bwzsS",
        "outputId": "e4aa3e1a-71d3-4df3-8857-3f9f4342fa18"
      },
      "outputs": [
        {
          "data": {
            "image/png": "[encoded data removed]",
            "text/plain": [
              "<Figure size 800x1000 with 2 Axes>"
            ]
          },
          "metadata": {},
          "output_type": "display_data"
        }
      ],
      "source": [
        "fig, axes = plt.subplots(2, 1, figsize=(8, 10), constrained_layout=True)\n",
        "\n",
        "df = data[(data['is_data_scientist'] == 1)].groupby('company_size', as_index=False)['salary_in_usd'].median()\n",
        "\n",
        "h1 = sns.barplot(\n",
        "    data=df,\n",
        "    x='company_size',\n",
        "    y='salary_in_usd',\n",
        "    ax=axes[0]\n",
        ").set(\n",
        "    title='Медианная зарплата у специалистов Data Scientist по размеру компании',\n",
        "    xlabel='Размер компании', \n",
        "    ylabel='Зарплата, USD', \n",
        ")\n",
        "\n",
        "h2 = sns.boxplot(\n",
        "    data=data[(data['is_data_scientist'] == 1)],\n",
        "    y='company_size',\n",
        "    x='salary_in_usd',\n",
        "    ax=axes[1]\n",
        ").set(\n",
        "    title='Распределение зарплат специалистов Data Scientist по размеру компании', \n",
        "    xlabel='Зарплата, USD', \n",
        "    ylabel='Размер компании',\n",
        ")\n",
        "\n",
        "plt.show()"
      ]
    },
    {
      "attachments": {},
      "cell_type": "markdown",
      "metadata": {
        "id": "QnoG6XTK_fOH"
      },
      "source": [
        "Вывод: на первый взгляд зарплаты зависят от размеров компании: меньше платят в маленьких компаниях, а больше - в средних. Чтобы определить, являются ли эти различия статистически значимыми, проведём статистическое тестирование в статистическом анализе данных."
      ]
    },
    {
      "attachments": {},
      "cell_type": "markdown",
      "metadata": {},
      "source": [
        "### Количество вакансий Data Scientist и Data Engineer в зависимости от размеров компании"
      ]
    },
    {
      "cell_type": "code",
      "execution_count": 87,
      "metadata": {},
      "outputs": [
        {
          "data": {
            "image/png": "[encoded data removed]",
            "text/plain": [
              "<Figure size 800x600 with 1 Axes>"
            ]
          },
          "metadata": {},
          "output_type": "display_data"
        }
      ],
      "source": [
        "df = data.copy()\n",
        "df['has_ds_or_de'] = df.apply(lambda x: x['is_data_scientist'] == 1 or x['is_data_engineer'] == 1, axis=1)\n",
        "\n",
        "fig, ax = plt.subplots(1, 1, figsize=(8, 6), constrained_layout=True)\n",
        "\n",
        "sns.countplot(data=df, x=data['company_size'], hue='has_ds_or_de', ax=ax)\n",
        "ax.set(xlabel='Size', ylabel='Количество вакансий')\n",
        "\n",
        "plt.title('Соотношение наличие или отсутствие вакансий Data Scientist (DS)  Data Engineer (DE) к размеру компании')\n",
        "plt.legend(labels=['Нет', 'Есть'], title=\"Есть ли вакансия DS или DE\")\n",
        "plt.show()\n"
      ]
    },
    {
      "cell_type": "code",
      "execution_count": 88,
      "metadata": {},
      "outputs": [
        {
          "data": {
            "image/png": "[encoded data removed]",
            "text/plain": [
              "<Figure size 640x480 with 2 Axes>"
            ]
          },
          "metadata": {},
          "output_type": "display_data"
        }
      ],
      "source": [
        "cross_tab = pd.crosstab(index=df['company_size'], columns=df['has_ds_or_de'])\n",
        "cross_tab.columns = ['Нет', 'Есть']\n",
        "\n",
        "ax = sns.heatmap(cross_tab, annot=True, linewidth=.5, fmt='.0f', cmap=\"coolwarm\")\n",
        "ax.set(xlabel='Если ли вакансия Data Scientist или Data Engineer', ylabel='Размер компании')\n",
        "\n",
        "plt.title('Таблица сопряженности')\n",
        "plt.show()"
      ]
    },
    {
      "attachments": {},
      "cell_type": "markdown",
      "metadata": {},
      "source": [
        "Выводы: визуально не видно никакой зависимости от наличия или отсутствия вакансий Data Scientist или Data Engineer и размером компании."
      ]
    },
    {
      "attachments": {},
      "cell_type": "markdown",
      "metadata": {},
      "source": [
        "### Дополнение 1: Зарплата вакансии Data Scientist в зависимости от опыта"
      ]
    },
    {
      "cell_type": "code",
      "execution_count": 89,
      "metadata": {
        "colab": {
          "base_uri": "https://localhost:8080/",
          "height": 480
        },
        "id": "SkPmlfj7S9BL",
        "outputId": "00283144-aa01-43c9-9ee4-b0a38efc3f84"
      },
      "outputs": [
        {
          "data": {
            "image/png": "[encoded data removed]",
            "text/plain": [
              "<Figure size 640x480 with 1 Axes>"
            ]
          },
          "metadata": {},
          "output_type": "display_data"
        }
      ],
      "source": [
        "df = data[data['is_data_scientist'] == 1]\n",
        "\n",
        "ax = sns.boxplot(data=df, x='salary_in_usd', y='experience_level', orient='h', medianprops={\"color\": \"red\", \"linestyle\": '--'})\n",
        "ax.set(xlabel='Зарплата, USD', ylabel='Опыт работы')\n",
        "\n",
        "plt.title('Распределение зарплаты на вакансию Data Scientist по опыту')\n",
        "plt.show()"
      ]
    },
    {
      "cell_type": "code",
      "execution_count": 90,
      "metadata": {},
      "outputs": [
        {
          "data": {
            "text/plain": [
              "count        61.000000\n",
              "mean     152971.016393\n",
              "std       58985.402166\n",
              "min       20171.000000\n",
              "25%      120000.000000\n",
              "50%      140400.000000\n",
              "75%      180000.000000\n",
              "max      412000.000000\n",
              "Name: salary_in_usd, dtype: float64"
            ]
          },
          "metadata": {},
          "output_type": "display_data"
        },
        {
          "data": {
            "image/png": "[encoded data removed]",
            "text/plain": [
              "<Figure size 640x480 with 1 Axes>"
            ]
          },
          "metadata": {},
          "output_type": "display_data"
        }
      ],
      "source": [
        "# удалим два выброса для вакансий с опытом Senior\n",
        "df = data[(data['is_data_scientist'] == 1) & ((data['experience_level'] == 'EN') | (data['experience_level'] == 'MI') | (data['experience_level'] == 'SE'))]\n",
        "\n",
        "# находим мин. и мах. значение для вакансий с опытом Senior\n",
        "display(df[(df['experience_level'] == 'SE')]['salary_in_usd'].describe())\n",
        "\n",
        "# удаляем две записи\n",
        "df = df.drop(df[(df['experience_level'] == 'SE') & ((df['salary_in_usd'] == 20171) | (df['salary_in_usd'] == 412000))].index)\n",
        "\n",
        "ax = sns.boxplot(data=df, x='salary_in_usd', y='experience_level', orient='h', medianprops={\"color\": \"red\", \"linestyle\": '--'})\n",
        "ax.set(xlabel='Зарплата, USD', ylabel='Опыт работы')\n",
        "\n",
        "plt.title('Распределение зарплаты на вакансию Data Scientist по опыту')\n",
        "plt.show()\n"
      ]
    },
    {
      "attachments": {},
      "cell_type": "markdown",
      "metadata": {},
      "source": [
        "Выводы: \n",
        "* визуально зарплата Data Scientist зависит от опыта: чем больше опыта, тем выше зарплата. Не смотря на то, что это очевидный факт во всех областях, проверим является ли это утверждение для вакансии Data Scientist\n",
        "* нет данных по опыту EX, поскольку должность Data Scientist не является директорской\n",
        "* есть два выброса по зарплате по опыту SE - удалим их позже и только в том случае, если они будут влиять на результаты тестов"
      ]
    },
    {
      "attachments": {},
      "cell_type": "markdown",
      "metadata": {
        "id": "y5MHyfPTTshb"
      },
      "source": [
        "### Дополнение 2: Зарплата вакансии Data Scientist в зависимости от валюты получения"
      ]
    },
    {
      "cell_type": "code",
      "execution_count": 91,
      "metadata": {
        "colab": {
          "base_uri": "https://localhost:8080/",
          "height": 480
        },
        "id": "denXZIElwzvO",
        "outputId": "5101be0d-2e82-4126-ab69-ffc179b1626b"
      },
      "outputs": [
        {
          "data": {
            "image/png": "[encoded data removed]",
            "text/plain": [
              "<Figure size 640x480 with 1 Axes>"
            ]
          },
          "metadata": {},
          "output_type": "display_data"
        },
        {
          "data": {
            "text/html": [
              "<div>\n",
              "<style scoped>\n",
              "    .dataframe tbody tr th:only-of-type {\n",
              "        vertical-align: middle;\n",
              "    }\n",
              "\n",
              "    .dataframe tbody tr th {\n",
              "        vertical-align: top;\n",
              "    }\n",
              "\n",
              "    .dataframe thead th {\n",
              "        text-align: right;\n",
              "    }\n",
              "</style>\n",
              "<table border=\"1\" class=\"dataframe\">\n",
              "  <thead>\n",
              "    <tr style=\"text-align: right;\">\n",
              "      <th></th>\n",
              "      <th>count</th>\n",
              "      <th>mean</th>\n",
              "      <th>std</th>\n",
              "      <th>min</th>\n",
              "      <th>25%</th>\n",
              "      <th>50%</th>\n",
              "      <th>75%</th>\n",
              "      <th>max</th>\n",
              "    </tr>\n",
              "    <tr>\n",
              "      <th>currency</th>\n",
              "      <th></th>\n",
              "      <th></th>\n",
              "      <th></th>\n",
              "      <th></th>\n",
              "      <th></th>\n",
              "      <th></th>\n",
              "      <th></th>\n",
              "      <th></th>\n",
              "    </tr>\n",
              "  </thead>\n",
              "  <tbody>\n",
              "    <tr>\n",
              "      <th>CAD</th>\n",
              "      <td>5.0</td>\n",
              "      <td>77787.00</td>\n",
              "      <td>19301.65</td>\n",
              "      <td>52396.0</td>\n",
              "      <td>69336.00</td>\n",
              "      <td>75774.0</td>\n",
              "      <td>87738.0</td>\n",
              "      <td>103691.0</td>\n",
              "    </tr>\n",
              "    <tr>\n",
              "      <th>EUR</th>\n",
              "      <td>22.0</td>\n",
              "      <td>57591.68</td>\n",
              "      <td>21531.70</td>\n",
              "      <td>21669.0</td>\n",
              "      <td>40486.25</td>\n",
              "      <td>52256.5</td>\n",
              "      <td>75370.0</td>\n",
              "      <td>91237.0</td>\n",
              "    </tr>\n",
              "    <tr>\n",
              "      <th>GBP</th>\n",
              "      <td>11.0</td>\n",
              "      <td>88177.36</td>\n",
              "      <td>41393.50</td>\n",
              "      <td>39263.0</td>\n",
              "      <td>60847.00</td>\n",
              "      <td>76958.0</td>\n",
              "      <td>110808.0</td>\n",
              "      <td>183228.0</td>\n",
              "    </tr>\n",
              "    <tr>\n",
              "      <th>INR</th>\n",
              "      <td>9.0</td>\n",
              "      <td>23838.33</td>\n",
              "      <td>11758.72</td>\n",
              "      <td>5679.0</td>\n",
              "      <td>16904.00</td>\n",
              "      <td>28399.0</td>\n",
              "      <td>31615.0</td>\n",
              "      <td>40481.0</td>\n",
              "    </tr>\n",
              "    <tr>\n",
              "      <th>Other</th>\n",
              "      <td>9.0</td>\n",
              "      <td>52822.44</td>\n",
              "      <td>45107.18</td>\n",
              "      <td>2859.0</td>\n",
              "      <td>20171.00</td>\n",
              "      <td>35735.0</td>\n",
              "      <td>86703.0</td>\n",
              "      <td>122346.0</td>\n",
              "    </tr>\n",
              "    <tr>\n",
              "      <th>USD</th>\n",
              "      <td>87.0</td>\n",
              "      <td>139712.76</td>\n",
              "      <td>58519.74</td>\n",
              "      <td>4000.0</td>\n",
              "      <td>103495.00</td>\n",
              "      <td>140000.0</td>\n",
              "      <td>166110.0</td>\n",
              "      <td>412000.0</td>\n",
              "    </tr>\n",
              "  </tbody>\n",
              "</table>\n",
              "</div>"
            ],
            "text/plain": [
              "          count       mean       std      min        25%       50%       75%  \\\n",
              "currency                                                                       \n",
              "CAD         5.0   77787.00  19301.65  52396.0   69336.00   75774.0   87738.0   \n",
              "EUR        22.0   57591.68  21531.70  21669.0   40486.25   52256.5   75370.0   \n",
              "GBP        11.0   88177.36  41393.50  39263.0   60847.00   76958.0  110808.0   \n",
              "INR         9.0   23838.33  11758.72   5679.0   16904.00   28399.0   31615.0   \n",
              "Other       9.0   52822.44  45107.18   2859.0   20171.00   35735.0   86703.0   \n",
              "USD        87.0  139712.76  58519.74   4000.0  103495.00  140000.0  166110.0   \n",
              "\n",
              "               max  \n",
              "currency            \n",
              "CAD       103691.0  \n",
              "EUR        91237.0  \n",
              "GBP       183228.0  \n",
              "INR        40481.0  \n",
              "Other     122346.0  \n",
              "USD       412000.0  "
            ]
          },
          "execution_count": 91,
          "metadata": {},
          "output_type": "execute_result"
        }
      ],
      "source": [
        "df = data[data['is_data_scientist'] == 1].copy()\n",
        "\n",
        "# новый столбец для валюты групирует вместе остальные валюты не входящие в топ 5 \n",
        "df['currency'] = df['salary_currency'].apply(lambda x: x if x in ['USD', 'GBP', 'EUR', 'CAD', 'INR'] else 'Other')\n",
        "\n",
        "ax = sns.boxplot(data=df, x='salary_in_usd', y='currency', orient='h', medianprops={\"color\": \"red\", \"linestyle\": '--'})\n",
        "ax.set(xlabel='Зарплата, USD', ylabel='Валюта')\n",
        "\n",
        "plt.title('Распределение зарплаты на вакансию Data Scientist по валюте')\n",
        "plt.show()\n",
        "\n",
        "data_agg = df.groupby('currency')['salary_in_usd'].describe().round(2)\n",
        "data_agg"
      ]
    },
    {
      "attachments": {},
      "cell_type": "markdown",
      "metadata": {
        "id": "y_SC_018yS76"
      },
      "source": [
        "Вывод: распределения зарплат различны для разных валют. Чтобы определить, являются ли эти различия статистически значимыми, в следующем разделе мы проведём статистические тесты."
      ]
    },
    {
      "attachments": {},
      "cell_type": "markdown",
      "metadata": {
        "id": "-UcttLBPfd8-"
      },
      "source": [
        "## Статистический анализ данных\n",
        "\n"
      ]
    },
    {
      "cell_type": "code",
      "execution_count": 92,
      "metadata": {
        "id": "sn3PGE23l7Ze"
      },
      "outputs": [],
      "source": [
        "# функция для принятия решения о нормальности\n",
        "def decision_normality(p):\n",
        "    print('p-value = {:.3f}'.format(p))\n",
        "    if p <= alpha:\n",
        "        print('p-значение меньше, чем заданный уровень значимости {:.2f}. Распределение отлично от нормального'.format(alpha))\n",
        "    else:\n",
        "        print('p-значение больше, чем заданный уровень значимости {:.2f}. Распределение является нормальным'.format(alpha))\n",
        "\n",
        "\n",
        "# функция для принятия решения об отклонении нулевой гипотезы\n",
        "def decision_hypothesis(p):\n",
        "    print('p-value = {:.3f}'.format(p))\n",
        "    if p <= alpha:\n",
        "        print('p-значение меньше, чем заданный уровень значимости {:.2f}. Отвергаем нулевую гипотезу в пользу альтернативной.'.format(alpha))\n",
        "    else:\n",
        "        print('p-значение больше, чем заданный уровень значимости {:.2f}. У нас нет оснований отвергнуть нулевую гипотезу.'.format(alpha))\n",
        "      "
      ]
    },
    {
      "attachments": {},
      "cell_type": "markdown",
      "metadata": {
        "id": "zxbl3BYLGKIW"
      },
      "source": [
        "### Наблюдается ли ежегодный рост зарплат у специалистов Data Scientist?\n",
        "\n",
        "**Сформулируем нулевую и альтернативные гипотезы**\n",
        "\n",
        "*Нулевая гипотеза* ($H_0$): размер зарплаты в 2022 году ($μ_1$) статистически меньше либо равно размеру зарплате в 2021 году ($μ_2$), что в свою очерень статистически меньше либо равно размеру зарплаты в 2021 году ($μ_3$).\n",
        "\n",
        "$$ H_0 : μ_1 <= μ_2 <= μ_3 $$\n",
        "\n",
        "*Альтернативная гипотеза* ($H_1$): размер зарплаты в 2022 году ($μ_1$) статистически больше, чем размер зарплаты в 2021 году ($μ_2$), что в свою очередь статистически больше размеру зарплаты в 2020 году ($μ_3$).\n",
        "\n",
        "$$ H_1 : μ_1 > μ_2 > μ_3 $$"
      ]
    },
    {
      "attachments": {},
      "cell_type": "markdown",
      "metadata": {
        "id": "Yi8l7ZWSl7Ze"
      },
      "source": [
        "**Проверка на нормальность**\n",
        "\n",
        "С помощью теста Шапиро-Уилка проверим, распределён ли признак нормально. Напомним гипотезы теста Шапиро-Уилка:\n",
        "\n",
        "*Нулевая гипотеза* ($H_0$): распределение данные является нормальным.\n",
        "\n",
        "*Альтернативная гипотеза* ($H_1$): распределение данных отлично от нормального."
      ]
    },
    {
      "cell_type": "code",
      "execution_count": 93,
      "metadata": {
        "colab": {
          "base_uri": "https://localhost:8080/"
        },
        "id": "bCxAGItPTHRe",
        "outputId": "334716f4-96c7-4a21-ca5f-c7d352adde2b"
      },
      "outputs": [
        {
          "name": "stdout",
          "output_type": "stream",
          "text": [
            "Для 2020:\n",
            "p-value = 0.000\n",
            "p-значение меньше, чем заданный уровень значимости 0.05. Распределение отлично от нормального\n",
            "Для 2021:\n",
            "p-value = 0.125\n",
            "p-значение больше, чем заданный уровень значимости 0.05. Распределение является нормальным\n",
            "Для 2022:\n",
            "p-value = 0.327\n",
            "p-значение больше, чем заданный уровень значимости 0.05. Распределение является нормальным\n"
          ]
        }
      ],
      "source": [
        "df = data[data['is_data_scientist'] == 1]\n",
        "\n",
        "# значения зарплаты вакансии Data Scientist\n",
        "salary_2020 = df.loc[data['work_year']==2020, 'salary_in_usd']\n",
        "salary_2021 = df.loc[data['work_year']==2021, 'salary_in_usd']\n",
        "salary_2022 = df.loc[data['work_year']==2022, 'salary_in_usd']\n",
        "\n",
        "\n",
        "# проводим тест Шапиро-Уилка\n",
        "print('Для 2020:')\n",
        "result = stats.shapiro(salary_2020)\n",
        "decision_normality(result[1])\n",
        "\n",
        "print('Для 2021:')\n",
        "result = stats.shapiro(salary_2021)\n",
        "decision_normality(result[1])\n",
        "\n",
        "print('Для 2022:')\n",
        "result = stats.shapiro(salary_2022)\n",
        "decision_normality(result[1])\n"
      ]
    },
    {
      "attachments": {},
      "cell_type": "markdown",
      "metadata": {
        "id": "IBOYMwmfTHRu"
      },
      "source": [
        "**Выберем подходящий статистический тест**\n",
        "\n",
        "Для выбора нужного теста воспользуемся алгоритмом выбора теста. Для этого ответим на следующие вопросы:\n",
        "* Какой тип у признака «Зарплата в USD»? — Количественный.\n",
        "* Сколько сравниваемых групп? — Три.\n",
        "* Группы зависимы? — Нет.\n",
        "* Признак распределён по нормальному закону? — Нет.\n",
        "\n",
        "Чтобы проверить нашу гипотезу, можно использовать критерий Краскела-Уоллиса для сравнения средних на основе рангов.\n",
        "\n",
        "**Проведём тест**"
      ]
    },
    {
      "cell_type": "code",
      "execution_count": 94,
      "metadata": {
        "colab": {
          "base_uri": "https://localhost:8080/"
        },
        "id": "xaQuaMV8THRu",
        "outputId": "0e37fc3b-bd2e-4166-8d52-f373fd82c672"
      },
      "outputs": [
        {
          "name": "stdout",
          "output_type": "stream",
          "text": [
            "p-value = 0.000\n",
            "p-значение меньше, чем заданный уровень значимости 0.05. Отвергаем нулевую гипотезу в пользу альтернативной.\n"
          ]
        }
      ],
      "source": [
        "# проводим тест\n",
        "H0 = 'Нулевая гипотеза: медианы зарплат в 2020 году (m1), в 2021 году (m2) и 2022 году (m3) равны.'\n",
        "H1 = 'Альтернативная гипотеза: медианы зарплат в 2020 году (m1), в 2021 году (m2) и 2022 году (m3) не равны.'\n",
        "\n",
        "# проводим тест\n",
        "_, p = stats.kruskal(salary_2020, salary_2021, salary_2022)\n",
        "decision_hypothesis(p)\n"
      ]
    },
    {
      "attachments": {},
      "cell_type": "markdown",
      "metadata": {},
      "source": [
        "**Промежуточный вывод**\n",
        "К сожалению критерий Краскела-Уоллиса говорит нам лишь о том, что зарплаты в 2020, 2021 и 2022 годах статистически значимо отличаются, поэтому проведем несколько дополнительных тестов, которые должны подтвердить рост зарплат."
      ]
    },
    {
      "attachments": {},
      "cell_type": "markdown",
      "metadata": {},
      "source": [
        "**Выберем подходящий статистический тест для зарплат из 2020 и 2021 годов**\n",
        "\n",
        "Для выбора нужного теста воспользуемся алгоритмом выбора теста. Для этого ответим на следующие вопросы:\n",
        "* Какой тип у признака «Зарплата в USD»? — Количественный.\n",
        "* Сколько сравниваемых групп? — Две.\n",
        "* Группы зависимы? — Нет.\n",
        "* Признак распределён по нормальному закону? — Нет.\n",
        "\n",
        "Для проверки нашей гипотезы можно использовать U-критерий Манна — Уитни.\n",
        "\n",
        "**Проведём тест**"
      ]
    },
    {
      "cell_type": "code",
      "execution_count": 95,
      "metadata": {},
      "outputs": [
        {
          "name": "stdout",
          "output_type": "stream",
          "text": [
            "p-value = 0.640\n",
            "p-значение больше, чем заданный уровень значимости 0.05. У нас нет оснований отвергнуть нулевую гипотезу.\n"
          ]
        }
      ],
      "source": [
        "H0 = 'Нулевая гипотеза: медиана зарплат в 2020 году (m1) не отличается от медианы зарплат в 2021 году (m2).'\n",
        "H1 = 'Альтернативная гипотеза: медианы зарплат в 2020 году (m1) отличается от медианы зарплат в 2021 году (m2).'\n",
        "\n",
        "_, p = stats.mannwhitneyu(salary_2020, salary_2021, alternative='two-sided')\n",
        "decision_hypothesis(p)"
      ]
    },
    {
      "attachments": {},
      "cell_type": "markdown",
      "metadata": {},
      "source": [
        "**Вывод** \n",
        "Не было статистически значемых изменений в зарплатах 2020 и 2021 годов"
      ]
    },
    {
      "attachments": {},
      "cell_type": "markdown",
      "metadata": {},
      "source": [
        "**Выберем подходящий статистический тест для зарплат 2021 и 2022 годов**\n",
        "\n",
        "Для выбора нужного теста воспользуемся алгоритмом выбора теста. Для этого ответим на следующие вопросы:\n",
        "* Какой тип у признака «Зарплата в USD»? — Количественный.\n",
        "* Сколько сравниваемых групп? — Две.\n",
        "* Группы зависимы? — Нет.\n",
        "* Признак распределён по нормальному закону? — Да.\n",
        "\n",
        "Чтобы проверить нашу гипотезу, можно использовать двухвыборочный t-критерий\n",
        "\n",
        "**Проведём тест**"
      ]
    },
    {
      "cell_type": "code",
      "execution_count": 96,
      "metadata": {},
      "outputs": [
        {
          "name": "stdout",
          "output_type": "stream",
          "text": [
            "Тест на равенство дисперсий\n",
            "p-value = 0.445\n",
            "Дисперсии одинаковы, в stats.ttest_ind нужно использовать параметр equal_var=True.\n",
            "\n",
            "Тест на равенство средних\n",
            "p-value = 0.000\n",
            "p-значение меньше, чем заданный уровень значимости 0.05. Отвергаем нулевую гипотезу в пользу альтернативной.\n"
          ]
        }
      ],
      "source": [
        "H0 = 'Нулевая гипотеза: средняя зарплаа в 2021 году (m1) больше или равна средней зарплаты в 2022 году (m2).'\n",
        "H1 = 'Альтернативная гипотеза: средняя зарплата в 2021 году (m1) меньше средней зарплаты в 2022 году (m2).'\n",
        "\n",
        "# Прежде чем использовать двухвыборочный t-критерий, необходимо провести\n",
        "# тест Левена на равенство дисперсий\n",
        "print('Тест на равенство дисперсий')\n",
        "_, p = stats.levene(salary_2021, salary_2022)\n",
        "print('p-value = {:.3f}'.format(p))\n",
        "if p < alpha:\n",
        "    print('Дисперсии не одинаковы, в stats.ttest_ind нужно использовать параметр equal_var=False.')\n",
        "else:\n",
        "    print('Дисперсии одинаковы, в stats.ttest_ind нужно использовать параметр equal_var=True.')\n",
        "    \n",
        "# проводим тест на сравнение средних в группах\n",
        "print('\\nТест на равенство средних')\n",
        "_, p = stats.ttest_ind(salary_2021, salary_2022, alternative='less', equal_var=True)\n",
        "decision_hypothesis(p)"
      ]
    },
    {
      "attachments": {},
      "cell_type": "markdown",
      "metadata": {},
      "source": [
        "### Вывод\n",
        "Отвечая на вопрос \"Наблюдается ли ежегодный рост зарплат у специалистов Data Scientist?\", можно ответить, что ежегодный рост зарплат у специалистов Data Scientist вырос к 2022 году, а 2021 году статистически значимых изменений по сравнению с 2020 году не произошли."
      ]
    },
    {
      "attachments": {},
      "cell_type": "markdown",
      "metadata": {
        "id": "JW47VJo3Q99s"
      },
      "source": [
        "### Как соотносятся зарплаты Data Scientist и Data Engineer в 2022 году?\n",
        "Поскольку визульано зарплаты Data Scientist выше зарплат Data Engineer в 2022 году, попробуем проверить является ли это нераверство статистически значимым.\n",
        "\n",
        "**Сформулируем нулевую и альтернативные гипотезы**\n",
        "\n",
        "*Нулевая гипотеза* ($H_0$): зарплата Data Scientist ($μ_1$) статистически меньше либо равна зарплате Data Engineer в 2022 году ($μ_2$).\n",
        "\n",
        "$$ H_0 : μ_1 <= μ_2$$\n",
        "\n",
        "*Альтернативная гипотеза* ($H_1$): зарплата Data Scientist ($μ_1$) статистически больше, чем зарплата Data Engineer в 2022 году ($μ_2$).\n",
        "$$ H_1 : μ_1 > μ_2$$\n",
        "\n",
        "\n"
      ]
    },
    {
      "attachments": {},
      "cell_type": "markdown",
      "metadata": {
        "id": "kMk6Q5sRl7Zf"
      },
      "source": [
        "**Проверка на нормальность**\n",
        "\n",
        "С помощью теста Шапиро-Уилка проверим, распределён ли признак нормально."
      ]
    },
    {
      "cell_type": "code",
      "execution_count": 97,
      "metadata": {
        "colab": {
          "base_uri": "https://localhost:8080/"
        },
        "id": "JxXzC7-_RNDj",
        "outputId": "6e4c2c71-7d7d-4510-883c-8a52b5f64149"
      },
      "outputs": [
        {
          "name": "stdout",
          "output_type": "stream",
          "text": [
            "Для Data Scientist:\n",
            "p-value = 0.327\n",
            "p-значение больше, чем заданный уровень значимости 0.05. Распределение является нормальным\n",
            "Для Data Engineer:\n",
            "p-value = 0.010\n",
            "p-значение меньше, чем заданный уровень значимости 0.05. Распределение отлично от нормального\n"
          ]
        }
      ],
      "source": [
        "# значения зарплаты вакансии Data Scientist\n",
        "ds_salary_2022 = data[data['is_data_scientist'] == 1].loc[data['work_year']==2022, 'salary_in_usd']\n",
        "\n",
        "# значения зарплаты вакансии Data Engineer\n",
        "de_salary_2022 = data[data['is_data_engineer'] == 1].loc[data['work_year']==2022, 'salary_in_usd']\n",
        "\n",
        "# проводим тест Шапиро-Уилка\n",
        "print('Для Data Scientist:')\n",
        "result = stats.shapiro(ds_salary_2022)\n",
        "decision_normality(result[1])\n",
        "\n",
        "print('Для Data Engineer:')\n",
        "result = stats.shapiro(de_salary_2022)\n",
        "decision_normality(result[1])"
      ]
    },
    {
      "attachments": {},
      "cell_type": "markdown",
      "metadata": {
        "id": "gKIiBvTMRNDk"
      },
      "source": [
        "**Выберем подходящий статистический тест**\n",
        "\n",
        "Для выбора нужного теста воспользуемся алгоритмом выбора теста. Для этого ответим на следующие вопросы:\n",
        "* Какой тип у признака «Размер страховых выплат»? — Количественный.\n",
        "* Сколько сравниваемых групп? — Две.\n",
        "* Группы зависимы? — Нет.\n",
        "* Признак распределён по нормальному закону? — Нет.\n",
        "\n",
        "Для проверки нашей гипотезы можно использовать U-критерий Манна — Уитни.\n",
        "\n",
        "**Проведём тест**\n"
      ]
    },
    {
      "cell_type": "code",
      "execution_count": 98,
      "metadata": {
        "colab": {
          "base_uri": "https://localhost:8080/"
        },
        "id": "93N51wSsRNDk",
        "outputId": "0df1775e-94ad-41b1-d7fc-4d91335fc590"
      },
      "outputs": [
        {
          "name": "stdout",
          "output_type": "stream",
          "text": [
            "p-value = 0.077\n",
            "p-значение больше, чем заданный уровень значимости 0.05. У нас нет оснований отвергнуть нулевую гипотезу.\n"
          ]
        }
      ],
      "source": [
        "# проводим тест\n",
        "_, p = stats.mannwhitneyu(ds_salary_2022, de_salary_2022, alternative='greater')\n",
        "decision_hypothesis(p)"
      ]
    },
    {
      "cell_type": "code",
      "execution_count": 99,
      "metadata": {},
      "outputs": [
        {
          "name": "stdout",
          "output_type": "stream",
          "text": [
            "p-value = 0.155\n",
            "p-значение больше, чем заданный уровень значимости 0.05. У нас нет оснований отвергнуть нулевую гипотезу.\n"
          ]
        }
      ],
      "source": [
        "# проведем двухсторонний тест U-критерий Манна — Уитни, чтобы подтвердить, что зарплаты статистически не отличаются\n",
        "_, p = stats.mannwhitneyu(ds_salary_2022, de_salary_2022, alternative='two-sided')\n",
        "decision_hypothesis(p)"
      ]
    },
    {
      "attachments": {},
      "cell_type": "markdown",
      "metadata": {
        "id": "yZogeviaRNDk"
      },
      "source": [
        "### Вывод\n",
        "\n",
        "Таким образом, не смотря на то, что медиана зарплат Data Scientist больше медианы зарплат Data Engineer в 2022 году, это различие статистически не значимо."
      ]
    },
    {
      "attachments": {},
      "cell_type": "markdown",
      "metadata": {},
      "source": [
        "### Как соотносятся зарплаты специалистов Data Scientist в компаниях различных размеров?\n",
        "\n",
        "**Сформулируем нулевую и альтернативные гипотезы**\n",
        "\n",
        "*Нулевая гипотеза*: зарплаты специалистов Data Scientist не отличается в компаниях различных размеров: S - маленьких ($μ_1$), M - средних ($μ_2$), L - больших ($μ_3$).\n",
        "\n",
        "$$ H_0 : μ_1 = μ_2 = μ_3$$\n",
        "\n",
        "*Альтернативная гипотеза*: зарплаты специалистов Data Scientist отличается в компаниях различных размеровх: S - маленьких ($μ_1$), M - средних ($μ_2$), L - больших ($μ_3$).\n",
        "\n",
        "$$ H_1 : μ_1 \\neq μ_2 \\neq μ_3 \\neq μ_4$$\n",
        "\n"
      ]
    },
    {
      "attachments": {},
      "cell_type": "markdown",
      "metadata": {},
      "source": [
        "**Проверка на нормальность**\n",
        "\n",
        "С помощью теста Шапиро-Уилка проверим, распределён ли признак нормально."
      ]
    },
    {
      "cell_type": "code",
      "execution_count": 100,
      "metadata": {},
      "outputs": [
        {
          "name": "stdout",
          "output_type": "stream",
          "text": [
            "Для маленьких компаний:\n",
            "p-value = 0.000\n",
            "p-значение меньше, чем заданный уровень значимости 0.05. Распределение отлично от нормального\n",
            "Для средних компаний:\n",
            "p-value = 0.000\n",
            "p-значение меньше, чем заданный уровень значимости 0.05. Распределение отлично от нормального\n",
            "Для больших компаний:\n",
            "p-value = 0.000\n",
            "p-значение меньше, чем заданный уровень значимости 0.05. Распределение отлично от нормального\n"
          ]
        }
      ],
      "source": [
        "# значения страховых выплат\n",
        "salary_s = data.loc[data['company_size']=='S', 'salary_in_usd']\n",
        "salary_m = data.loc[data['company_size']=='M', 'salary_in_usd']\n",
        "salary_l = data.loc[data['company_size']=='L', 'salary_in_usd']\n",
        "\n",
        "# проводим тест Шапиро-Уилка\n",
        "print('Для маленьких компаний:')\n",
        "result = stats.shapiro(salary_s)\n",
        "decision_normality(result[1])\n",
        "\n",
        "print('Для средних компаний:')\n",
        "result = stats.shapiro(salary_m)\n",
        "decision_normality(result[1])\n",
        "\n",
        "print('Для больших компаний:')\n",
        "result = stats.shapiro(salary_l)\n",
        "decision_normality(result[1])\n"
      ]
    },
    {
      "attachments": {},
      "cell_type": "markdown",
      "metadata": {},
      "source": [
        "**Выберем подходящий статистический тест**\n",
        "\n",
        "Для выбора нужного теста воспользуемся алгоритмом выбора теста. Для этого ответим на следующие вопросы:\n",
        "* Какой тип у признака «Зарплата в USD»? — Количественный.\n",
        "* Сколько сравниваемых групп? — Три.\n",
        "* Группы зависимы? — Нет.\n",
        "* Признак распределён по нормальному закону? — Нет. \n",
        "\n",
        "Для проверки нашей гипотезы можно использовать критерий Краскела — Уоллиса.\n",
        "\n",
        "**Проведём тест**"
      ]
    },
    {
      "cell_type": "code",
      "execution_count": 101,
      "metadata": {},
      "outputs": [
        {
          "name": "stdout",
          "output_type": "stream",
          "text": [
            "p-value = 0.000\n",
            "p-значение меньше, чем заданный уровень значимости 0.05. Отвергаем нулевую гипотезу в пользу альтернативной.\n"
          ]
        }
      ],
      "source": [
        "# проводим тест\n",
        "_, p = stats.kruskal(salary_s, salary_m, salary_l)\n",
        "decision_hypothesis(p)"
      ]
    },
    {
      "attachments": {},
      "cell_type": "markdown",
      "metadata": {},
      "source": [
        "**Промежуточный вывод**\n",
        "\n",
        "Зарплаты статистически отличаются в компаниях разных размеров. Сравним их попарно используя U-критерий Манна — Уитни.\n",
        "Визуально у нас заплаты распледеляются так (для компаний: S - маленьких ($μ_1$),  L - больших ($μ_3$) и M - средних ($μ_2$)):\n",
        "\n",
        "$$ μ_1 < μ_3 < μ_2 $$\n",
        "\n",
        "Это будут у нас альтернативные гипотезы для каждой пары. А нулевые гипотезы для каждой пары будут следующие:\n",
        "\n",
        "$$ μ_1 >= μ_3 >= μ_2 $$\n"
      ]
    },
    {
      "cell_type": "code",
      "execution_count": 102,
      "metadata": {},
      "outputs": [
        {
          "name": "stdout",
          "output_type": "stream",
          "text": [
            "Для пары: S и L:\n",
            "p-value = 0.000\n",
            "p-значение меньше, чем заданный уровень значимости 0.05. Отвергаем нулевую гипотезу в пользу альтернативной.\n",
            "Для пары: S и M:\n",
            "p-value = 0.000\n",
            "p-значение меньше, чем заданный уровень значимости 0.05. Отвергаем нулевую гипотезу в пользу альтернативной.\n",
            "Для пары: L и M:\n",
            "p-value = 0.108\n",
            "p-значение больше, чем заданный уровень значимости 0.05. У нас нет оснований отвергнуть нулевую гипотезу.\n",
            "Для пары: L и M проведем еще и двух-сторонний тест, чтобы доказать статистически незначимые различия в зарплатах:\n",
            "p-value = 0.216\n",
            "p-значение больше, чем заданный уровень значимости 0.05. У нас нет оснований отвергнуть нулевую гипотезу.\n"
          ]
        }
      ],
      "source": [
        "\n",
        "print('Для пары: S и L:')\n",
        "_, p = stats.mannwhitneyu(salary_s, salary_l, alternative='less')\n",
        "decision_hypothesis(p)\n",
        "\n",
        "print('Для пары: S и M:')\n",
        "_, p = stats.mannwhitneyu(salary_s, salary_m, alternative='less')\n",
        "decision_hypothesis(p)\n",
        "\n",
        "print('Для пары: L и M:')\n",
        "_, p = stats.mannwhitneyu(salary_l, salary_m, alternative='less')\n",
        "decision_hypothesis(p)\n",
        "\n",
        "print('Для пары: L и M проведем еще и двух-сторонний тест, чтобы доказать статистически незначимые различия в зарплатах:')\n",
        "_, p = stats.mannwhitneyu(salary_l, salary_m, alternative='two-sided')\n",
        "decision_hypothesis(p)"
      ]
    },
    {
      "attachments": {},
      "cell_type": "markdown",
      "metadata": {},
      "source": [
        "### Вывод\n",
        "\n",
        "Таким образом, зарплаты специалистов Data Scientist в маленьких компаниях стистически меньше зарплат этих же специалистов в больших и средних компаний. Не смотря на то, что медианная зарплата выше в средних компаниях по сравнению с бошими компаниями, это различие статистически не значимо."
      ]
    },
    {
      "attachments": {},
      "cell_type": "markdown",
      "metadata": {},
      "source": [
        "### Есть ли связь между наличием должностей Data Scientist и Data Engineer и размером компании?\n",
        "\n",
        "**Сформулируем нулевую и альтернативные гипотезы**\n",
        "\n",
        "*Нулевая гипотеза*: между тем, есть ли наличием должностей Data Scientist и Data Engineer, и размером компании нет взаимосвязи (признаки независимы).\n",
        "\n",
        "*Альтернативная гипотеза*: между тем, есть ли наличием должностей Data Scientist и Data Engineer, и размером компании есть взаимосвязь (признаки зависимы).\n"
      ]
    },
    {
      "attachments": {},
      "cell_type": "markdown",
      "metadata": {},
      "source": [
        "**Выберем подходящий статистический тест**\n",
        "\n",
        "Для выбора нужного теста воспользуемся алгоритмом выбора теста. Для этого ответим на следующие вопросы:\n",
        "* Какой тип у признака «Размер компании»? — Категориальный.\n",
        "* Сколько сравниваемых групп? — Две.\n",
        "* Проверяется независимость групп? — Да.\n",
        "\n",
        "Для проверки нашей гипотезы можно использовать критерий ${\\chi}^2$ (хи-квадрат).\n",
        "\n",
        "**Проведём тест**"
      ]
    },
    {
      "cell_type": "code",
      "execution_count": 103,
      "metadata": {},
      "outputs": [
        {
          "data": {
            "text/html": [
              "<div>\n",
              "<style scoped>\n",
              "    .dataframe tbody tr th:only-of-type {\n",
              "        vertical-align: middle;\n",
              "    }\n",
              "\n",
              "    .dataframe tbody tr th {\n",
              "        vertical-align: top;\n",
              "    }\n",
              "\n",
              "    .dataframe thead th {\n",
              "        text-align: right;\n",
              "    }\n",
              "</style>\n",
              "<table border=\"1\" class=\"dataframe\">\n",
              "  <thead>\n",
              "    <tr style=\"text-align: right;\">\n",
              "      <th>has_ds_or_de</th>\n",
              "      <th>False</th>\n",
              "      <th>True</th>\n",
              "    </tr>\n",
              "    <tr>\n",
              "      <th>company_size</th>\n",
              "      <th></th>\n",
              "      <th></th>\n",
              "    </tr>\n",
              "  </thead>\n",
              "  <tbody>\n",
              "    <tr>\n",
              "      <th>S</th>\n",
              "      <td>56</td>\n",
              "      <td>27</td>\n",
              "    </tr>\n",
              "    <tr>\n",
              "      <th>M</th>\n",
              "      <td>160</td>\n",
              "      <td>166</td>\n",
              "    </tr>\n",
              "    <tr>\n",
              "      <th>L</th>\n",
              "      <td>116</td>\n",
              "      <td>82</td>\n",
              "    </tr>\n",
              "  </tbody>\n",
              "</table>\n",
              "</div>"
            ],
            "text/plain": [
              "has_ds_or_de  False  True \n",
              "company_size              \n",
              "S                56     27\n",
              "M               160    166\n",
              "L               116     82"
            ]
          },
          "metadata": {},
          "output_type": "display_data"
        }
      ],
      "source": [
        "df = data.copy()\n",
        "df['has_ds_or_de'] = df.apply(lambda x: x['is_data_scientist'] == 1 or x['is_data_engineer'] == 1, axis=1)\n",
        "\n",
        "cross_tab = pd.crosstab(index=df['company_size'], columns=df['has_ds_or_de'])\n",
        "display(cross_tab)"
      ]
    },
    {
      "cell_type": "code",
      "execution_count": 104,
      "metadata": {},
      "outputs": [
        {
          "name": "stdout",
          "output_type": "stream",
          "text": [
            "p-value = 0.004\n",
            "p-значение меньше, чем заданный уровень значимости 0.05. Отвергаем нулевую гипотезу в пользу альтернативной.\n"
          ]
        }
      ],
      "source": [
        "# проводим тест\n",
        "_, p, _, _ = stats.chi2_contingency(cross_tab)\n",
        "decision_hypothesis(p)"
      ]
    },
    {
      "attachments": {},
      "cell_type": "markdown",
      "metadata": {},
      "source": [
        "### Вывод\n",
        "\n",
        "Наличием должностей Data Scientist и Data Engineer, и размеры компании, скорее всего, связаны. А каким образом связаны, я затрудняюсь ответить - по таблице сопряженности ничего не могу сказать. Возможно, требуются еще тесты, о которых я не знаю."
      ]
    },
    {
      "cell_type": "markdown",
      "metadata": {},
      "source": [
        "### Дополнение 1: Как соотносятся зарплаты Data Scientist в зависимости от опыта\n",
        "\n",
        "Очевидно, что опыт влияет на зарплату в любых сферах - чем больше опыта, тем выше зарплата. Проверим, является ли эта разница для вакансии Data Scientist статистически значимой.\n",
        "\n",
        "**Сформулируем нулевую и альтернативные гипотезы**\n",
        "\n",
        "*Нулевая гипотеза*: зарплаты специалистов Data Scientist с разным опыто не отличаются: EN - Entry-level/Junior ($μ_1$), MI - Mid-level/Intermediate ($μ_2$), SE - Senior-level/Expert ($μ_3$).\n",
        "\n",
        "$$ H_0 : μ_1 = μ_2 = μ_3$$\n",
        "\n",
        "*Альтернативная гипотеза*: зарплаты специалистов Data Scientist с разным опыто отличаются: EN - Entry-level/Junior ($μ_1$), MI - Mid-level/Intermediate ($μ_2$), SE - Senior-level/Expert ($μ_3$).\n",
        "\n",
        "$$ H_1 : μ_1 \\neq μ_2 \\neq μ_3 \\neq μ_4$$"
      ]
    },
    {
      "cell_type": "code",
      "execution_count": 105,
      "metadata": {},
      "outputs": [
        {
          "data": {
            "text/html": [
              "<div>\n",
              "<style scoped>\n",
              "    .dataframe tbody tr th:only-of-type {\n",
              "        vertical-align: middle;\n",
              "    }\n",
              "\n",
              "    .dataframe tbody tr th {\n",
              "        vertical-align: top;\n",
              "    }\n",
              "\n",
              "    .dataframe thead th {\n",
              "        text-align: right;\n",
              "    }\n",
              "</style>\n",
              "<table border=\"1\" class=\"dataframe\">\n",
              "  <thead>\n",
              "    <tr style=\"text-align: right;\">\n",
              "      <th></th>\n",
              "      <th>count</th>\n",
              "      <th>mean</th>\n",
              "      <th>std</th>\n",
              "      <th>min</th>\n",
              "      <th>25%</th>\n",
              "      <th>50%</th>\n",
              "      <th>75%</th>\n",
              "      <th>max</th>\n",
              "    </tr>\n",
              "    <tr>\n",
              "      <th>experience_level</th>\n",
              "      <th></th>\n",
              "      <th></th>\n",
              "      <th></th>\n",
              "      <th></th>\n",
              "      <th></th>\n",
              "      <th></th>\n",
              "      <th></th>\n",
              "      <th></th>\n",
              "    </tr>\n",
              "  </thead>\n",
              "  <tbody>\n",
              "    <tr>\n",
              "      <th>EN</th>\n",
              "      <td>22.0</td>\n",
              "      <td>55330.909091</td>\n",
              "      <td>31237.823453</td>\n",
              "      <td>4000.0</td>\n",
              "      <td>31474.0</td>\n",
              "      <td>50483.5</td>\n",
              "      <td>85027.25</td>\n",
              "      <td>105000.0</td>\n",
              "    </tr>\n",
              "    <tr>\n",
              "      <th>MI</th>\n",
              "      <td>60.0</td>\n",
              "      <td>82039.133333</td>\n",
              "      <td>46869.579661</td>\n",
              "      <td>2859.0</td>\n",
              "      <td>41768.0</td>\n",
              "      <td>77479.0</td>\n",
              "      <td>118264.75</td>\n",
              "      <td>200000.0</td>\n",
              "    </tr>\n",
              "    <tr>\n",
              "      <th>SE</th>\n",
              "      <td>61.0</td>\n",
              "      <td>152971.016393</td>\n",
              "      <td>58985.402166</td>\n",
              "      <td>20171.0</td>\n",
              "      <td>120000.0</td>\n",
              "      <td>140400.0</td>\n",
              "      <td>180000.00</td>\n",
              "      <td>412000.0</td>\n",
              "    </tr>\n",
              "    <tr>\n",
              "      <th>EX</th>\n",
              "      <td>0.0</td>\n",
              "      <td>NaN</td>\n",
              "      <td>NaN</td>\n",
              "      <td>NaN</td>\n",
              "      <td>NaN</td>\n",
              "      <td>NaN</td>\n",
              "      <td>NaN</td>\n",
              "      <td>NaN</td>\n",
              "    </tr>\n",
              "  </tbody>\n",
              "</table>\n",
              "</div>"
            ],
            "text/plain": [
              "                  count           mean           std      min       25%  \\\n",
              "experience_level                                                          \n",
              "EN                 22.0   55330.909091  31237.823453   4000.0   31474.0   \n",
              "MI                 60.0   82039.133333  46869.579661   2859.0   41768.0   \n",
              "SE                 61.0  152971.016393  58985.402166  20171.0  120000.0   \n",
              "EX                  0.0            NaN           NaN      NaN       NaN   \n",
              "\n",
              "                       50%        75%       max  \n",
              "experience_level                                 \n",
              "EN                 50483.5   85027.25  105000.0  \n",
              "MI                 77479.0  118264.75  200000.0  \n",
              "SE                140400.0  180000.00  412000.0  \n",
              "EX                     NaN        NaN       NaN  "
            ]
          },
          "metadata": {},
          "output_type": "display_data"
        }
      ],
      "source": [
        "# выбираем специалистов Data Scientist с опытами EN, MI и SE\n",
        "df = data[(data['is_data_scientist'] == 1) & ((data['experience_level'] == 'EN') | (data['experience_level'] == 'MI') | (data['experience_level'] == 'SE'))]\n",
        "\n",
        "# находим две записи-выбросы для опыта SE (из секции EDA) - минимальное и максимальное, и удаляем их\n",
        "display(df.groupby('experience_level')['salary_in_usd'].describe())\n",
        "df = df.drop(df[(df['experience_level'] == 'SE') & ((df['salary_in_usd'] == 20171) | (df['salary_in_usd'] == 412000))].index)"
      ]
    },
    {
      "cell_type": "markdown",
      "metadata": {},
      "source": [
        "**Проверка на нормальность**\n",
        "\n",
        "С помощью теста Шапиро-Уилка проверим, распределён ли признак нормально."
      ]
    },
    {
      "cell_type": "markdown",
      "metadata": {},
      "source": [
        "Сперва проверим на данных с выбросами (интересно, влияют ли выбросы на результаты):"
      ]
    },
    {
      "cell_type": "code",
      "execution_count": 106,
      "metadata": {},
      "outputs": [
        {
          "name": "stdout",
          "output_type": "stream",
          "text": [
            "Для Entry-level/Junior:\n",
            "p-value = 0.000\n",
            "p-значение меньше, чем заданный уровень значимости 0.05. Распределение отлично от нормального\n",
            "Для Mid-level/Intermediate:\n",
            "p-value = 0.000\n",
            "p-значение меньше, чем заданный уровень значимости 0.05. Распределение отлично от нормального\n",
            "Для Senior-level/Expert:\n",
            "p-value = 0.000\n",
            "p-значение меньше, чем заданный уровень значимости 0.05. Распределение отлично от нормального\n"
          ]
        }
      ],
      "source": [
        "# значения страховых выплат\n",
        "salary_en = data.loc[data['experience_level']=='EN', 'salary_in_usd']\n",
        "salary_mi = data.loc[data['experience_level']=='MI', 'salary_in_usd']\n",
        "salary_se = data.loc[data['experience_level']=='SE', 'salary_in_usd']\n",
        "\n",
        "# проводим тест Шапиро-Уилка\n",
        "print('Для Entry-level/Junior:')\n",
        "result = stats.shapiro(salary_en)\n",
        "decision_normality(result[1])\n",
        "\n",
        "print('Для Mid-level/Intermediate:')\n",
        "result = stats.shapiro(salary_mi)\n",
        "decision_normality(result[1])\n",
        "\n",
        "print('Для Senior-level/Expert:')\n",
        "result = stats.shapiro(salary_se)\n",
        "decision_normality(result[1])\n"
      ]
    },
    {
      "cell_type": "markdown",
      "metadata": {},
      "source": [
        "А теперь на данных без выбросов:"
      ]
    },
    {
      "cell_type": "code",
      "execution_count": 107,
      "metadata": {},
      "outputs": [
        {
          "name": "stdout",
          "output_type": "stream",
          "text": [
            "Для Entry-level/Junior:\n",
            "p-value = 0.174\n",
            "p-значение больше, чем заданный уровень значимости 0.05. Распределение является нормальным\n",
            "Для Mid-level/Intermediate:\n",
            "p-value = 0.178\n",
            "p-значение больше, чем заданный уровень значимости 0.05. Распределение является нормальным\n",
            "Для Senior-level/Expert:\n",
            "p-value = 0.309\n",
            "p-значение больше, чем заданный уровень значимости 0.05. Распределение является нормальным\n"
          ]
        }
      ],
      "source": [
        "# значения страховых выплат\n",
        "salary_en = df.loc[df['experience_level']=='EN', 'salary_in_usd']\n",
        "salary_mi = df.loc[df['experience_level']=='MI', 'salary_in_usd']\n",
        "salary_se = df.loc[df['experience_level']=='SE', 'salary_in_usd']\n",
        "\n",
        "# проводим тест Шапиро-Уилка\n",
        "print('Для Entry-level/Junior:')\n",
        "result = stats.shapiro(salary_en)\n",
        "decision_normality(result[1])\n",
        "\n",
        "print('Для Mid-level/Intermediate:')\n",
        "result = stats.shapiro(salary_mi)\n",
        "decision_normality(result[1])\n",
        "\n",
        "print('Для Senior-level/Expert:')\n",
        "result = stats.shapiro(salary_se)\n",
        "decision_normality(result[1])\n"
      ]
    },
    {
      "cell_type": "markdown",
      "metadata": {},
      "source": [
        "**Вывод**\n",
        "\n",
        "Выбросы влияют на результаты теста, поэтому дальше работаем с данными, где выбросы были исключены."
      ]
    },
    {
      "cell_type": "markdown",
      "metadata": {},
      "source": [
        "**Выберем подходящий статистический тест**\n",
        "\n",
        "Для выбора нужного теста воспользуемся алгоритмом выбора теста. Для этого ответим на следующие вопросы:\n",
        "* Какой тип у признака «Зарплата в USD»? — Количественный.\n",
        "* Сколько сравниваемых групп? — Три.\n",
        "* Группы зависимы? — Нет.\n",
        "* Признак распределён по нормальному закону? — Да. \n",
        "\n",
        "Для проверки нашей гипотезы можно использовать Однофакторный дисперсионный анализ (ANOVA).\n",
        "\n",
        "**Проведём тест**"
      ]
    },
    {
      "cell_type": "code",
      "execution_count": 108,
      "metadata": {},
      "outputs": [
        {
          "name": "stdout",
          "output_type": "stream",
          "text": [
            "Тест на равенство дисперсий\n",
            "p-value = 0.128\n",
            "Дисперсии одинаковы, мы можем использовать тест ANOVA\n",
            "\n",
            "Тест на равенство средних (ANOVA)\n",
            "p-value = 0.000\n",
            "p-значение меньше, чем заданный уровень значимости 0.05. Отвергаем нулевую гипотезу в пользу альтернативной.\n"
          ]
        }
      ],
      "source": [
        "# но сначала проверим выбырки на равенство дисперсий\n",
        "\n",
        "print('Тест на равенство дисперсий')\n",
        "result = stats.levene(salary_en, salary_mi, salary_se)\n",
        "p = result[1]\n",
        "print('p-value = {:.3f}'.format(p))\n",
        "# интерпретируем результат\n",
        "if p <= alpha:\n",
        "    print('Дисперсии не одинаковы, нужно использовать непараметрический тест')\n",
        "else:\n",
        "    print('Дисперсии одинаковы, мы можем использовать тест ANOVA')\n",
        "\n",
        "# проводим тест на сравнение средних в группах\n",
        "print('\\nТест на равенство средних (ANOVA)')\n",
        "_, p = stats.f_oneway(salary_en, salary_mi, salary_se)\n",
        "decision_hypothesis(p)\n"
      ]
    },
    {
      "cell_type": "markdown",
      "metadata": {},
      "source": [
        "**Промежуточный вывод**\n",
        "\n",
        "Зарплаты статистически отличаются от опыта. \n",
        "\n",
        "Сравним их попарно используя двух выборочный t-критерий (поскольку зарплаты для всех уровней опыта распределены нормально).\n",
        "\n",
        "Визуально у нас заплаты распледеляются так (для компаний: EN - Entry-level/Junior ($μ_1$),  MI - Mid-level/Intermediate ($μ_2$) и SE - Senior-level/Expert ($μ_3$)):\n",
        "\n",
        "$$ μ_1 < μ_2 < μ_3 $$\n",
        "\n",
        "Это будут у нас альтернативные гипотезы для каждой пары. \n",
        "\n",
        "А нулевые гипотезы для каждой пары будут следующие:\n",
        "\n",
        "$$ μ_1 >= μ_2 >= μ_3 $$\n"
      ]
    },
    {
      "cell_type": "markdown",
      "metadata": {},
      "source": [
        "- пара EN/MI"
      ]
    },
    {
      "cell_type": "code",
      "execution_count": 109,
      "metadata": {},
      "outputs": [
        {
          "name": "stdout",
          "output_type": "stream",
          "text": [
            "Тест на равенство дисперсий\n",
            "p-value = 0.029\n",
            "Дисперсии не одинаковы, в stats.ttest_ind нужно использовать параметр equal_var=False.\n",
            "\n",
            "Тест на равенство средних\n",
            "p-value = 0.002\n",
            "p-значение меньше, чем заданный уровень значимости 0.05. Отвергаем нулевую гипотезу в пользу альтернативной.\n"
          ]
        }
      ],
      "source": [
        "# проводим тест Левена на равенство дисперсий\n",
        "print('Тест на равенство дисперсий')\n",
        "_, p = stats.levene(salary_en, salary_mi)\n",
        "print('p-value = {:.3f}'.format(p))\n",
        "if p < alpha:\n",
        "    print('Дисперсии не одинаковы, в stats.ttest_ind нужно использовать параметр equal_var=False.')\n",
        "else:\n",
        "    print('Дисперсии одинаковы, в stats.ttest_ind нужно использовать параметр equal_var=True.')\n",
        "    \n",
        "# проводим тест на сравнение средних в группах\n",
        "print('\\nТест на равенство средних')\n",
        "_, p = stats.ttest_ind(salary_en, salary_mi, alternative='less', equal_var=False)\n",
        "decision_hypothesis(p)\n",
        "    "
      ]
    },
    {
      "cell_type": "markdown",
      "metadata": {},
      "source": [
        "- пара MI/SE"
      ]
    },
    {
      "cell_type": "code",
      "execution_count": 110,
      "metadata": {},
      "outputs": [
        {
          "name": "stdout",
          "output_type": "stream",
          "text": [
            "Тест на равенство дисперсий\n",
            "p-value = 0.653\n",
            "Дисперсии одинаковы, в stats.ttest_ind нужно использовать параметр equal_var=True.\n",
            "\n",
            "Тест на равенство средних\n",
            "p-value = 0.000\n",
            "p-значение меньше, чем заданный уровень значимости 0.05. Отвергаем нулевую гипотезу в пользу альтернативной.\n"
          ]
        }
      ],
      "source": [
        "# проводим тест Левена на равенство дисперсий\n",
        "print('Тест на равенство дисперсий')\n",
        "_, p = stats.levene(salary_mi, salary_se)\n",
        "print('p-value = {:.3f}'.format(p))\n",
        "if p < alpha:\n",
        "    print('Дисперсии не одинаковы, в stats.ttest_ind нужно использовать параметр equal_var=False.')\n",
        "else:\n",
        "    print('Дисперсии одинаковы, в stats.ttest_ind нужно использовать параметр equal_var=True.')\n",
        "    \n",
        "# проводим тест на сравнение средних в группах\n",
        "print('\\nТест на равенство средних')\n",
        "_, p = stats.ttest_ind(salary_mi, salary_se, alternative='less', equal_var=True)\n",
        "decision_hypothesis(p)"
      ]
    },
    {
      "cell_type": "markdown",
      "metadata": {},
      "source": [
        "### Вывод\n",
        "Сюрпризов не произошло. Зарплата по вакансии Data Scientist статистически зависит от опыта. Чем больше опыт, тем выше зарплата."
      ]
    },
    {
      "cell_type": "markdown",
      "metadata": {},
      "source": [
        "### Дополнение 2: Как соотносятся зарплаты Data Scientist в зависимости от валюты получения\n",
        "\n",
        "**Сформулируем нулевую и альтернативные гипотезы**\n",
        "\n",
        "*Нулевая гипотеза*: зарплаты специалистов Data Scientist с разной валютой не отличаются: USD ($μ_1$), GBP ($μ_2$), EUR ($μ_2$), CAD ($μ_4$), INR ($μ_5$), Other ($μ_6$).\n",
        "\n",
        "$$ H_0 : μ_1 = μ_2 = μ_3 = μ_4 = μ_5 = μ_6$$\n",
        "\n",
        "*Альтернативная гипотеза*: зарплаты специалистов Data Scientist с разной валютой отличаются: USD ($μ_1$), GBP ($μ_2$), EUR ($μ_2$), CAD ($μ_4$), INR ($μ_5$), Other ($μ_6$).\n",
        "\n",
        "$$ H_1 : μ_1 \\neq μ_2 \\neq μ_3 \\neq μ_4 \\neq μ_5 \\neq μ_6$$\n"
      ]
    },
    {
      "cell_type": "markdown",
      "metadata": {},
      "source": [
        "**Проверка на нормальность**\n",
        "\n",
        "С помощью теста Шапиро-Уилка проверим, распределён ли признак нормально."
      ]
    },
    {
      "cell_type": "code",
      "execution_count": 111,
      "metadata": {},
      "outputs": [
        {
          "name": "stdout",
          "output_type": "stream",
          "text": [
            "Для USD:\n",
            "p-value = 0.000\n",
            "p-значение меньше, чем заданный уровень значимости 0.05. Распределение отлично от нормального\n",
            "Для GBP:\n",
            "p-value = 0.277\n",
            "p-значение больше, чем заданный уровень значимости 0.05. Распределение является нормальным\n",
            "Для EUR:\n",
            "p-value = 0.187\n",
            "p-значение больше, чем заданный уровень значимости 0.05. Распределение является нормальным\n",
            "Для CAD:\n",
            "p-value = 0.997\n",
            "p-значение больше, чем заданный уровень значимости 0.05. Распределение является нормальным\n",
            "Для INR:\n",
            "p-value = 0.661\n",
            "p-значение больше, чем заданный уровень значимости 0.05. Распределение является нормальным\n",
            "Для Other:\n",
            "p-value = 0.098\n",
            "p-значение больше, чем заданный уровень значимости 0.05. Распределение является нормальным\n"
          ]
        }
      ],
      "source": [
        "df = data[data['is_data_scientist'] == 1].copy()\n",
        "\n",
        "# новый столбец для валюты групирует вместе остальные валюты не входящие в топ 5 \n",
        "df['currency'] = df['salary_currency'].apply(lambda x: x if x in ['USD', 'GBP', 'EUR', 'CAD', 'INR'] else 'Other')\n",
        "\n",
        "# зарплаты для каждой валюты\n",
        "salary_usd = df.loc[df['currency']=='USD', 'salary_in_usd']\n",
        "salary_gbp = df.loc[df['currency']=='GBP', 'salary_in_usd']\n",
        "salary_eur = df.loc[df['currency']=='EUR', 'salary_in_usd']\n",
        "salary_cad = df.loc[df['currency']=='CAD', 'salary_in_usd']\n",
        "salary_inr = df.loc[df['currency']=='INR', 'salary_in_usd']\n",
        "salary_other = df.loc[df['currency']=='Other', 'salary_in_usd']\n",
        "\n",
        "# проводим тест Шапиро-Уилка\n",
        "print('Для USD:')\n",
        "result = stats.shapiro(salary_usd)\n",
        "decision_normality(result[1])\n",
        "\n",
        "print('Для GBP:')\n",
        "result = stats.shapiro(salary_gbp)\n",
        "decision_normality(result[1])\n",
        "\n",
        "print('Для EUR:')\n",
        "result = stats.shapiro(salary_eur)\n",
        "decision_normality(result[1])\n",
        "\n",
        "print('Для CAD:')\n",
        "result = stats.shapiro(salary_cad)\n",
        "decision_normality(result[1])\n",
        "\n",
        "print('Для INR:')\n",
        "result = stats.shapiro(salary_inr)\n",
        "decision_normality(result[1])\n",
        "\n",
        "print('Для Other:')\n",
        "result = stats.shapiro(salary_other)\n",
        "decision_normality(result[1])"
      ]
    },
    {
      "cell_type": "markdown",
      "metadata": {},
      "source": [
        "**Выберем подходящий статистический тест**\n",
        "\n",
        "Для выбора нужного теста воспользуемся алгоритмом выбора теста. Для этого ответим на следующие вопросы:\n",
        "* Какой тип у признака «Зарплата в USD»? — Количественный.\n",
        "* Сколько сравниваемых групп? — Шесть.\n",
        "* Группы зависимы? — Нет.\n",
        "* Признак распределён по нормальному закону? — Нет. \n",
        "\n",
        "Для проверки нашей гипотезы можно использовать Критерий Краскела — Уоллиса.\n",
        "\n",
        "**Проведём тест**"
      ]
    },
    {
      "cell_type": "code",
      "execution_count": 112,
      "metadata": {},
      "outputs": [
        {
          "name": "stdout",
          "output_type": "stream",
          "text": [
            "p-value = 0.000\n",
            "p-значение меньше, чем заданный уровень значимости 0.05. Отвергаем нулевую гипотезу в пользу альтернативной.\n"
          ]
        }
      ],
      "source": [
        "_, p = stats.kruskal(salary_usd, salary_gbp, salary_eur, salary_cad, salary_inr, salary_other)\n",
        "decision_hypothesis(p)"
      ]
    },
    {
      "cell_type": "markdown",
      "metadata": {},
      "source": [
        "**Промежуточный вывод**\n",
        "Зарплаты специалистов Data Scientist статистически значимо отличаются. Проверим, больше ли зарплата у лидера (USD) по сравнению со 2-м местом (GBP).\n",
        "\n",
        "**Сформулируем нулевую и альтернативные гипотезы**\n",
        "*Нулевая гипотеза*: зарплаты специалистов Data Scientist с валютой USD меньше или разва зарплате с валютой GBP: USD ($μ_1$), GBP ($μ_2$).\n",
        "\n",
        "$$ H_0 : μ_1 <= μ_2$$\n",
        "\n",
        "*Альтернативная гипотеза*: зарплаты специалистов Data Scientist с валютой USD меньше или разва зарплате с валютой GBP: USD ($μ_1$), GBP ($μ_2$).\n",
        "\n",
        "$$ H_1 : μ_1 > μ_2$$\n",
        "\n",
        "**Выберем подходящий статистический тест**\n",
        "\n",
        "Для выбора нужного теста воспользуемся алгоритмом выбора теста. Для этого ответим на следующие вопросы:\n",
        "* Какой тип у признака «Зарплата в USD»? — Количественный.\n",
        "* Сколько сравниваемых групп? — Две.\n",
        "* Группы зависимы? — Нет.\n",
        "* Признак распределён по нормальному закону? — Нет. \n",
        "\n",
        "Для проверки нашей гипотезы можно использовать U-критерий Манна — Уитни.\n",
        "\n",
        "**Проведём тест**"
      ]
    },
    {
      "cell_type": "code",
      "execution_count": 113,
      "metadata": {},
      "outputs": [
        {
          "name": "stdout",
          "output_type": "stream",
          "text": [
            "p-value = 0.001\n",
            "p-значение меньше, чем заданный уровень значимости 0.05. Отвергаем нулевую гипотезу в пользу альтернативной.\n"
          ]
        }
      ],
      "source": [
        "_, p = stats.mannwhitneyu(salary_usd, salary_gbp, alternative=\"greater\")\n",
        "decision_hypothesis(p)"
      ]
    },
    {
      "cell_type": "markdown",
      "metadata": {},
      "source": [
        "**Вывод**\n",
        "Зарплата специалистов Data Scientist с валютой USD больше по сравнению с зарплатами специалистов Data Scientist в других валютах."
      ]
    },
    {
      "cell_type": "markdown",
      "metadata": {},
      "source": [
        "## Итоговые результаты исследования\n",
        "\n",
        "В результате исследования получили ответы на следующие вопросы:\n",
        "\n",
        "1. _Наблюдается ли ежегодный рост зарплат у специалистов Data Scientist?_\n",
        "\n",
        "   Ежегодный рост зарплат у специалистов Data Scientist вырос к 2022 году, а 2021 году статистически значимых изменений по сравнению с 2020 году не произошли.\n",
        "\n",
        "2. _Как соотносятся зарплаты Data Scientist и Data Engineer в 2022 году?_\n",
        "   Не смотря на то, что медиана зарплат Data Scientist больше медианы зарплат Data Engineer в 2022 году, это различие статистически не значимо, то есть нет основания отверждать, что зарплаты Data Scientist и Data Engineer в 2022 году значимо отличаются.\n",
        "   \n",
        "\n",
        "3. _Как соотносятся зарплаты специалистов Data Scientist в компаниях различных размеров?_\n",
        "   * Зарплаты специалистов Data Scientist в маленьких компаниях стистически меньше зарплат этих же специалистов в больших и средних компаний. \n",
        "   * Зарплаты специалистов Data Scientist в средних компаниях по сравнению с зарплатами в большими компаниями статистически не отличаются.<p></p>\n",
        "\n",
        "4. _Есть ли связь между наличием должностей Data Scientist и Data Engineer и размером компании?_\n",
        "   Существует статистически значимая взаимосвязь между наличием должностей Data Scientist и Data Engineer и размером компании\n",
        "\n",
        "### Дополнительно получили:\n",
        "* зарплата по вакансии Data Scientist статистически зависит от опыта. Чем больше опыт, тем выше зарплата.\n",
        "* зарплата специалистов Data Scientist с валютой USD больше по сравнению с зарплатами специалистов Data Scientist в других валютах."
      ]
    }
  ],
  "metadata": {
    "colab": {
      "provenance": []
    },
    "kernelspec": {
      "display_name": "Python 3.10.8 ('base')",
      "language": "python",
      "name": "python3"
    },
    "language_info": {
      "codemirror_mode": {
        "name": "ipython",
        "version": 3
      },
      "file_extension": ".py",
      "mimetype": "text/x-python",
      "name": "python",
      "nbconvert_exporter": "python",
      "pygments_lexer": "ipython3",
      "version": "3.9.16"
    },
    "vscode": {
      "interpreter": {
        "hash": "86c56a74836ad344b00594bf6f38fa6a676a207ceefe20d101fbc465800ccb8d"
      }
    }
  },
  "nbformat": 4,
  "nbformat_minor": 0
}
