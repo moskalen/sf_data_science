{
 "cells": [
  {
   "cell_type": "markdown",
   "metadata": {},
   "source": [
    "# Домашнее задание: анализ A/A/B теста\n",
    "\n",
    "Есть A/A/B-тестирования от одного известного маркетплейса.\n",
    "\n",
    "> sample_a, sample_c — АА-группы, sample_b — отдельная группа.\n",
    "\n",
    "В каждом датасете есть три типа действий пользователей: 0 — клик, 1 — просмотр и 2 — покупка (пользователь просматривает выдачу товаров, кликает на понравившийся товар и совершает покупку).\n",
    "\n",
    "Маркетплейс ориентируется на следующие метрики:\n",
    "\n",
    "* ctr (отношение кликов к просмотрам товаров);\n",
    "* purchase rate (отношение покупок к просмотрам товаров);\n",
    "* gmv (оборот, сумма произведений количества покупок на стоимость покупки), где считаем 1 сессию за 1 точку (1 сессия на 1 пользователя).\n",
    "\n",
    "### Задача — понять, нет ли проблемы с разъезжанием сплитов и улучшает ли алгоритм B работу маркетплейса."
   ]
  },
  {
   "cell_type": "code",
   "execution_count": 100,
   "metadata": {},
   "outputs": [],
   "source": [
    "import pandas as pd\n",
    "import numpy as np\n",
    "\n",
    "from scipy import stats\n",
    "from scipy.stats import shapiro\n",
    "from statsmodels.stats.proportion import proportions_ztest"
   ]
  },
  {
   "cell_type": "code",
   "execution_count": 16,
   "metadata": {},
   "outputs": [
    {
     "name": "stdout",
     "output_type": "stream",
     "text": [
      "Sample A:\n"
     ]
    },
    {
     "data": {
      "text/html": [
       "<div>\n",
       "<style scoped>\n",
       "    .dataframe tbody tr th:only-of-type {\n",
       "        vertical-align: middle;\n",
       "    }\n",
       "\n",
       "    .dataframe tbody tr th {\n",
       "        vertical-align: top;\n",
       "    }\n",
       "\n",
       "    .dataframe thead th {\n",
       "        text-align: right;\n",
       "    }\n",
       "</style>\n",
       "<table border=\"1\" class=\"dataframe\">\n",
       "  <thead>\n",
       "    <tr style=\"text-align: right;\">\n",
       "      <th></th>\n",
       "      <th>user_id</th>\n",
       "      <th>item_id</th>\n",
       "      <th>action_id</th>\n",
       "    </tr>\n",
       "  </thead>\n",
       "  <tbody>\n",
       "    <tr>\n",
       "      <th>0</th>\n",
       "      <td>84636</td>\n",
       "      <td>360</td>\n",
       "      <td>1</td>\n",
       "    </tr>\n",
       "    <tr>\n",
       "      <th>1</th>\n",
       "      <td>21217</td>\n",
       "      <td>9635</td>\n",
       "      <td>1</td>\n",
       "    </tr>\n",
       "    <tr>\n",
       "      <th>2</th>\n",
       "      <td>13445</td>\n",
       "      <td>8590</td>\n",
       "      <td>1</td>\n",
       "    </tr>\n",
       "    <tr>\n",
       "      <th>3</th>\n",
       "      <td>38450</td>\n",
       "      <td>5585</td>\n",
       "      <td>1</td>\n",
       "    </tr>\n",
       "    <tr>\n",
       "      <th>4</th>\n",
       "      <td>14160</td>\n",
       "      <td>2383</td>\n",
       "      <td>0</td>\n",
       "    </tr>\n",
       "  </tbody>\n",
       "</table>\n",
       "</div>"
      ],
      "text/plain": [
       "   user_id  item_id  action_id\n",
       "0    84636      360          1\n",
       "1    21217     9635          1\n",
       "2    13445     8590          1\n",
       "3    38450     5585          1\n",
       "4    14160     2383          0"
      ]
     },
     "metadata": {},
     "output_type": "display_data"
    },
    {
     "name": "stdout",
     "output_type": "stream",
     "text": [
      "<class 'pandas.core.frame.DataFrame'>\n",
      "RangeIndex: 1188912 entries, 0 to 1188911\n",
      "Data columns (total 3 columns):\n",
      " #   Column     Non-Null Count    Dtype\n",
      "---  ------     --------------    -----\n",
      " 0   user_id    1188912 non-null  int64\n",
      " 1   item_id    1188912 non-null  int64\n",
      " 2   action_id  1188912 non-null  int64\n",
      "dtypes: int64(3)\n",
      "memory usage: 27.2 MB\n"
     ]
    },
    {
     "data": {
      "text/plain": [
       "None"
      ]
     },
     "metadata": {},
     "output_type": "display_data"
    },
    {
     "name": "stdout",
     "output_type": "stream",
     "text": [
      "Sample B:\n"
     ]
    },
    {
     "data": {
      "text/html": [
       "<div>\n",
       "<style scoped>\n",
       "    .dataframe tbody tr th:only-of-type {\n",
       "        vertical-align: middle;\n",
       "    }\n",
       "\n",
       "    .dataframe tbody tr th {\n",
       "        vertical-align: top;\n",
       "    }\n",
       "\n",
       "    .dataframe thead th {\n",
       "        text-align: right;\n",
       "    }\n",
       "</style>\n",
       "<table border=\"1\" class=\"dataframe\">\n",
       "  <thead>\n",
       "    <tr style=\"text-align: right;\">\n",
       "      <th></th>\n",
       "      <th>user_id</th>\n",
       "      <th>item_id</th>\n",
       "      <th>action_id</th>\n",
       "    </tr>\n",
       "  </thead>\n",
       "  <tbody>\n",
       "    <tr>\n",
       "      <th>0</th>\n",
       "      <td>118375</td>\n",
       "      <td>4105</td>\n",
       "      <td>1</td>\n",
       "    </tr>\n",
       "    <tr>\n",
       "      <th>1</th>\n",
       "      <td>107569</td>\n",
       "      <td>8204</td>\n",
       "      <td>1</td>\n",
       "    </tr>\n",
       "    <tr>\n",
       "      <th>2</th>\n",
       "      <td>175990</td>\n",
       "      <td>880</td>\n",
       "      <td>1</td>\n",
       "    </tr>\n",
       "    <tr>\n",
       "      <th>3</th>\n",
       "      <td>160582</td>\n",
       "      <td>9568</td>\n",
       "      <td>0</td>\n",
       "    </tr>\n",
       "    <tr>\n",
       "      <th>4</th>\n",
       "      <td>123400</td>\n",
       "      <td>4000</td>\n",
       "      <td>1</td>\n",
       "    </tr>\n",
       "  </tbody>\n",
       "</table>\n",
       "</div>"
      ],
      "text/plain": [
       "   user_id  item_id  action_id\n",
       "0   118375     4105          1\n",
       "1   107569     8204          1\n",
       "2   175990      880          1\n",
       "3   160582     9568          0\n",
       "4   123400     4000          1"
      ]
     },
     "metadata": {},
     "output_type": "display_data"
    },
    {
     "name": "stdout",
     "output_type": "stream",
     "text": [
      "<class 'pandas.core.frame.DataFrame'>\n",
      "RangeIndex: 1198438 entries, 0 to 1198437\n",
      "Data columns (total 3 columns):\n",
      " #   Column     Non-Null Count    Dtype\n",
      "---  ------     --------------    -----\n",
      " 0   user_id    1198438 non-null  int64\n",
      " 1   item_id    1198438 non-null  int64\n",
      " 2   action_id  1198438 non-null  int64\n",
      "dtypes: int64(3)\n",
      "memory usage: 27.4 MB\n"
     ]
    },
    {
     "data": {
      "text/plain": [
       "None"
      ]
     },
     "metadata": {},
     "output_type": "display_data"
    },
    {
     "name": "stdout",
     "output_type": "stream",
     "text": [
      "Sample C:\n"
     ]
    },
    {
     "data": {
      "text/html": [
       "<div>\n",
       "<style scoped>\n",
       "    .dataframe tbody tr th:only-of-type {\n",
       "        vertical-align: middle;\n",
       "    }\n",
       "\n",
       "    .dataframe tbody tr th {\n",
       "        vertical-align: top;\n",
       "    }\n",
       "\n",
       "    .dataframe thead th {\n",
       "        text-align: right;\n",
       "    }\n",
       "</style>\n",
       "<table border=\"1\" class=\"dataframe\">\n",
       "  <thead>\n",
       "    <tr style=\"text-align: right;\">\n",
       "      <th></th>\n",
       "      <th>user_id</th>\n",
       "      <th>item_id</th>\n",
       "      <th>action_id</th>\n",
       "    </tr>\n",
       "  </thead>\n",
       "  <tbody>\n",
       "    <tr>\n",
       "      <th>0</th>\n",
       "      <td>274623</td>\n",
       "      <td>2863</td>\n",
       "      <td>1</td>\n",
       "    </tr>\n",
       "    <tr>\n",
       "      <th>1</th>\n",
       "      <td>265472</td>\n",
       "      <td>343</td>\n",
       "      <td>1</td>\n",
       "    </tr>\n",
       "    <tr>\n",
       "      <th>2</th>\n",
       "      <td>242779</td>\n",
       "      <td>6009</td>\n",
       "      <td>0</td>\n",
       "    </tr>\n",
       "    <tr>\n",
       "      <th>3</th>\n",
       "      <td>275009</td>\n",
       "      <td>2184</td>\n",
       "      <td>1</td>\n",
       "    </tr>\n",
       "    <tr>\n",
       "      <th>4</th>\n",
       "      <td>268104</td>\n",
       "      <td>3134</td>\n",
       "      <td>2</td>\n",
       "    </tr>\n",
       "  </tbody>\n",
       "</table>\n",
       "</div>"
      ],
      "text/plain": [
       "   user_id  item_id  action_id\n",
       "0   274623     2863          1\n",
       "1   265472      343          1\n",
       "2   242779     6009          0\n",
       "3   275009     2184          1\n",
       "4   268104     3134          2"
      ]
     },
     "metadata": {},
     "output_type": "display_data"
    },
    {
     "name": "stdout",
     "output_type": "stream",
     "text": [
      "<class 'pandas.core.frame.DataFrame'>\n",
      "RangeIndex: 1205510 entries, 0 to 1205509\n",
      "Data columns (total 3 columns):\n",
      " #   Column     Non-Null Count    Dtype\n",
      "---  ------     --------------    -----\n",
      " 0   user_id    1205510 non-null  int64\n",
      " 1   item_id    1205510 non-null  int64\n",
      " 2   action_id  1205510 non-null  int64\n",
      "dtypes: int64(3)\n",
      "memory usage: 27.6 MB\n"
     ]
    },
    {
     "data": {
      "text/plain": [
       "None"
      ]
     },
     "metadata": {},
     "output_type": "display_data"
    },
    {
     "name": "stdout",
     "output_type": "stream",
     "text": [
      "Item prices:\n"
     ]
    },
    {
     "data": {
      "text/html": [
       "<div>\n",
       "<style scoped>\n",
       "    .dataframe tbody tr th:only-of-type {\n",
       "        vertical-align: middle;\n",
       "    }\n",
       "\n",
       "    .dataframe tbody tr th {\n",
       "        vertical-align: top;\n",
       "    }\n",
       "\n",
       "    .dataframe thead th {\n",
       "        text-align: right;\n",
       "    }\n",
       "</style>\n",
       "<table border=\"1\" class=\"dataframe\">\n",
       "  <thead>\n",
       "    <tr style=\"text-align: right;\">\n",
       "      <th></th>\n",
       "      <th>item_id</th>\n",
       "      <th>item_price</th>\n",
       "    </tr>\n",
       "  </thead>\n",
       "  <tbody>\n",
       "    <tr>\n",
       "      <th>0</th>\n",
       "      <td>338</td>\n",
       "      <td>1501</td>\n",
       "    </tr>\n",
       "    <tr>\n",
       "      <th>1</th>\n",
       "      <td>74</td>\n",
       "      <td>647</td>\n",
       "    </tr>\n",
       "    <tr>\n",
       "      <th>2</th>\n",
       "      <td>7696</td>\n",
       "      <td>825</td>\n",
       "    </tr>\n",
       "    <tr>\n",
       "      <th>3</th>\n",
       "      <td>866</td>\n",
       "      <td>875</td>\n",
       "    </tr>\n",
       "    <tr>\n",
       "      <th>4</th>\n",
       "      <td>5876</td>\n",
       "      <td>804</td>\n",
       "    </tr>\n",
       "  </tbody>\n",
       "</table>\n",
       "</div>"
      ],
      "text/plain": [
       "   item_id  item_price\n",
       "0      338        1501\n",
       "1       74         647\n",
       "2     7696         825\n",
       "3      866         875\n",
       "4     5876         804"
      ]
     },
     "metadata": {},
     "output_type": "display_data"
    },
    {
     "name": "stdout",
     "output_type": "stream",
     "text": [
      "<class 'pandas.core.frame.DataFrame'>\n",
      "RangeIndex: 1000 entries, 0 to 999\n",
      "Data columns (total 2 columns):\n",
      " #   Column      Non-Null Count  Dtype\n",
      "---  ------      --------------  -----\n",
      " 0   item_id     1000 non-null   int64\n",
      " 1   item_price  1000 non-null   int64\n",
      "dtypes: int64(2)\n",
      "memory usage: 15.8 KB\n"
     ]
    },
    {
     "data": {
      "text/plain": [
       "None"
      ]
     },
     "metadata": {},
     "output_type": "display_data"
    }
   ],
   "source": [
    "sample_a = pd.read_csv('data/sample_a.zip')\n",
    "sample_b = pd.read_csv('data/sample_b.zip')\n",
    "sample_c = pd.read_csv('data/sample_c.zip')\n",
    "prices = pd.read_csv('data/item_prices.zip')\n",
    "\n",
    "def show_data(df, title):\n",
    "    print(title)\n",
    "    display(df.head(5))\n",
    "    display(df.info())\n",
    "\n",
    "show_data(sample_a, \"Sample A:\")\n",
    "show_data(sample_b, \"Sample B:\")\n",
    "show_data(sample_c, \"Sample C:\")\n",
    "show_data(prices, \"Item prices:\")\n"
   ]
  },
  {
   "cell_type": "markdown",
   "metadata": {},
   "source": [
    "### Оставляем достоверные сессии\n",
    "\n",
    "Следующие сессии являются достоверными (валидными):\n",
    "\n",
    "1. Есть только просмотр товара\n",
    "\n",
    "2. Есть просмотр и клик\n",
    "\n",
    "3. Есть просмотр, клик и покупка\n",
    "\n",
    "Все остальные сессии исключим."
   ]
  },
  {
   "cell_type": "code",
   "execution_count": 76,
   "metadata": {},
   "outputs": [
    {
     "name": "stdout",
     "output_type": "stream",
     "text": [
      "sample_a: (1188912, 3)\n",
      "sample_a_cleaned: (1112820, 3)\n",
      " - исключено строк: 76092\n",
      "sample_b: (1198438, 3)\n",
      "sample_b_cleaned: (1038568, 3)\n",
      " - исключено строк: 159870\n",
      "sample_c: (1205510, 3)\n",
      "sample_c_cleaned: (1115490, 3)\n",
      " - исключено строк: 90020\n"
     ]
    }
   ],
   "source": [
    "def filter_valid_sessions(df):\n",
    "\n",
    "    # Группируем по user_id и item_id, собираем все действия в список\n",
    "    grouped = df.groupby(['user_id', 'item_id'])['action_id'].agg(list).reset_index()\n",
    "\n",
    "    # Проверяем валидность каждой группы\n",
    "    def is_valid(actions):\n",
    "        if 1 not in actions:  # Если нет просмотра\n",
    "            return False  # Исключаем\n",
    "        if 2 in actions and 0 not in actions:  # Есть покупка, но нет клика\n",
    "            return False  # Исключаем\n",
    "        return True  # Все остальные случаи корректны\n",
    "\n",
    "    # Оставляем только валидные группы\n",
    "    valid_groups = grouped[grouped['action_id'].apply(is_valid)]\n",
    "\n",
    "    # Соединяем с исходными данными, чтобы оставить только валидные строки\n",
    "    valid_df = df.merge(valid_groups[['user_id', 'item_id']], on=['user_id', 'item_id'], how='inner')\n",
    "\n",
    "    return valid_df\n",
    "\n",
    "print(\"sample_a:\", sample_a.shape)\n",
    "sample_a_cleaned = filter_valid_sessions(sample_a)\n",
    "print(\"sample_a_cleaned:\", sample_a_cleaned.shape)\n",
    "print(f\" - исключено строк: {sample_a.shape[0] - sample_a_cleaned.shape[0]}\")\n",
    "\n",
    "print(\"sample_b:\", sample_b.shape)\n",
    "sample_b_cleaned = filter_valid_sessions(sample_b)\n",
    "print(\"sample_b_cleaned:\", sample_b_cleaned.shape)\n",
    "print(f\" - исключено строк: {sample_b.shape[0] - sample_b_cleaned.shape[0]}\")\n",
    "\n",
    "print(\"sample_c:\", sample_c.shape)\n",
    "sample_c_cleaned = filter_valid_sessions(sample_c)\n",
    "print(\"sample_c_cleaned:\", sample_c_cleaned.shape)\n",
    "print(f\" - исключено строк: {sample_c.shape[0] - sample_c_cleaned.shape[0]}\")\n"
   ]
  },
  {
   "cell_type": "markdown",
   "metadata": {},
   "source": [
    "### Расчитам метрики по датасетам "
   ]
  },
  {
   "cell_type": "code",
   "execution_count": 77,
   "metadata": {},
   "outputs": [
    {
     "name": "stdout",
     "output_type": "stream",
     "text": [
      "Metrics for sample_a: {'CTR': 0.20833351586491494, 'Purchase Rate': 0.010858803790231786, 'GMV': 10681225}\n",
      "Metrics for sample_b: {'CTR': 0.17468084471410894, 'Purchase Rate': 0.018229901997920125, 'GMV': 17013290}\n",
      "Metrics for sample_c: {'CTR': 0.22045296949495194, 'Purchase Rate': 0.013848537564794058, 'GMV': 13330484}\n"
     ]
    }
   ],
   "source": [
    "def calculate_metrics_with_gmv(df, prices):\n",
    "    \"\"\"\n",
    "    Рассчитывает CTR, Purchase Rate и GMV для группы данных с учетом цен товаров.\n",
    "\n",
    "    Параметры:\n",
    "    - df: DataFrame с действиями пользователей.\n",
    "    - prices: DataFrame с ценами товаров (item_id и item_price).\n",
    "\n",
    "    Возвращает:\n",
    "    - Словарь с рассчитанными метриками.\n",
    "    \"\"\"\n",
    "    # Считаем количество просмотров, кликов и покупок\n",
    "    views = len(df[df['action_id'] == 1])\n",
    "    clicks = len(df[df['action_id'] == 0])\n",
    "\n",
    "    # Отбираем все покупки и соединяем с ценами\n",
    "    purchases = df[df['action_id'] == 2].merge(\n",
    "        prices, on='item_id', how='left'\n",
    "    )\n",
    "\n",
    "    # Рассчитываем GMV как сумму стоимостей покупок\n",
    "    gmv = purchases['item_price'].sum()\n",
    "\n",
    "    # Рассчитываем метрики CTR и Purchase Rate\n",
    "    ctr = clicks / views if views > 0 else 0\n",
    "    purchase_rate = len(purchases) / views if views > 0 else 0\n",
    "\n",
    "    return {\n",
    "        'CTR': ctr,\n",
    "        'Purchase Rate': purchase_rate,\n",
    "        'GMV': gmv\n",
    "    }\n",
    "\n",
    "# Пример использования для каждой группы\n",
    "metrics_a = calculate_metrics_with_gmv(sample_a_cleaned, prices)\n",
    "metrics_b = calculate_metrics_with_gmv(sample_b_cleaned, prices)\n",
    "metrics_c = calculate_metrics_with_gmv(sample_c_cleaned, prices)\n",
    "\n",
    "print(\"Metrics for sample_a:\", metrics_a)\n",
    "print(\"Metrics for sample_b:\", metrics_b)\n",
    "print(\"Metrics for sample_c:\", metrics_c)"
   ]
  },
  {
   "cell_type": "code",
   "execution_count": 111,
   "metadata": {},
   "outputs": [
    {
     "data": {
      "image/png": "[encoded data removed]",
      "text/plain": [
       "<Figure size 1000x600 with 1 Axes>"
      ]
     },
     "metadata": {},
     "output_type": "display_data"
    },
    {
     "data": {
      "image/png": "[encoded data removed]",
      "text/plain": [
       "<Figure size 1500x600 with 2 Axes>"
      ]
     },
     "metadata": {},
     "output_type": "display_data"
    },
    {
     "data": {
      "image/png": "[encoded data removed]",
      "text/plain": [
       "<Figure size 1000x600 with 1 Axes>"
      ]
     },
     "metadata": {},
     "output_type": "display_data"
    }
   ],
   "source": [
    "import matplotlib.pyplot as plt\n",
    "import seaborn as sns\n",
    "\n",
    "# Настройка стиля графиков\n",
    "sns.set(style=\"whitegrid\")\n",
    "\n",
    "# Данные для визуализации\n",
    "ctr_values = [metrics_a['CTR'], metrics_b['CTR'], metrics_c['CTR']]\n",
    "purchase_rate_values = [\n",
    "    metrics_a['Purchase Rate'], metrics_b['Purchase Rate'], metrics_c['Purchase Rate']\n",
    "]\n",
    "\n",
    "# Извлечение цен покупок для каждой группы\n",
    "gmv_a = sample_a_cleaned[sample_a_cleaned['action_id'] == 2].merge(\n",
    "    prices, on='item_id')['item_price']\n",
    "gmv_b = sample_b_cleaned[sample_b_cleaned['action_id'] == 2].merge(\n",
    "    prices, on='item_id')['item_price']\n",
    "gmv_c = sample_c_cleaned[sample_c_cleaned['action_id'] == 2].merge(\n",
    "    prices, on='item_id')['item_price']\n",
    "\n",
    "# 1. Boxplot для GMV по всем группам\n",
    "plt.figure(figsize=(10, 6))\n",
    "sns.boxplot(data=[gmv_a, gmv_b, gmv_c], palette=\"pastel\")\n",
    "plt.xticks([0, 1, 2], ['A-group', 'B-group', 'C-group'])\n",
    "plt.title('Boxplot for GMV')\n",
    "plt.show()\n",
    "\n",
    "# 2. Barplot для сравнения CTR и Purchase Rate\n",
    "fig, axes = plt.subplots(1, 2, figsize=(15, 6))\n",
    "\n",
    "# Barplot для CTR\n",
    "sns.barplot(x=['A-group', 'B-group', 'C-group'], y=ctr_values, ax=axes[0], palette=\"Blues\")\n",
    "axes[0].set_title('Comparison of CTR')\n",
    "axes[0].set_ylabel('CTR')\n",
    "\n",
    "# Barplot для Purchase Rate\n",
    "sns.barplot(x=['A-group', 'B-group', 'C-group'], y=purchase_rate_values, ax=axes[1], palette=\"Greens\")\n",
    "axes[1].set_title('Comparison of Purchase Rate')\n",
    "axes[1].set_ylabel('Purchase Rate')\n",
    "\n",
    "plt.show()\n",
    "\n",
    "# 3. Гистограммы для GMV по всем группам\n",
    "plt.figure(figsize=(10, 6))\n",
    "sns.histplot(gmv_a, kde=True, color='blue', label='A-group GMV', bins=30)\n",
    "sns.histplot(gmv_b, kde=True, color='red', label='B-group GMV', bins=30)\n",
    "sns.histplot(gmv_c, kde=True, color='green', label='C-group GMV', bins=30)\n",
    "plt.title('Distribution of GMV')\n",
    "plt.legend()\n",
    "plt.show()\n"
   ]
  },
  {
   "cell_type": "markdown",
   "metadata": {},
   "source": [
    "### Выводы\n",
    "\n",
    "* по CTR (Click-Through Rate):\n",
    "    * группа B (0.1747) показывает значительно более низкий CTR по сравнению с A-группами (0.2083 и 0.2205)\n",
    "    * обе A-группы (sample_a и sample_c) имеют схожие CTR (~20-22%), что указывает на корректное разбиение между этими контрольными группами\n",
    "\n",
    "* по Purchase Rate (Процент покупок)\n",
    "    * в группе B наблюдается высокий процент покупок (1.82%) по сравнению с A-группами (1.09% и 1.38%)\n",
    "    * такой результат может говорить о более целенаправленных кликах или об улучшении процесса покупки в группе B\n",
    "\n",
    "* по GMV (Gross Merchandise Volume):\n",
    "    * GMV в группе B (17 013 290) значительно выше по сравнению с обеими A-группами\n",
    "    * этот результат подтверждает, что увеличение процента покупок в B-группе компенсирует снижение CTR и приводит к большему обороту\n",
    "    * различие между GMV в группах A (sample_a и sample_c) также заметно, но не столь существенно, что подтверждает, что A-группы сопоставимы между собой\n",
    "\n",
    "* по графиков плотности (KDE):\n",
    "    * B-группа демонстрирует более высокую активность по всем интервалам цен. Это указывает на то, что:\n",
    "        * либо пользователи в B-группе склонны делать больше покупок.\n",
    "        * либо алгоритм, использованный для этой группы, более эффективно предлагает дорогие товары.\n",
    "    * группы A и C имеют очень похожие распределения, что согласуется с тем, что эти группы были контрольными и должны показывать сходное поведение."
   ]
  },
  {
   "cell_type": "markdown",
   "metadata": {},
   "source": [
    "Для проверки равенства метрик между двумя A-группами (`sample_a` и `sample_c`) используем `t-тест` для независимых выборок (для непрерывной метрики GMV) и `z-тест` для пропорций (для сравнения долей, например CTR и Purchase Rate)."
   ]
  },
  {
   "cell_type": "code",
   "execution_count": 106,
   "metadata": {},
   "outputs": [
    {
     "name": "stdout",
     "output_type": "stream",
     "text": [
      "Shapiro-Wilk Test for GMV (A-group): stat = 0.9498, p = 0.0000\n",
      "Shapiro-Wilk Test for GMV (C-group): stat = 0.9518, p = 0.0000\n",
      "GMV A-группы не подчиняется нормальному распределению.\n",
      "GMV B-группы не подчиняется нормальному распределению.\n",
      "Используем тест Манна-Уитни, так как хотя бы одна выборка не нормальна.\n",
      "Mann-Whitney U-test for GMV: U = 62915618.00, p = 0.0821\n",
      "Z-test for CTR: z = -19.91, p = 0.0000\n",
      "Z-test for Purchase Rate: z = -17.43, p = 0.0000\n"
     ]
    },
    {
     "name": "stderr",
     "output_type": "stream",
     "text": [
      "/Users/moskalen/Documents/mine/IDE/.venv/lib/python3.9/site-packages/scipy/stats/morestats.py:1760: UserWarning: p-value may not be accurate for N > 5000.\n",
      "  warnings.warn(\"p-value may not be accurate for N > 5000.\")\n"
     ]
    }
   ],
   "source": [
    "def z_test_proportions(success_a, total_a, success_c, total_c):\n",
    "    \"\"\"\n",
    "    Выполняет z-тест пропорций.\n",
    "\n",
    "    Параметры:\n",
    "    success_a, success_c — количество успехов (например, кликов).\n",
    "    total_a, total_c — общее количество испытаний (например, просмотров).\n",
    "\n",
    "    Возвращает:\n",
    "    z-статистику и p-значение.\n",
    "    \"\"\"\n",
    "    count = np.array([success_a, success_c])\n",
    "    nobs = np.array([total_a, total_c])\n",
    "\n",
    "    stat, p_value = proportions_ztest(count, nobs)\n",
    "    return stat, p_value\n",
    "\n",
    "\n",
    "def t_test_means(sample_a, sample_c):\n",
    "    \"\"\"\n",
    "    Выполняет t-тест для двух выборок.\n",
    "\n",
    "    Параметры:\n",
    "    sample_a, sample_c — данные двух выборок для сравнения.\n",
    "\n",
    "    Возвращает:\n",
    "    t-статистику и p-значение.\n",
    "    \"\"\"\n",
    "    t_stat, p_value = stats.ttest_ind(sample_a, sample_c, equal_var=False)\n",
    "    return t_stat, p_value\n",
    "\n",
    "\n",
    "# Считаем фактическое количество кликов и просмотров для sample_a и sample_c\n",
    "clicks_a = len(sample_a_cleaned[sample_a_cleaned['action_id'] == 0])\n",
    "views_a = len(sample_a_cleaned[sample_a_cleaned['action_id'] == 1])\n",
    "\n",
    "clicks_c = len(sample_c_cleaned[sample_c_cleaned['action_id'] == 0])\n",
    "views_c = len(sample_c_cleaned[sample_c_cleaned['action_id'] == 1])\n",
    "\n",
    "# Выполняем z-тест для сравнения CTR\n",
    "z_ctr, p_ctr = z_test_proportions(\n",
    "    success_a=clicks_a,\n",
    "    total_a=views_a,\n",
    "    success_c=clicks_c,\n",
    "    total_c=views_c\n",
    ")\n",
    "\n",
    "# Считаем фактическое количество покупок для z-теста по Purchase Rate\n",
    "purchases_a = len(sample_a_cleaned[sample_a_cleaned['action_id'] == 2])\n",
    "purchases_c = len(sample_c_cleaned[sample_c_cleaned['action_id'] == 2])\n",
    "\n",
    "# Выполняем z-тест для сравнения Purchase Rate\n",
    "z_purchase_rate, p_purchase_rate = z_test_proportions(\n",
    "    success_a=purchases_a,\n",
    "    total_a=views_a,\n",
    "    success_c=purchases_c,\n",
    "    total_c=views_c\n",
    ")\n",
    "\n",
    "##################################################################\n",
    "# Выполняем t-тест для GMV\n",
    "##################################################################\n",
    "\n",
    "# Извлечение цен покупок для каждой группы\n",
    "gmv_a = sample_a_cleaned[sample_a_cleaned['action_id'] == 2].merge(\n",
    "    prices, on='item_id')['item_price']\n",
    "\n",
    "gmv_c = sample_c_cleaned[sample_c_cleaned['action_id'] == 2].merge(\n",
    "    prices, on='item_id')['item_price']\n",
    "\n",
    "# Тест Шапиро-Уилка для проверки нормальности\n",
    "stat_a, p_value_a = shapiro(gmv_a)\n",
    "stat_c, p_value_c = shapiro(gmv_c)\n",
    "\n",
    "print(f\"Shapiro-Wilk Test for GMV (A-group): stat = {stat_a:.4f}, p = {p_value_a:.4f}\")\n",
    "print(f\"Shapiro-Wilk Test for GMV (C-group): stat = {stat_c:.4f}, p = {p_value_c:.4f}\")\n",
    "\n",
    "# Проверка результатов при alpha = 0.01\n",
    "alpha = 0.01\n",
    "\n",
    "if p_value_a < alpha:\n",
    "    print(\"GMV A-группы не подчиняется нормальному распределению.\")\n",
    "else:\n",
    "    print(\"GMV A-группы подчиняется нормальному распределению.\")\n",
    "\n",
    "if p_value_c < alpha:\n",
    "    print(\"GMV B-группы не подчиняется нормальному распределению.\")\n",
    "else:\n",
    "    print(\"GMV B-группы подчиняется нормальному распределению.\")\n",
    "\n",
    "# Проведение t-теста, если обе выборки нормальны\n",
    "if p_value_a >= alpha and p_value_c >= alpha:\n",
    "    t_gmv, p_gmv = stats.ttest_ind(gmv_a, gmv_c, equal_var=False)\n",
    "    print(f\"T-test for GMV: t = {t_gmv:.2f}, p = {p_gmv:.4f}\")\n",
    "else:\n",
    "    print(\"Используем тест Манна-Уитни, так как хотя бы одна выборка не нормальна.\")\n",
    "    u_stat, p_mannwhitney = stats.mannwhitneyu(gmv_a, gmv_c, alternative='two-sided')\n",
    "    print(f\"Mann-Whitney U-test for GMV: U = {u_stat:.2f}, p = {p_mannwhitney:.4f}\")\n",
    "\n",
    "\n",
    "print(f\"Z-test for CTR: z = {z_ctr:.2f}, p = {p_ctr:.4f}\")\n",
    "print(f\"Z-test for Purchase Rate: z = {z_purchase_rate:.2f}, p = {p_purchase_rate:.4f}\")\n"
   ]
  },
  {
   "cell_type": "markdown",
   "metadata": {},
   "source": [
    "### Выводы\n",
    "\n",
    "* различия в CTR и Purchase Rate между группами A и C статистически значимы ($p < 0.05$ в обоих случаях), что свидетельствует о `разъезжании сплитов`\n",
    "\n",
    "* различия в GMV между группами A и C не являются статистически значимыми на уровне 5%, но могут быть признаны значимыми на уровне 10%, что также может указывать на некоторую нестабильность в сплитовании\n",
    "\n",
    "* некорректные контрольные группы могут сделать результаты A/B-теста ненадежными, и начитать A/B-тест не стоило бы, но поскольку у нас данные теста уже есть, то продолжим."
   ]
  },
  {
   "cell_type": "code",
   "execution_count": 101,
   "metadata": {},
   "outputs": [
    {
     "name": "stdout",
     "output_type": "stream",
     "text": [
      "Shapiro-Wilk Test for GMV (A-group): stat = 0.9498, p = 0.0000\n",
      "Shapiro-Wilk Test for GMV (B-group): stat = 0.9505, p = 0.0000\n",
      "GMV A-группы не подчиняется нормальному распределению.\n",
      "GMV B-группы не подчиняется нормальному распределению.\n",
      "Используем тест Манна-Уитни, так как хотя бы одна выборка не нормальна.\n",
      "Mann-Whitney U-test for GMV: U = 79254456.00, p = 0.3720\n",
      "Z-test for CTR: z = 57.06, p = 0.0000\n",
      "Z-test for Purchase Rate: z = -40.06, p = 0.0000\n"
     ]
    },
    {
     "name": "stderr",
     "output_type": "stream",
     "text": [
      "/Users/moskalen/Documents/mine/IDE/.venv/lib/python3.9/site-packages/scipy/stats/morestats.py:1760: UserWarning: p-value may not be accurate for N > 5000.\n",
      "  warnings.warn(\"p-value may not be accurate for N > 5000.\")\n"
     ]
    }
   ],
   "source": [
    "# Подсчет реальных метрик для sample_a и sample_b\n",
    "clicks_a = len(sample_a_cleaned[sample_a_cleaned['action_id'] == 0])\n",
    "purchases_a = len(sample_a_cleaned[sample_a_cleaned['action_id'] == 2])\n",
    "views_a = len(sample_a_cleaned[sample_a_cleaned['action_id'] == 1])\n",
    "\n",
    "clicks_b = len(sample_b_cleaned[sample_b_cleaned['action_id'] == 0])\n",
    "purchases_b = len(sample_b_cleaned[sample_b_cleaned['action_id'] == 2])\n",
    "views_b = len(sample_b_cleaned[sample_b_cleaned['action_id'] == 1])\n",
    "\n",
    "# Z-тест для CTR\n",
    "z_ctr, p_ctr = proportions_ztest(\n",
    "    count=[clicks_a, clicks_b],\n",
    "    nobs=[views_a, views_b]\n",
    ")\n",
    "\n",
    "# Z-тест для Purchase Rate\n",
    "z_purchase, p_purchase = proportions_ztest(\n",
    "    count=[purchases_a, purchases_b],\n",
    "    nobs=[views_a, views_b]\n",
    ")\n",
    "\n",
    "# Извлечение цен покупок для каждой группы\n",
    "gmv_a = sample_a_cleaned[sample_a_cleaned['action_id'] == 2].merge(\n",
    "    prices, on='item_id')['item_price']\n",
    "\n",
    "gmv_b = sample_b_cleaned[sample_b_cleaned['action_id'] == 2].merge(\n",
    "    prices, on='item_id')['item_price']\n",
    "\n",
    "\n",
    "# Тест Шапиро-Уилка для проверки нормальности\n",
    "stat_a, p_value_a = shapiro(gmv_a)\n",
    "stat_b, p_value_b = shapiro(gmv_b)\n",
    "\n",
    "print(f\"Shapiro-Wilk Test for GMV (A-group): stat = {stat_a:.4f}, p = {p_value_a:.4f}\")\n",
    "print(f\"Shapiro-Wilk Test for GMV (B-group): stat = {stat_b:.4f}, p = {p_value_b:.4f}\")\n",
    "\n",
    "# Проверка результатов при alpha = 0.01\n",
    "alpha = 0.01\n",
    "\n",
    "if p_value_a < alpha:\n",
    "    print(\"GMV A-группы не подчиняется нормальному распределению.\")\n",
    "else:\n",
    "    print(\"GMV A-группы подчиняется нормальному распределению.\")\n",
    "\n",
    "if p_value_b < alpha:\n",
    "    print(\"GMV B-группы не подчиняется нормальному распределению.\")\n",
    "else:\n",
    "    print(\"GMV B-группы подчиняется нормальному распределению.\")\n",
    "\n",
    "# Проведение t-теста, если обе выборки нормальны\n",
    "if p_value_a >= alpha and p_value_b >= alpha:\n",
    "    t_gmv, p_gmv = stats.ttest_ind(gmv_a, gmv_b, equal_var=False)\n",
    "    print(f\"T-test for GMV: t = {t_gmv:.2f}, p = {p_gmv:.4f}\")\n",
    "else:\n",
    "    print(\"Используем тест Манна-Уитни, так как хотя бы одна выборка не нормальна.\")\n",
    "    u_stat, p_mannwhitney = stats.mannwhitneyu(gmv_a, gmv_b, alternative='two-sided')\n",
    "    print(f\"Mann-Whitney U-test for GMV: U = {u_stat:.2f}, p = {p_mannwhitney:.4f}\")\n",
    "\n",
    "\n",
    "print(f\"Z-test for CTR: z = {z_ctr:.2f}, p = {p_ctr:.4f}\")\n",
    "print(f\"Z-test for Purchase Rate: z = {z_purchase:.2f}, p = {p_purchase:.4f}\")\n"
   ]
  },
  {
   "cell_type": "markdown",
   "metadata": {},
   "source": [
    "### Выводы\n",
    "* есть статистически значимое различие в CTR и Purchase Rate между группами A и B\n",
    "* положительное значение z-статистики (57.06) указывает, что CTR в группе A значительно выше, чем в группе B\n",
    "* орицательное значение z-статистики (-40.06) указывает, что Purchase Rate в B-группе выше, чем в A-группе\n",
    "* p-value > 0.05 указывает на отсутствие статистически значимого различия в GMV между группами A и B, то есть несмотря на различия в CTR и Purchase Rate, общий объем продаж (GMV) остается сопоставимым между группами"
   ]
  },
  {
   "cell_type": "markdown",
   "metadata": {},
   "source": [
    "# Итого\n",
    "\n",
    "* присутствуют статистически значимые различия в CTR и Purchase Rate между группами A и C, что говорит о `разъезжании сплитов`\n",
    "\n",
    "* новый алгоритм (B-группа) не повлиял на общий оборот. Снижение CTR компенсируется более высокой конверсией, что позволяет сохранить уровень GMV."
   ]
  },
  {
   "cell_type": "code",
   "execution_count": null,
   "metadata": {},
   "outputs": [],
   "source": []
  }
 ],
 "metadata": {
  "kernelspec": {
   "display_name": ".venv",
   "language": "python",
   "name": "python3"
  },
  "language_info": {
   "codemirror_mode": {
    "name": "ipython",
    "version": 3
   },
   "file_extension": ".py",
   "mimetype": "text/x-python",
   "name": "python",
   "nbconvert_exporter": "python",
   "pygments_lexer": "ipython3",
   "version": "3.9.20"
  }
 },
 "nbformat": 4,
 "nbformat_minor": 2
}
