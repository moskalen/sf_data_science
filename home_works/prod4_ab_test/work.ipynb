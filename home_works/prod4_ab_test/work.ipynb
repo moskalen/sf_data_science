{
 "cells": [
  {
   "cell_type": "code",
   "execution_count": 145,
   "metadata": {},
   "outputs": [],
   "source": [
    "import pandas as pd\n",
    "import numpy as np\n",
    "\n",
    "import matplotlib.pyplot as plt\n",
    "import seaborn as sns\n",
    "\n",
    "from scipy import stats\n"
   ]
  },
  {
   "cell_type": "code",
   "execution_count": 125,
   "metadata": {},
   "outputs": [
    {
     "data": {
      "text/html": [
       "<div>\n",
       "<style scoped>\n",
       "    .dataframe tbody tr th:only-of-type {\n",
       "        vertical-align: middle;\n",
       "    }\n",
       "\n",
       "    .dataframe tbody tr th {\n",
       "        vertical-align: top;\n",
       "    }\n",
       "\n",
       "    .dataframe thead th {\n",
       "        text-align: right;\n",
       "    }\n",
       "</style>\n",
       "<table border=\"1\" class=\"dataframe\">\n",
       "  <thead>\n",
       "    <tr style=\"text-align: right;\">\n",
       "      <th></th>\n",
       "      <th>user_id</th>\n",
       "      <th>date</th>\n",
       "      <th>group</th>\n",
       "      <th>purchase</th>\n",
       "      <th>price</th>\n",
       "    </tr>\n",
       "  </thead>\n",
       "  <tbody>\n",
       "    <tr>\n",
       "      <th>0</th>\n",
       "      <td>851104</td>\n",
       "      <td>2021-01-21</td>\n",
       "      <td>A</td>\n",
       "      <td>0</td>\n",
       "      <td>0</td>\n",
       "    </tr>\n",
       "    <tr>\n",
       "      <th>1</th>\n",
       "      <td>804228</td>\n",
       "      <td>2021-01-12</td>\n",
       "      <td>A</td>\n",
       "      <td>0</td>\n",
       "      <td>0</td>\n",
       "    </tr>\n",
       "    <tr>\n",
       "      <th>2</th>\n",
       "      <td>661590</td>\n",
       "      <td>2021-01-11</td>\n",
       "      <td>B</td>\n",
       "      <td>0</td>\n",
       "      <td>0</td>\n",
       "    </tr>\n",
       "    <tr>\n",
       "      <th>3</th>\n",
       "      <td>853541</td>\n",
       "      <td>2021-01-08</td>\n",
       "      <td>B</td>\n",
       "      <td>0</td>\n",
       "      <td>0</td>\n",
       "    </tr>\n",
       "    <tr>\n",
       "      <th>4</th>\n",
       "      <td>864975</td>\n",
       "      <td>2021-01-21</td>\n",
       "      <td>A</td>\n",
       "      <td>1</td>\n",
       "      <td>150000</td>\n",
       "    </tr>\n",
       "  </tbody>\n",
       "</table>\n",
       "</div>"
      ],
      "text/plain": [
       "   user_id        date group  purchase   price\n",
       "0   851104  2021-01-21     A         0       0\n",
       "1   804228  2021-01-12     A         0       0\n",
       "2   661590  2021-01-11     B         0       0\n",
       "3   853541  2021-01-08     B         0       0\n",
       "4   864975  2021-01-21     A         1  150000"
      ]
     },
     "execution_count": 125,
     "metadata": {},
     "output_type": "execute_result"
    }
   ],
   "source": [
    "data = pd.read_csv('ab_data_tourist.zip')\n",
    "data.head()"
   ]
  },
  {
   "cell_type": "markdown",
   "metadata": {},
   "source": [
    "Наша таблица представлена следующими полями:\n",
    "\n",
    "* user_id — идентификатор пользователя, зашедшего на сайт;\n",
    "* data — дата посещения сайта;\n",
    "* group — группа теста (контрольная — А или тестовая — B);\n",
    "* purchase — признак покупки: совершил ли пользователь покупку тура (1 — да, 0 — нет);\n",
    "* price — цена купленного тура (если покупка не состоялась, цена равна 0).\n"
   ]
  },
  {
   "cell_type": "markdown",
   "metadata": {},
   "source": [
    "## 1. Анализ структуры и предобработка данных "
   ]
  },
  {
   "cell_type": "code",
   "execution_count": 126,
   "metadata": {},
   "outputs": [
    {
     "name": "stdout",
     "output_type": "stream",
     "text": [
      "<class 'pandas.core.frame.DataFrame'>\n",
      "RangeIndex: 294478 entries, 0 to 294477\n",
      "Data columns (total 5 columns):\n",
      " #   Column    Non-Null Count   Dtype \n",
      "---  ------    --------------   ----- \n",
      " 0   user_id   294478 non-null  int64 \n",
      " 1   date      294478 non-null  object\n",
      " 2   group     294478 non-null  object\n",
      " 3   purchase  294478 non-null  int64 \n",
      " 4   price     294478 non-null  int64 \n",
      "dtypes: int64(3), object(2)\n",
      "memory usage: 11.2+ MB\n"
     ]
    }
   ],
   "source": [
    "data.info()"
   ]
  },
  {
   "cell_type": "markdown",
   "metadata": {},
   "source": [
    "* Видимых пропусков в данных нет\n",
    "* В преобразовании нуждается только столбец с датами"
   ]
  },
  {
   "cell_type": "code",
   "execution_count": 127,
   "metadata": {},
   "outputs": [
    {
     "name": "stdout",
     "output_type": "stream",
     "text": [
      "<class 'pandas.core.frame.DataFrame'>\n",
      "RangeIndex: 294478 entries, 0 to 294477\n",
      "Data columns (total 5 columns):\n",
      " #   Column    Non-Null Count   Dtype         \n",
      "---  ------    --------------   -----         \n",
      " 0   user_id   294478 non-null  int64         \n",
      " 1   date      294478 non-null  datetime64[ns]\n",
      " 2   group     294478 non-null  object        \n",
      " 3   purchase  294478 non-null  int64         \n",
      " 4   price     294478 non-null  int64         \n",
      "dtypes: datetime64[ns](1), int64(3), object(1)\n",
      "memory usage: 11.2+ MB\n"
     ]
    }
   ],
   "source": [
    "data['date'] = pd.to_datetime(data['date'], format='%Y-%m-%d')\n",
    "data.info()"
   ]
  },
  {
   "cell_type": "code",
   "execution_count": 128,
   "metadata": {},
   "outputs": [
    {
     "name": "stdout",
     "output_type": "stream",
     "text": [
      "<class 'pandas.core.frame.DataFrame'>\n",
      "Index: 290688 entries, 0 to 294477\n",
      "Data columns (total 5 columns):\n",
      " #   Column    Non-Null Count   Dtype         \n",
      "---  ------    --------------   -----         \n",
      " 0   user_id   290688 non-null  int64         \n",
      " 1   date      290688 non-null  datetime64[ns]\n",
      " 2   group     290688 non-null  object        \n",
      " 3   purchase  290688 non-null  int64         \n",
      " 4   price     290688 non-null  int64         \n",
      "dtypes: datetime64[ns](1), int64(3), object(1)\n",
      "memory usage: 13.3+ MB\n"
     ]
    }
   ],
   "source": [
    "# Проверим, есть ли пользователи попавшие в обе группы, и, если такие есть, удалим их\n",
    "\n",
    "users_with_both = data.groupby('user_id')['group'].apply(lambda x: set(x) == {'A', 'B'}).reset_index(name='has_both')\n",
    "users_with_both = users_with_both[users_with_both['has_both'] == True]['user_id']\n",
    "\n",
    "# Удаляем строки, соответствующие пользователям с обеими группами 'A' и 'B'\n",
    "data = data[~data['user_id'].isin(users_with_both)]\n",
    "data.info()"
   ]
  },
  {
   "cell_type": "code",
   "execution_count": 129,
   "metadata": {},
   "outputs": [
    {
     "name": "stdout",
     "output_type": "stream",
     "text": [
      "Количество удаленных пользователей, попавших в обе группы: 1895\n"
     ]
    }
   ],
   "source": [
    "total_users_before = 294478\n",
    "total_users_after = 290688\n",
    "print(f'Количество удаленных пользователей, попавших в обе группы: {round((total_users_before - total_users_after) / 2)}')"
   ]
  },
  {
   "cell_type": "code",
   "execution_count": 130,
   "metadata": {},
   "outputs": [
    {
     "data": {
      "text/plain": [
       "price\n",
       "0         255911\n",
       "10000      10383\n",
       "60000       7001\n",
       "100000      7059\n",
       "150000      6916\n",
       "200000      3418\n",
       "Name: purchase, dtype: int64"
      ]
     },
     "execution_count": 130,
     "metadata": {},
     "output_type": "execute_result"
    }
   ],
   "source": [
    "# Проверим, есть ли туры отличные от предоставленного списка:\n",
    "#\n",
    "# - Санкт-Петербург — 10 000 рублей;\n",
    "# - Турция — 60 000 рублей;\n",
    "# - Таиланд — 100 000 рублей;\n",
    "# - Камчатка — 150 000 рублей.\n",
    "# - Мальдивы — 200 000 рублей;\n",
    "\n",
    "data.groupby('price').count()['purchase']"
   ]
  },
  {
   "cell_type": "markdown",
   "metadata": {},
   "source": [
    "Вывод:\n",
    "* неизвестных туров не обнаружено"
   ]
  },
  {
   "cell_type": "code",
   "execution_count": 131,
   "metadata": {},
   "outputs": [
    {
     "name": "stdout",
     "output_type": "stream",
     "text": [
      "Количество записей с отрицательной ценой: 0\n",
      "Количество записей c конверсией и с отрицательной/нулевой ценой: 0\n"
     ]
    }
   ],
   "source": [
    "# Проверим, есть ли некорректные данные в выборке\n",
    "\n",
    "print(f\"Количество записей с отрицательной ценой: {data[data['price'] < 0]['price'].count()}\")\n",
    "\n",
    "mask = (data['purchase'] == 1) & (data['price'] <= 0)\n",
    "print(f\"Количество записей c конверсией и с отрицательной/нулевой ценой: {data[mask]['purchase'].count()}\")"
   ]
  },
  {
   "cell_type": "code",
   "execution_count": 132,
   "metadata": {},
   "outputs": [
    {
     "name": "stdout",
     "output_type": "stream",
     "text": [
      "\n",
      "======== Group A\n",
      " - from 2021-01-02 00:00:00 to 2021-01-24 00:00:00\n",
      "\n",
      "======== Group B\n",
      " - from 2021-01-02 00:00:00 to 2021-01-24 00:00:00\n"
     ]
    }
   ],
   "source": [
    "# Проверим длительность эксперимента в каждой группе\n",
    "for group in data['group'].unique():\n",
    "    print(\"\\n======== Group\", group)\n",
    "    group_data = data[data['group'] == group]\n",
    "    print(f\" - from {group_data['date'].min()} to {group_data['date'].max()}\")\n"
   ]
  },
  {
   "cell_type": "markdown",
   "metadata": {},
   "source": [
    "Выводы:\n",
    "* было удалено 1895 пользователей, попавшие в обе группы\n",
    "* длительность эксперимента совпадает в обеих группах: со 2-го января 2021 года до 24 января 2021 года включетильно\n",
    "* выборка разбита на две группы приблизительного одинакового размера\n",
    "* данных, не соответствующих конверсии не обнаружено"
   ]
  },
  {
   "cell_type": "markdown",
   "metadata": {},
   "source": [
    "## 2. Первичный анализ результатов A/B-теста "
   ]
  },
  {
   "cell_type": "code",
   "execution_count": 133,
   "metadata": {},
   "outputs": [
    {
     "name": "stdout",
     "output_type": "stream",
     "text": [
      "\n",
      "======== Группа A\n",
      " - Количество посещений: 145 307 (49.99%)\n",
      " - Количество покупок: 145 307\n",
      " - Сумма покупок: 1 417 780 000 руб.\n",
      "\n",
      "======== Группа B\n",
      " - Количество посещений: 145 381 (50.01%)\n",
      " - Количество покупок: 145 381\n",
      " - Сумма покупок: 1 533 010 000 руб.\n"
     ]
    }
   ],
   "source": [
    "# Расчитаем вспомогательные показатели для групп\n",
    "\n",
    "for group in data['group'].unique():\n",
    "    print(\"\\n======== Группа\", group)\n",
    "    group_data = data[data['group'] == group]\n",
    "    print(f\" - Количество посещений: {group_data['user_id'].count():,} ({round(group_data['user_id'].count() / data['user_id'].count() * 100, 2)}%)\".replace(',', ' '))\n",
    "    print(f\" - Количество покупок: {group_data['purchase'].count():,}\".replace(',', ' '))\n",
    "    print(f\" - Сумма покупок: {group_data['price'].sum():,} руб.\".replace(',', ' '))"
   ]
  },
  {
   "cell_type": "markdown",
   "metadata": {},
   "source": [
    "Вывод:\n",
    "* количество посещений в обеих группах примерно одинаково в процентном соотношении, поэтому мы можем говорить о сбалансированности выборки"
   ]
  },
  {
   "cell_type": "code",
   "execution_count": 134,
   "metadata": {},
   "outputs": [
    {
     "name": "stdout",
     "output_type": "stream",
     "text": [
      "===== Конверсия =====\n"
     ]
    },
    {
     "data": {
      "text/html": [
       "<div>\n",
       "<style scoped>\n",
       "    .dataframe tbody tr th:only-of-type {\n",
       "        vertical-align: middle;\n",
       "    }\n",
       "\n",
       "    .dataframe tbody tr th {\n",
       "        vertical-align: top;\n",
       "    }\n",
       "\n",
       "    .dataframe thead th {\n",
       "        text-align: right;\n",
       "    }\n",
       "</style>\n",
       "<table border=\"1\" class=\"dataframe\">\n",
       "  <thead>\n",
       "    <tr style=\"text-align: right;\">\n",
       "      <th></th>\n",
       "      <th>mean</th>\n",
       "      <th>median</th>\n",
       "    </tr>\n",
       "    <tr>\n",
       "      <th>group</th>\n",
       "      <th></th>\n",
       "      <th></th>\n",
       "    </tr>\n",
       "  </thead>\n",
       "  <tbody>\n",
       "    <tr>\n",
       "      <th>A</th>\n",
       "      <td>12.043320</td>\n",
       "      <td>12.028056</td>\n",
       "    </tr>\n",
       "    <tr>\n",
       "      <th>B</th>\n",
       "      <td>11.897725</td>\n",
       "      <td>11.828606</td>\n",
       "    </tr>\n",
       "  </tbody>\n",
       "</table>\n",
       "</div>"
      ],
      "text/plain": [
       "            mean     median\n",
       "group                      \n",
       "A      12.043320  12.028056\n",
       "B      11.897725  11.828606"
      ]
     },
     "metadata": {},
     "output_type": "display_data"
    },
    {
     "name": "stdout",
     "output_type": "stream",
     "text": [
      "===== Средний чек =====\n"
     ]
    },
    {
     "data": {
      "text/html": [
       "<div>\n",
       "<style scoped>\n",
       "    .dataframe tbody tr th:only-of-type {\n",
       "        vertical-align: middle;\n",
       "    }\n",
       "\n",
       "    .dataframe tbody tr th {\n",
       "        vertical-align: top;\n",
       "    }\n",
       "\n",
       "    .dataframe thead th {\n",
       "        text-align: right;\n",
       "    }\n",
       "</style>\n",
       "<table border=\"1\" class=\"dataframe\">\n",
       "  <thead>\n",
       "    <tr style=\"text-align: right;\">\n",
       "      <th></th>\n",
       "      <th>mean</th>\n",
       "      <th>median</th>\n",
       "    </tr>\n",
       "    <tr>\n",
       "      <th>group</th>\n",
       "      <th></th>\n",
       "      <th></th>\n",
       "    </tr>\n",
       "  </thead>\n",
       "  <tbody>\n",
       "    <tr>\n",
       "      <th>A</th>\n",
       "      <td>9753.234490</td>\n",
       "      <td>9777.179602</td>\n",
       "    </tr>\n",
       "    <tr>\n",
       "      <th>B</th>\n",
       "      <td>10538.561154</td>\n",
       "      <td>10440.375303</td>\n",
       "    </tr>\n",
       "  </tbody>\n",
       "</table>\n",
       "</div>"
      ],
      "text/plain": [
       "               mean        median\n",
       "group                            \n",
       "A       9753.234490   9777.179602\n",
       "B      10538.561154  10440.375303"
      ]
     },
     "metadata": {},
     "output_type": "display_data"
    },
    {
     "data": {
      "image/png": "[encoded data removed]",
      "text/plain": [
       "<Figure size 800x400 with 1 Axes>"
      ]
     },
     "metadata": {},
     "output_type": "display_data"
    }
   ],
   "source": [
    "# расчитам конверсию и средний чек для каждой из групп\n",
    "\n",
    "def get_conversion(row):\n",
    "    return row['purchase'] / row['users_count'] * 100\n",
    "\n",
    "def get_average_receipt(row):\n",
    "    return row['price'] / row['users_count']\n",
    "\n",
    "daily_data = data.groupby(['date','group']).agg({\n",
    "    'user_id': 'count',\n",
    "    'purchase': 'sum',\n",
    "    'price': 'sum',\n",
    "}).reset_index().rename(columns={'user_id': 'users_count'})\n",
    "\n",
    "daily_data['conversion'] = daily_data.apply(lambda x: get_conversion(x), axis=1)\n",
    "daily_data['average_receipt'] = daily_data.apply(lambda x: get_average_receipt(x), axis=1)\n",
    "\n",
    "# вычисляем медианное и среднее значение конверсии\n",
    "conversion_piv = daily_data.groupby('group')['conversion'].agg(\n",
    "    ['mean', 'median']\n",
    ")\n",
    "print('===== Конверсия =====')\n",
    "display(conversion_piv)\n",
    "\n",
    "# вычисляем медианное и среднее значение\n",
    "average_receipt_piv = daily_data.groupby('group')['average_receipt'].agg(\n",
    "    ['mean', 'median']\n",
    ")\n",
    "print('===== Средний чек =====')\n",
    "display(average_receipt_piv)\n",
    "\n",
    "# визуализируем конверсию\n",
    "fig = plt.figure(figsize=(8, 4))\n",
    "ax = fig.add_axes([1, 1, 1, 1])\n",
    "sns.boxplot(data=daily_data, x='conversion', y='group', ax=ax)\n",
    "ax.set_title('Сравнение конверсии в группах')\n",
    "ax.grid(True)\n"
   ]
  },
  {
   "cell_type": "markdown",
   "metadata": {},
   "source": [
    "Выводы:\n",
    "* по конверсии группа А выглядет предпочтительней, поскольку медианное значение конверсии выше и разброс меньше, чем у группы B.\n",
    "* по среднему чеку группа B выглядит предпочтительнее, поскольку и среднее, и медианное значение среднего чека выше чем в группе А"
   ]
  },
  {
   "cell_type": "code",
   "execution_count": 135,
   "metadata": {},
   "outputs": [
    {
     "data": {
      "text/html": [
       "<div>\n",
       "<style scoped>\n",
       "    .dataframe tbody tr th:only-of-type {\n",
       "        vertical-align: middle;\n",
       "    }\n",
       "\n",
       "    .dataframe tbody tr th {\n",
       "        vertical-align: top;\n",
       "    }\n",
       "\n",
       "    .dataframe thead th {\n",
       "        text-align: right;\n",
       "    }\n",
       "</style>\n",
       "<table border=\"1\" class=\"dataframe\">\n",
       "  <thead>\n",
       "    <tr style=\"text-align: right;\">\n",
       "      <th>price</th>\n",
       "      <th>10000</th>\n",
       "      <th>60000</th>\n",
       "      <th>100000</th>\n",
       "      <th>150000</th>\n",
       "      <th>200000</th>\n",
       "    </tr>\n",
       "    <tr>\n",
       "      <th>group</th>\n",
       "      <th></th>\n",
       "      <th></th>\n",
       "      <th></th>\n",
       "      <th></th>\n",
       "      <th></th>\n",
       "    </tr>\n",
       "  </thead>\n",
       "  <tbody>\n",
       "    <tr>\n",
       "      <th>A</th>\n",
       "      <td>5182</td>\n",
       "      <td>5271</td>\n",
       "      <td>1832</td>\n",
       "      <td>3478</td>\n",
       "      <td>1724</td>\n",
       "    </tr>\n",
       "    <tr>\n",
       "      <th>B</th>\n",
       "      <td>5201</td>\n",
       "      <td>1730</td>\n",
       "      <td>5227</td>\n",
       "      <td>3438</td>\n",
       "      <td>1694</td>\n",
       "    </tr>\n",
       "  </tbody>\n",
       "</table>\n",
       "</div>"
      ],
      "text/plain": [
       "price  10000   60000   100000  150000  200000\n",
       "group                                        \n",
       "A        5182    5271    1832    3478    1724\n",
       "B        5201    1730    5227    3438    1694"
      ]
     },
     "metadata": {},
     "output_type": "display_data"
    },
    {
     "data": {
      "text/plain": [
       "Text(0.5, 36.72222222222221, 'Цена тура')"
      ]
     },
     "execution_count": 135,
     "metadata": {},
     "output_type": "execute_result"
    },
    {
     "data": {
      "image/png": "[encoded data removed]",
      "text/plain": [
       "<Figure size 1200x600 with 2 Axes>"
      ]
     },
     "metadata": {},
     "output_type": "display_data"
    }
   ],
   "source": [
    "# построим сводную таблицу, которая покажет зависимость количества продаж от группы и цены тура\n",
    "purchased_data = data[data['purchase'] == 1]\n",
    "pivot = purchased_data.pivot_table(\n",
    "    'purchase',\n",
    "    index='group',\n",
    "    columns='price',\n",
    "    aggfunc='count'\n",
    ")\n",
    "display(pivot)\n",
    "\n",
    "fig, axes = plt.subplots(figsize=(12, 6))\n",
    "heatmap = sns.heatmap(data=pivot, ax=axes, cmap='YlGnBu')\n",
    "heatmap.set_title('Тепловая карта распределения количества продаж каждого тура в группах')\n",
    "heatmap.set_ylabel('Группа')\n",
    "heatmap.set_xlabel('Цена тура')\n"
   ]
  },
  {
   "cell_type": "markdown",
   "metadata": {},
   "source": [
    "Выводы:\n",
    "* покупательская способность участников группы А выше для тура в Турцию (60 000 руб.)\n",
    "* покупательская способность участников группы В выше для тура в Таиланд (100 000 руб.)\n",
    "* для остальных туров покупательская способность участников обеих групп явно не отличается"
   ]
  },
  {
   "cell_type": "markdown",
   "metadata": {},
   "source": [
    "## 3. Проверка стабилизации метрик в A/B-тесте"
   ]
  },
  {
   "cell_type": "code",
   "execution_count": 136,
   "metadata": {},
   "outputs": [
    {
     "data": {
      "text/html": [
       "<div>\n",
       "<style scoped>\n",
       "    .dataframe tbody tr th:only-of-type {\n",
       "        vertical-align: middle;\n",
       "    }\n",
       "\n",
       "    .dataframe tbody tr th {\n",
       "        vertical-align: top;\n",
       "    }\n",
       "\n",
       "    .dataframe thead th {\n",
       "        text-align: right;\n",
       "    }\n",
       "</style>\n",
       "<table border=\"1\" class=\"dataframe\">\n",
       "  <thead>\n",
       "    <tr style=\"text-align: right;\">\n",
       "      <th></th>\n",
       "      <th>date</th>\n",
       "      <th>group</th>\n",
       "      <th>users_count</th>\n",
       "      <th>purchase</th>\n",
       "      <th>price</th>\n",
       "      <th>conversion</th>\n",
       "      <th>average_receipt</th>\n",
       "    </tr>\n",
       "  </thead>\n",
       "  <tbody>\n",
       "    <tr>\n",
       "      <th>0</th>\n",
       "      <td>2021-01-02</td>\n",
       "      <td>A</td>\n",
       "      <td>2854</td>\n",
       "      <td>359</td>\n",
       "      <td>29410000</td>\n",
       "      <td>12.578837</td>\n",
       "      <td>10304.835319</td>\n",
       "    </tr>\n",
       "    <tr>\n",
       "      <th>1</th>\n",
       "      <td>2021-01-02</td>\n",
       "      <td>B</td>\n",
       "      <td>2861</td>\n",
       "      <td>345</td>\n",
       "      <td>29660000</td>\n",
       "      <td>12.058721</td>\n",
       "      <td>10367.004544</td>\n",
       "    </tr>\n",
       "    <tr>\n",
       "      <th>2</th>\n",
       "      <td>2021-01-03</td>\n",
       "      <td>A</td>\n",
       "      <td>6596</td>\n",
       "      <td>748</td>\n",
       "      <td>62000000</td>\n",
       "      <td>11.340206</td>\n",
       "      <td>9399.636143</td>\n",
       "    </tr>\n",
       "    <tr>\n",
       "      <th>3</th>\n",
       "      <td>2021-01-03</td>\n",
       "      <td>B</td>\n",
       "      <td>6619</td>\n",
       "      <td>754</td>\n",
       "      <td>65960000</td>\n",
       "      <td>11.391449</td>\n",
       "      <td>9965.251549</td>\n",
       "    </tr>\n",
       "    <tr>\n",
       "      <th>4</th>\n",
       "      <td>2021-01-04</td>\n",
       "      <td>A</td>\n",
       "      <td>6566</td>\n",
       "      <td>799</td>\n",
       "      <td>64250000</td>\n",
       "      <td>12.168748</td>\n",
       "      <td>9785.257387</td>\n",
       "    </tr>\n",
       "  </tbody>\n",
       "</table>\n",
       "</div>"
      ],
      "text/plain": [
       "        date group  users_count  purchase     price  conversion   \n",
       "0 2021-01-02     A         2854       359  29410000   12.578837  \\\n",
       "1 2021-01-02     B         2861       345  29660000   12.058721   \n",
       "2 2021-01-03     A         6596       748  62000000   11.340206   \n",
       "3 2021-01-03     B         6619       754  65960000   11.391449   \n",
       "4 2021-01-04     A         6566       799  64250000   12.168748   \n",
       "\n",
       "   average_receipt  \n",
       "0     10304.835319  \n",
       "1     10367.004544  \n",
       "2      9399.636143  \n",
       "3      9965.251549  \n",
       "4      9785.257387  "
      ]
     },
     "execution_count": 136,
     "metadata": {},
     "output_type": "execute_result"
    }
   ],
   "source": [
    "# будем работать с таблицей с ежедневными данными, построенной на предыдущем шаге\n",
    "daily_data.head()"
   ]
  },
  {
   "cell_type": "code",
   "execution_count": 137,
   "metadata": {},
   "outputs": [
    {
     "data": {
      "text/html": [
       "<div>\n",
       "<style scoped>\n",
       "    .dataframe tbody tr th:only-of-type {\n",
       "        vertical-align: middle;\n",
       "    }\n",
       "\n",
       "    .dataframe tbody tr th {\n",
       "        vertical-align: top;\n",
       "    }\n",
       "\n",
       "    .dataframe thead th {\n",
       "        text-align: right;\n",
       "    }\n",
       "</style>\n",
       "<table border=\"1\" class=\"dataframe\">\n",
       "  <thead>\n",
       "    <tr style=\"text-align: right;\">\n",
       "      <th></th>\n",
       "      <th>date</th>\n",
       "      <th>group</th>\n",
       "      <th>users_count</th>\n",
       "      <th>purchase</th>\n",
       "      <th>price</th>\n",
       "      <th>conversion</th>\n",
       "      <th>average_receipt</th>\n",
       "      <th>cum_users_count</th>\n",
       "      <th>cum_purchase</th>\n",
       "      <th>cum_price</th>\n",
       "      <th>cum_conversion</th>\n",
       "      <th>cum_average_receipt</th>\n",
       "    </tr>\n",
       "  </thead>\n",
       "  <tbody>\n",
       "    <tr>\n",
       "      <th>0</th>\n",
       "      <td>2021-01-02</td>\n",
       "      <td>A</td>\n",
       "      <td>2854</td>\n",
       "      <td>359</td>\n",
       "      <td>29410000</td>\n",
       "      <td>12.578837</td>\n",
       "      <td>10304.835319</td>\n",
       "      <td>2854</td>\n",
       "      <td>359</td>\n",
       "      <td>29410000</td>\n",
       "      <td>12.578837</td>\n",
       "      <td>10304.835319</td>\n",
       "    </tr>\n",
       "    <tr>\n",
       "      <th>1</th>\n",
       "      <td>2021-01-02</td>\n",
       "      <td>B</td>\n",
       "      <td>2861</td>\n",
       "      <td>345</td>\n",
       "      <td>29660000</td>\n",
       "      <td>12.058721</td>\n",
       "      <td>10367.004544</td>\n",
       "      <td>2861</td>\n",
       "      <td>345</td>\n",
       "      <td>29660000</td>\n",
       "      <td>12.058721</td>\n",
       "      <td>10367.004544</td>\n",
       "    </tr>\n",
       "    <tr>\n",
       "      <th>2</th>\n",
       "      <td>2021-01-03</td>\n",
       "      <td>A</td>\n",
       "      <td>6596</td>\n",
       "      <td>748</td>\n",
       "      <td>62000000</td>\n",
       "      <td>11.340206</td>\n",
       "      <td>9399.636143</td>\n",
       "      <td>9450</td>\n",
       "      <td>1107</td>\n",
       "      <td>91410000</td>\n",
       "      <td>11.714286</td>\n",
       "      <td>9673.015873</td>\n",
       "    </tr>\n",
       "    <tr>\n",
       "      <th>3</th>\n",
       "      <td>2021-01-03</td>\n",
       "      <td>B</td>\n",
       "      <td>6619</td>\n",
       "      <td>754</td>\n",
       "      <td>65960000</td>\n",
       "      <td>11.391449</td>\n",
       "      <td>9965.251549</td>\n",
       "      <td>9480</td>\n",
       "      <td>1099</td>\n",
       "      <td>95620000</td>\n",
       "      <td>11.592827</td>\n",
       "      <td>10086.497890</td>\n",
       "    </tr>\n",
       "    <tr>\n",
       "      <th>4</th>\n",
       "      <td>2021-01-04</td>\n",
       "      <td>A</td>\n",
       "      <td>6566</td>\n",
       "      <td>799</td>\n",
       "      <td>64250000</td>\n",
       "      <td>12.168748</td>\n",
       "      <td>9785.257387</td>\n",
       "      <td>16016</td>\n",
       "      <td>1906</td>\n",
       "      <td>155660000</td>\n",
       "      <td>11.900599</td>\n",
       "      <td>9719.030969</td>\n",
       "    </tr>\n",
       "  </tbody>\n",
       "</table>\n",
       "</div>"
      ],
      "text/plain": [
       "        date group  users_count  purchase     price  conversion   \n",
       "0 2021-01-02     A         2854       359  29410000   12.578837  \\\n",
       "1 2021-01-02     B         2861       345  29660000   12.058721   \n",
       "2 2021-01-03     A         6596       748  62000000   11.340206   \n",
       "3 2021-01-03     B         6619       754  65960000   11.391449   \n",
       "4 2021-01-04     A         6566       799  64250000   12.168748   \n",
       "\n",
       "   average_receipt  cum_users_count  cum_purchase  cum_price  cum_conversion   \n",
       "0     10304.835319             2854           359   29410000       12.578837  \\\n",
       "1     10367.004544             2861           345   29660000       12.058721   \n",
       "2      9399.636143             9450          1107   91410000       11.714286   \n",
       "3      9965.251549             9480          1099   95620000       11.592827   \n",
       "4      9785.257387            16016          1906  155660000       11.900599   \n",
       "\n",
       "   cum_average_receipt  \n",
       "0         10304.835319  \n",
       "1         10367.004544  \n",
       "2          9673.015873  \n",
       "3         10086.497890  \n",
       "4          9719.030969  "
      ]
     },
     "metadata": {},
     "output_type": "display_data"
    }
   ],
   "source": [
    "# добавим кумулятивные показатели в таблицу с ежедневными данными\n",
    "\n",
    "# вычисляем кумулятивную сумму количества посетителей\n",
    "daily_data['cum_users_count'] = daily_data.groupby(['group'])['users_count'].cumsum()\n",
    "\n",
    "# вычисляем кумулятивную сумму количества совершённых покупок\n",
    "daily_data['cum_purchase'] = daily_data.groupby(['group'])['purchase'].cumsum()\n",
    "\n",
    "# вычисляем кумулятивную сумму покупок\n",
    "daily_data['cum_price'] = daily_data.groupby(['group'])['price'].cumsum()\n",
    "\n",
    "# вычисляем кумулятивную конверсию\n",
    "daily_data['cum_conversion'] = daily_data['cum_purchase' / daily_data['cum_users_count'] * 100\n",
    "\n",
    "# вычисляем кумулятивный средний чек\n",
    "daily_data['cum_average_receipt'] = daily_data['cum_price'] / daily_data['cum_users_count']\n",
    "\n",
    "display(daily_data.head())"
   ]
  },
  {
   "cell_type": "code",
   "execution_count": 138,
   "metadata": {},
   "outputs": [
    {
     "data": {
      "image/png": "[encoded data removed]",
      "text/plain": [
       "<Figure size 800x400 with 1 Axes>"
      ]
     },
     "metadata": {},
     "output_type": "display_data"
    }
   ],
   "source": [
    "# создаём график кумулятивной конверсии по дням\n",
    "fig = plt.figure(figsize=(8, 4))\n",
    "ax = fig.add_axes([1, 1, 1, 1])\n",
    "sns.lineplot(x='date', y='cum_conversion', data=daily_data, hue='group', ax=ax)\n",
    "ax.set_title('График кумулятивной конверсии по дням')\n",
    "ax.xaxis.set_tick_params(rotation = 45)\n",
    "ax.grid(True)"
   ]
  },
  {
   "cell_type": "code",
   "execution_count": 139,
   "metadata": {},
   "outputs": [
    {
     "data": {
      "image/png": "[encoded data removed]",
      "text/plain": [
       "<Figure size 800x400 with 1 Axes>"
      ]
     },
     "metadata": {},
     "output_type": "display_data"
    }
   ],
   "source": [
    "# создаём график кумулятивного среднего чека по дням\n",
    "fig = plt.figure(figsize=(8, 4))\n",
    "ax = fig.add_axes([1, 1, 1, 1])\n",
    "sns.lineplot(x='date', y='cum_average_receipt', data=daily_data, hue='group', ax=ax)\n",
    "ax.set_title('График кумулятивного среднего чека по дням')\n",
    "ax.xaxis.set_tick_params(rotation = 45)\n",
    "ax.grid(True)"
   ]
  },
  {
   "cell_type": "markdown",
   "metadata": {},
   "source": [
    "Выводы:\n",
    "* по обоим графикам можно сказать, что А/B тест завершен: после 2021-01-13 резкие скачки как конверсии, так и среднего чека прекратились, и кривыи стабилизировались\n",
    "* группа А показывает лучшие результаты по конверсии, а группа В показывает лучшие результаты по среднему чеку"
   ]
  },
  {
   "cell_type": "markdown",
   "metadata": {},
   "source": [
    "## 4. Статистические тесты для анализа результатов A/B-теста"
   ]
  },
  {
   "cell_type": "code",
   "execution_count": 153,
   "metadata": {},
   "outputs": [],
   "source": [
    "alpha = 0.05\n",
    "\n",
    "# функция для принятия решения о нормальности\n",
    "def decision_normality(p):\n",
    "    print('p-value = {:.3f}'.format(p))\n",
    "    if p <= alpha:\n",
    "        print('p-значение меньше, чем заданный уровень значимости {:.2f}. Распределение отлично от нормального'.format(alpha))\n",
    "    else:\n",
    "        print('p-значение больше, чем заданный уровень значимости {:.2f}. Распределение является нормальным'.format(alpha))\n",
    "\n",
    "\n",
    "# функция для принятия решения об отклонении нулевой гипотезы\n",
    "def decision_hypothesis(p, H0, H1):\n",
    "    print('p-value = {:.3f}'.format(p))\n",
    "    if p <= alpha:\n",
    "        print('p-значение меньше, чем заданный уровень значимости {:.2f}. Отвергаем нулевую гипотезу в пользу альтернативной.'.format(alpha))\n",
    "        print(H1)\n",
    "    else:\n",
    "        print('p-значение больше, чем заданный уровень значимости {:.2f}. У нас нет оснований отвергнуть нулевую гипотезу.'.format(alpha))\n",
    "        print(H0)\n"
   ]
  },
  {
   "cell_type": "markdown",
   "metadata": {},
   "source": [
    "\n",
    "**Проверка на нормальность**\n",
    "\n",
    "С помощью теста Шапиро-Уилка проверим данные по конверсии и среднему чеку на нормальность:\n",
    "\n",
    "* `Нулевая гипотеза` ($H_0$): распределение данных является нормальным.\n",
    "* `Альтернативная гипотеза` ($H_1$): распределение данных отлично от нормального."
   ]
  },
  {
   "cell_type": "code",
   "execution_count": 149,
   "metadata": {},
   "outputs": [
    {
     "name": "stdout",
     "output_type": "stream",
     "text": [
      "Для конверсии в группе A:\n",
      "p-value = 0.294\n",
      "p-значение больше, чем заданный уровень значимости 0.05. Распределение является нормальным\n",
      "\n",
      "Для конверсии в группе B:\n",
      "p-value = 0.913\n",
      "p-значение больше, чем заданный уровень значимости 0.05. Распределение является нормальным\n",
      "\n",
      "Для среднего чека в группе A:\n",
      "p-value = 0.219\n",
      "p-значение больше, чем заданный уровень значимости 0.05. Распределение является нормальным\n",
      "\n",
      "Для среднего чека в группе B:\n",
      "p-value = 0.200\n",
      "p-значение больше, чем заданный уровень значимости 0.05. Распределение является нормальным\n"
     ]
    }
   ],
   "source": [
    "conversion_a = daily_data.loc[daily_data['group'] == 'A', 'conversion']\n",
    "conversion_b = daily_data.loc[daily_data['group'] == 'B', 'conversion']\n",
    "average_receipt_a = daily_data.loc[daily_data['group'] == 'A', 'average_receipt']\n",
    "average_receipt_b = daily_data.loc[daily_data['group'] == 'B', 'average_receipt']\n",
    "\n",
    "# проводим тест Шапиро-Уилка\n",
    "\n",
    "print('Для конверсии в группе A:')\n",
    "result = stats.shapiro(conversion_a)\n",
    "decision_normality(result[1])\n",
    "\n",
    "print('\\nДля конверсии в группе B:')\n",
    "result = stats.shapiro(conversion_b)\n",
    "decision_normality(result[1])\n",
    "\n",
    "print('\\nДля среднего чека в группе A:')\n",
    "result = stats.shapiro(average_receipt_a)\n",
    "decision_normality(result[1])\n",
    "\n",
    "print('\\nДля среднего чека в группе B:')\n",
    "result = stats.shapiro(average_receipt_b)\n",
    "decision_normality(result[1])"
   ]
  },
  {
   "cell_type": "markdown",
   "metadata": {},
   "source": [
    "**Выберем подходящий статистический тест**\n",
    "\n",
    "Для выбора нужного теста воспользуемся алгоритмом выбора теста. Для этого ответим на следующие вопросы:\n",
    "* Какой тип у признака `conversion` / `averate_receipt`? — Количественный.\n",
    "* Сколько сравниваемых групп? — Две.\n",
    "* Группы зависимы? — Нет.\n",
    "* Признак распределён по нормальному закону? — Да.\n",
    "\n",
    "Чтобы проверить нашу гипотезу, можно использовать двухвыборочный t-критерий.\n",
    "\n",
    "**Проведём тест**"
   ]
  },
  {
   "cell_type": "code",
   "execution_count": 156,
   "metadata": {},
   "outputs": [
    {
     "name": "stdout",
     "output_type": "stream",
     "text": [
      "Тест на равенство дисперсий\n",
      "p-value = 0.787\n",
      "Дисперсии одинаковы, в stats.ttest_ind нужно использовать параметр equal_var=True.\n",
      "\n",
      "=== t-критерий для сравнения средних значений конверсий в группах: ===\n",
      "p-value = 0.223\n",
      "p-значение больше, чем заданный уровень значимости 0.05. У нас нет оснований отвергнуть нулевую гипотезу.\n",
      "Нулевая гипотеза: конверсия в группах А и В не отличается.\n"
     ]
    }
   ],
   "source": [
    "# проводим тест Левена на равенство дисперсий\n",
    "print('Тест на равенство дисперсий')\n",
    "_, p = stats.levene(conversion_a, conversion_b)\n",
    "print('p-value = {:.3f}'.format(p))\n",
    "if p < alpha:\n",
    "    print('Дисперсии не одинаковы, в stats.ttest_ind нужно использовать параметр equal_var=False.')\n",
    "else:\n",
    "    print('Дисперсии одинаковы, в stats.ttest_ind нужно использовать параметр equal_var=True.')\n",
    "\n",
    "# проводим тест\n",
    "H0 = 'Нулевая гипотеза: конверсия в группах А и В не отличается.'\n",
    "H1 = 'Альтернативная гипотеза: конверсия в группах А и В отличается.'\n",
    "print(\"\\n=== t-критерий для сравнения средних значений конверсий в группах: ===\")\n",
    "_, p = stats.ttest_ind(conversion_a, conversion_b, equal_var=True)\n",
    "decision_hypothesis(p, H0, H1)\n"
   ]
  },
  {
   "cell_type": "code",
   "execution_count": 159,
   "metadata": {},
   "outputs": [
    {
     "name": "stdout",
     "output_type": "stream",
     "text": [
      "Тест на равенство дисперсий\n",
      "p-value = 0.426\n",
      "Дисперсии одинаковы, в stats.ttest_ind нужно использовать параметр equal_var=True.\n",
      "\n",
      "=== t-критерий для сравнения средних значений конверсий в группах: ===\n",
      "p-value = 0.000\n",
      "p-значение меньше, чем заданный уровень значимости 0.05. Отвергаем нулевую гипотезу в пользу альтернативной.\n",
      "Альтернативная гипотеза: средний чек в группах А и В отличается.\n"
     ]
    }
   ],
   "source": [
    "# проводим тест Левена на равенство дисперсий\n",
    "print('Тест на равенство дисперсий')\n",
    "_, p = stats.levene(average_receipt_a, average_receipt_b)\n",
    "print('p-value = {:.3f}'.format(p))\n",
    "if p < alpha:\n",
    "    print('Дисперсии не одинаковы, в stats.ttest_ind нужно использовать параметр equal_var=False.')\n",
    "else:\n",
    "    print('Дисперсии одинаковы, в stats.ttest_ind нужно использовать параметр equal_var=True.')\n",
    "\n",
    "# проводим тест\n",
    "H0 = 'Нулевая гипотеза: средний чек в группах А и В не отличается.'\n",
    "H1 = 'Альтернативная гипотеза: средний чек в группах А и В отличается.'\n",
    "print(\"\\n=== t-критерий для сравнения средних значений конверсий в группах: ===\")\n",
    "_, p = stats.ttest_ind(average_receipt_a, average_receipt_b, equal_var=True)\n",
    "decision_hypothesis(p, H0, H1)"
   ]
  },
  {
   "cell_type": "code",
   "execution_count": 160,
   "metadata": {},
   "outputs": [
    {
     "name": "stdout",
     "output_type": "stream",
     "text": [
      "Доверительный интервал для конверсии группы А: (11.87, 12.2)\n",
      "Доверительный интервал для конверсии группы B: (11.73, 12.06)\n"
     ]
    }
   ],
   "source": [
    "def proportions_conf_interval(n, x_p, gamma=0.95):\n",
    "    alpha = 1 - gamma\n",
    "    z_crit = -stats.norm.ppf(alpha / 2)\n",
    "    eps = z_crit * (x_p * (1 - x_p) / n) ** 0.5\n",
    "    lower_bound = x_p - eps\n",
    "    higher_bound = x_p + eps\n",
    "    return round(lower_bound * 100, 2), round(higher_bound * 100, 2)\n",
    "\n",
    "a_data = data[data['group'] == 'A']\n",
    "b_data = data[data['group'] == 'B']\n",
    "\n",
    "conf_interval_a = proportions_conf_interval(\n",
    "    n=a_data['user_id'].count(),\n",
    "    x_p=a_data['purchase'].mean()\n",
    ")\n",
    "\n",
    "conf_interval_b = proportions_conf_interval(\n",
    "    n=b_data['user_id'].count(),\n",
    "    x_p=b_data['purchase'].mean()\n",
    ")\n",
    "\n",
    "print(f'Доверительный интервал для конверсии группы А: {conf_interval_a}')\n",
    "print(f'Доверительный интервал для конверсии группы B: {conf_interval_b}')"
   ]
  },
  {
   "cell_type": "code",
   "execution_count": 162,
   "metadata": {},
   "outputs": [
    {
     "name": "stdout",
     "output_type": "stream",
     "text": [
      "Доверительный интервал для разности конверсий: (-0.38, 0.09)\n"
     ]
    }
   ],
   "source": [
    "def diff_proportions_conf_interval(n, xp, gamma=0.95):\n",
    "    alpha = 1 - gamma\n",
    "    diff = xp[1] - xp[0] # выборочная разница конверсий групп B и A\n",
    "    z_crit = -stats.norm.ppf(alpha/2)\n",
    "    eps = z_crit * (xp[0] * (1 - xp[0]) / n[0] + xp[1] * (1 - xp[1]) / n[1]) ** 0.5\n",
    "    lower_bound = diff - eps\n",
    "    higher_bound = diff + eps\n",
    "    return round(lower_bound * 100, 2), round(higher_bound * 100, 2)\n",
    "\n",
    "# размеры выборок групп А и B\n",
    "n = [a_data['user_id'].count(), b_data['user_id'].count()]\n",
    "\n",
    "# выборочная пропорция групп A и B\n",
    "xp = [a_data['purchase'].mean(), b_data['purchase'].mean()]\n",
    "\n",
    "# строим доверительный интервал для разности конверсий\n",
    "diff_inverval = diff_proportions_conf_interval(n, xp)\n",
    "\n",
    "print('Доверительный интервал для разности конверсий: {}'.format(diff_inverval))\n"
   ]
  },
  {
   "cell_type": "code",
   "execution_count": 166,
   "metadata": {},
   "outputs": [
    {
     "name": "stdout",
     "output_type": "stream",
     "text": [
      "Доверительный интервал для истинного среднего чека группы А: (9745.48, 9760.99)\n",
      "Доверительный интервал для истинного среднего чека группы B: (10531.81, 10545.31)\n"
     ]
    }
   ],
   "source": [
    "# Определим доверительный интервал для среднего чека\n",
    "\n",
    "def conf_interval(n, x_mean, x_std, gamma=0.95):\n",
    "  alpha = 1 - gamma\n",
    "  k = n - 1\n",
    "  t_crit = -stats.t.ppf(alpha/2, k)\n",
    "  eps = t_crit * x_std/(n ** 0.5)\n",
    "  lower_bound = x_mean - eps\n",
    "  upper_bound = x_mean + eps\n",
    "  return round(lower_bound, 2), round(upper_bound, 2)\n",
    "\n",
    "# Доверительный интервал для группы A\n",
    "n = a_data['cum_purchase'].max()\n",
    "x_mean = a_data['average_receipt'].mean()\n",
    "x_std = a_data['average_receipt'].std()\n",
    "print('Доверительный интервал для истинного среднего чека группы А:', conf_interval(n, x_mean, x_std))\n",
    "\n",
    "# Доверительный интервал для группы B\n",
    "n = b_data['cum_purchase'].max()\n",
    "x_mean = b_data['average_receipt'].mean()\n",
    "x_std = b_data['average_receipt'].std()\n",
    "print('Доверительный интервал для истинного среднего чека группы B:', conf_interval(n, x_mean, x_std))"
   ]
  },
  {
   "cell_type": "markdown",
   "metadata": {},
   "source": [
    "__Выводы__:\n",
    "* конверсия в группах А и В статистически не отличается:\n",
    "    * получено подтверждение с помощью t-критерия\n",
    "    * пересечение доверительных интервалов группы А (11.87, 12.2) и В (11.73, 12.06) на уровне доверия 95%\n",
    "    * доверительный интервал для разности конверсий (-0.38, 0.09) подтверждает, что не смотря на то, что существует вероятность того, что конверсия в группе B выше, чем в группе A, разница все же не является статистически значимой.\n",
    "* средний чек в группе В статистически отличается от среднего чека в группе А:\n",
    "    * получено подтверждение с помощью t-критерия\n",
    "    * доверительные интервалы группы А (9745.48, 9760.99) и В (10531.81, 10545.31) не пересекаются, что может указывать на значимые различия в среднем чеке между группами А и B на уровне доверия 95%"
   ]
  },
  {
   "cell_type": "markdown",
   "metadata": {},
   "source": [
    "## 6. Соответствие выводов бизнес-вопросам\n",
    "\n",
    "Таким образом, если рассматривать эффективность по метрикам конверсии и ежедневного среднего чека, можно сделать следующие выводы:\n",
    "\n",
    "1. По метрике конверсии: оба варианта дизайна равнозначны, поскольку не обнаружены статистически значимые различия в конверсии между группами А и B.\n",
    "\n",
    "2. По метрике среднего чека: вариант дизайна страницы B более эффективен, так как приводит к статистически значимо более высокому среднему чеку по сравнению с вариантом дизайна страницы A.\n",
    "\n",
    "Итак, при прочих равных условиях, можно сделать вывод, что вариант дизайна страницы B является более предпочтительным с точки зрения увеличения среднего чека пользователей."
   ]
  },
  {
   "cell_type": "code",
   "execution_count": null,
   "metadata": {},
   "outputs": [],
   "source": []
  }
 ],
 "metadata": {
  "kernelspec": {
   "display_name": ".venv",
   "language": "python",
   "name": "python3"
  },
  "language_info": {
   "codemirror_mode": {
    "name": "ipython",
    "version": 3
   },
   "file_extension": ".py",
   "mimetype": "text/x-python",
   "name": "python",
   "nbconvert_exporter": "python",
   "pygments_lexer": "ipython3",
   "version": "3.9.16"
  }
 },
 "nbformat": 4,
 "nbformat_minor": 2
}
