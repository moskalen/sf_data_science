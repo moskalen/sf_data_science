{
  "cells": [
    {
      "cell_type": "markdown",
      "id": "00009cca",
      "metadata": {
        "id": "00009cca"
      },
      "source": [
        "# Классификация текстов с использованием Наивного Байесовского Классификатора"
      ]
    },
    {
      "cell_type": "markdown",
      "id": "a52414b8",
      "metadata": {
        "id": "a52414b8"
      },
      "source": [
        "## Задание 1 (1 балл)"
      ]
    },
    {
      "cell_type": "markdown",
      "id": "f5f27b43",
      "metadata": {
        "id": "f5f27b43"
      },
      "source": [
        "Откройте данные. Узнайте, сколько в них спам- и не спам-писем. Визуализируйте полученные соотношение подходящим образом."
      ]
    },
    {
      "cell_type": "code",
      "execution_count": 205,
      "id": "ac369274",
      "metadata": {
        "id": "ac369274"
      },
      "outputs": [
        {
          "data": {
            "text/html": [
              "<div>\n",
              "<style scoped>\n",
              "    .dataframe tbody tr th:only-of-type {\n",
              "        vertical-align: middle;\n",
              "    }\n",
              "\n",
              "    .dataframe tbody tr th {\n",
              "        vertical-align: top;\n",
              "    }\n",
              "\n",
              "    .dataframe thead th {\n",
              "        text-align: right;\n",
              "    }\n",
              "</style>\n",
              "<table border=\"1\" class=\"dataframe\">\n",
              "  <thead>\n",
              "    <tr style=\"text-align: right;\">\n",
              "      <th></th>\n",
              "      <th>email</th>\n",
              "      <th>label</th>\n",
              "    </tr>\n",
              "  </thead>\n",
              "  <tbody>\n",
              "    <tr>\n",
              "      <th>0</th>\n",
              "      <td>date wed NUMBER aug NUMBER NUMBER NUMBER NUMB...</td>\n",
              "      <td>0</td>\n",
              "    </tr>\n",
              "    <tr>\n",
              "      <th>1</th>\n",
              "      <td>martin a posted tassos papadopoulos the greek ...</td>\n",
              "      <td>0</td>\n",
              "    </tr>\n",
              "    <tr>\n",
              "      <th>2</th>\n",
              "      <td>man threatens explosion in moscow thursday aug...</td>\n",
              "      <td>0</td>\n",
              "    </tr>\n",
              "    <tr>\n",
              "      <th>3</th>\n",
              "      <td>klez the virus that won t die already the most...</td>\n",
              "      <td>0</td>\n",
              "    </tr>\n",
              "    <tr>\n",
              "      <th>4</th>\n",
              "      <td>in adding cream to spaghetti carbonara which ...</td>\n",
              "      <td>0</td>\n",
              "    </tr>\n",
              "  </tbody>\n",
              "</table>\n",
              "</div>"
            ],
            "text/plain": [
              "                                               email  label\n",
              "0   date wed NUMBER aug NUMBER NUMBER NUMBER NUMB...      0\n",
              "1  martin a posted tassos papadopoulos the greek ...      0\n",
              "2  man threatens explosion in moscow thursday aug...      0\n",
              "3  klez the virus that won t die already the most...      0\n",
              "4   in adding cream to spaghetti carbonara which ...      0"
            ]
          },
          "execution_count": 205,
          "metadata": {},
          "output_type": "execute_result"
        }
      ],
      "source": [
        "import numpy as np\n",
        "import pandas as pd\n",
        "import seaborn as sns\n",
        "import matplotlib.pyplot as plt\n",
        "\n",
        "from sklearn import metrics\n",
        "from sklearn import model_selection\n",
        "\n",
        "data = pd.read_csv('spam_or_not_spam.zip')\n",
        "data.head()"
      ]
    },
    {
      "cell_type": "code",
      "execution_count": 206,
      "id": "f4231781",
      "metadata": {
        "id": "f4231781"
      },
      "outputs": [
        {
          "data": {
            "text/plain": [
              "label\n",
              "0    2500\n",
              "1     500\n",
              "Name: count, dtype: int64"
            ]
          },
          "execution_count": 206,
          "metadata": {},
          "output_type": "execute_result"
        }
      ],
      "source": [
        "# рассчитайте частоты для классов\n",
        "data['label'].value_counts()"
      ]
    },
    {
      "cell_type": "code",
      "execution_count": 207,
      "id": "9b871636",
      "metadata": {
        "id": "9b871636"
      },
      "outputs": [
        {
          "data": {
            "text/plain": [
              "<matplotlib.legend.Legend at 0x2a594ad60>"
            ]
          },
          "execution_count": 207,
          "metadata": {},
          "output_type": "execute_result"
        },
        {
          "data": {
            "image/png": "[encoded data removed]",
            "text/plain": [
              "<Figure size 640x480 with 1 Axes>"
            ]
          },
          "metadata": {},
          "output_type": "display_data"
        }
      ],
      "source": [
        "# визуализируйте результат\n",
        "ax = sns.countplot(data=data, x='label', hue='label', hue_order=[0, 1])\n",
        "ax.set_title('Частоты классов')\n",
        "ax.set_xlabel('Классы')\n",
        "ax.set_ylabel('Количество')\n",
        "\n",
        "legend_labels = {0: 'Не спам', 1: 'Спам'}\n",
        "plt.legend(title='Легенда', labels=legend_labels.values())"
      ]
    },
    {
      "cell_type": "markdown",
      "id": "b161614b",
      "metadata": {
        "id": "b161614b"
      },
      "source": [
        "## Задание 2 (2 балла)"
      ]
    },
    {
      "cell_type": "markdown",
      "id": "dd29763b",
      "metadata": {
        "id": "dd29763b"
      },
      "source": [
        "Вам необходимо предобработать ваши данные и перевести их в векторный вид. Подгрузим необходимый модуль:"
      ]
    },
    {
      "cell_type": "code",
      "execution_count": 208,
      "id": "382eac9c",
      "metadata": {
        "id": "382eac9c"
      },
      "outputs": [],
      "source": [
        "from sklearn.feature_extraction.text import CountVectorizer"
      ]
    },
    {
      "cell_type": "markdown",
      "id": "89546b95",
      "metadata": {
        "id": "89546b95"
      },
      "source": [
        "Замените в данных все пустые строки и строки, состоящие из пробелов, на пропуски (NaN). После этого удалите из данных все строки, в которых наблюдаются пропущенные значения."
      ]
    },
    {
      "cell_type": "code",
      "execution_count": 209,
      "id": "45180f82",
      "metadata": {
        "id": "45180f82"
      },
      "outputs": [
        {
          "name": "stdout",
          "output_type": "stream",
          "text": [
            "<class 'pandas.core.frame.DataFrame'>\n",
            "Index: 2997 entries, 0 to 2999\n",
            "Data columns (total 2 columns):\n",
            " #   Column  Non-Null Count  Dtype \n",
            "---  ------  --------------  ----- \n",
            " 0   email   2997 non-null   object\n",
            " 1   label   2997 non-null   int64 \n",
            "dtypes: int64(1), object(1)\n",
            "memory usage: 70.2+ KB\n"
          ]
        }
      ],
      "source": [
        "data['email'] = data['email'].replace('^\\s+$', '', regex=True)\n",
        "data['email'] = data['email'].replace('', np.nan)\n",
        "data = data.dropna(axis=0)\n",
        "data.info()\n"
      ]
    },
    {
      "cell_type": "markdown",
      "id": "2ca2fe88",
      "metadata": {
        "id": "2ca2fe88"
      },
      "source": [
        "Переводим данные в векторный вид:"
      ]
    },
    {
      "cell_type": "code",
      "execution_count": 210,
      "id": "29e9a37b",
      "metadata": {
        "id": "29e9a37b"
      },
      "outputs": [],
      "source": [
        "vectorizer = CountVectorizer()\n",
        "X = vectorizer.fit_transform(data['email'])"
      ]
    },
    {
      "cell_type": "markdown",
      "id": "88c8b726",
      "metadata": {
        "id": "88c8b726"
      },
      "source": [
        "Определите, сколько теперь признаков в нашем наборе данных:"
      ]
    },
    {
      "cell_type": "code",
      "execution_count": 211,
      "id": "f19c2a02",
      "metadata": {
        "id": "f19c2a02"
      },
      "outputs": [
        {
          "data": {
            "text/plain": [
              "(2997, 34116)"
            ]
          },
          "execution_count": 211,
          "metadata": {},
          "output_type": "execute_result"
        }
      ],
      "source": [
        "X.shape"
      ]
    },
    {
      "cell_type": "markdown",
      "id": "1803f282",
      "metadata": {
        "id": "1803f282"
      },
      "source": [
        "## Задание 3 (2 балла)"
      ]
    },
    {
      "cell_type": "markdown",
      "id": "39f400b7",
      "metadata": {
        "id": "39f400b7"
      },
      "source": [
        "Определите целевую переменную и признаки:"
      ]
    },
    {
      "cell_type": "code",
      "execution_count": 212,
      "id": "31f1acb6",
      "metadata": {
        "id": "31f1acb6"
      },
      "outputs": [],
      "source": [
        "y = data['label']"
      ]
    },
    {
      "cell_type": "markdown",
      "id": "b20f273e",
      "metadata": {
        "id": "b20f273e"
      },
      "source": [
        "Разделите выборку на обучающую и тестовую, используя стратифицированное разбиение (параметр `stratify` установите в значение вектора ответов y) размер тестовой выборки (`test_size`) возьмите как 0.25, параметр `random_state` определите со значением 42:"
      ]
    },
    {
      "cell_type": "code",
      "execution_count": 213,
      "id": "96538fb6",
      "metadata": {
        "id": "96538fb6"
      },
      "outputs": [],
      "source": [
        "X_train, X_test, y_train, y_test = model_selection.train_test_split(\n",
        "    X, y,\n",
        "    train_size=0.75,\n",
        "    test_size=0.25,\n",
        "    stratify=y,\n",
        "    random_state=42,\n",
        ")"
      ]
    },
    {
      "cell_type": "markdown",
      "id": "139dac3d",
      "metadata": {
        "id": "139dac3d"
      },
      "source": [
        "Рассчитайте среднее значение целевой переменной по тестовой выборке:"
      ]
    },
    {
      "cell_type": "code",
      "execution_count": 214,
      "id": "e9baf72d",
      "metadata": {
        "id": "e9baf72d"
      },
      "outputs": [
        {
          "data": {
            "text/plain": [
              "0.16533333333333333"
            ]
          },
          "execution_count": 214,
          "metadata": {},
          "output_type": "execute_result"
        }
      ],
      "source": [
        "y_test.mean()"
      ]
    },
    {
      "cell_type": "markdown",
      "id": "710e0e94",
      "metadata": {
        "id": "710e0e94"
      },
      "source": [
        "## Задание 4 (3 балла)"
      ]
    },
    {
      "cell_type": "markdown",
      "id": "26cf6885",
      "metadata": {
        "id": "26cf6885"
      },
      "source": [
        "Определите и обучите подходящий алгоритм с параметром alpha = 0.01"
      ]
    },
    {
      "cell_type": "code",
      "execution_count": 246,
      "id": "4865dd78",
      "metadata": {
        "id": "4865dd78"
      },
      "outputs": [],
      "source": [
        "# Поскольку у нас текст и несбалансированная выборка, то будем использовать ComplementNB\n",
        "# (можно и MultinomialNB, но он показал худшие метрики) классификатор\n",
        "from sklearn.naive_bayes import ComplementNB, MultinomialNB\n",
        "\n",
        "alpha = 0.01\n",
        "\n",
        "classificator = ComplementNB(alpha=alpha)\n",
        "classificator.fit(X_train, y_train)\n",
        "\n",
        "y_train_pred = classificator.predict(X_train)\n",
        "y_test_pred = classificator.predict(X_test)"
      ]
    },
    {
      "cell_type": "markdown",
      "id": "d803fbe3",
      "metadata": {
        "id": "d803fbe3"
      },
      "source": [
        "Оцените результат с точки зрения всех известных вам метрик (не менее трёх):"
      ]
    },
    {
      "cell_type": "code",
      "execution_count": 248,
      "id": "b0bbc4d2",
      "metadata": {
        "id": "b0bbc4d2"
      },
      "outputs": [
        {
          "name": "stdout",
          "output_type": "stream",
          "text": [
            "Accuracy на тренировочной выборке: 0.9996\n",
            "Recall на тренировочной выборке: 0.9973\n",
            "Precission на тренировочной выборке: 1.0000\n",
            "F1 score на тренировочной выборке: 0.9987\n",
            "\n",
            "Accuracy на тестовой выборке: 0.9880\n",
            "Recall на тестовой выборке: 0.9274\n",
            "Precission на тестовой выборке: 1.0000\n",
            "F1 score на тестовой выборке: 0.9623\n"
          ]
        }
      ],
      "source": [
        "print('Accuracy на тренировочной выборке: {:.4f}'.format(metrics.accuracy_score(y_train, y_train_pred)))\n",
        "print('Recall на тренировочной выборке: {:.4f}'.format(metrics.recall_score(y_train, y_train_pred)))\n",
        "print('Precission на тренировочной выборке: {:.4f}'.format(metrics.precision_score(y_train, y_train_pred)))\n",
        "print('F1 score на тренировочной выборке: {:.4f}'.format(metrics.f1_score(y_train, y_train_pred)))\n",
        "\n",
        "print('\\nAccuracy на тестовой выборке: {:.4f}'.format(metrics.accuracy_score(y_test, y_test_pred)))\n",
        "print('Recall на тестовой выборке: {:.4f}'.format(metrics.recall_score(y_test, y_test_pred)))\n",
        "print('Precission на тестовой выборке: {:.4f}'.format(metrics.precision_score(y_test, y_test_pred)))\n",
        "print('F1 score на тестовой выборке: {:.4f}'.format(metrics.f1_score(y_test, y_test_pred)))\n"
      ]
    },
    {
      "cell_type": "markdown",
      "id": "011b6c6f",
      "metadata": {},
      "source": [
        "### Выводы\n",
        "* метрика $precission = 1.0$ показывает, что вероятность допустить ошибку I рода (отметить хорошее письмо как спам) стремиться к нулю\n",
        "* не смотря на довольно большое значение метрики $accuracy = 0.988$, принимать во внимание ее не будем, поскольку наша выборка не сбалансирована.\n",
        "* $F_1-score = 0.9623$ показывает хороший результат, но попробуем его улучшить ниже\n",
        "* метрика $recall = 0.9274$ показывает, что процент писем, которые модель определила к спаму, среди всех действительно писем со спамом составляет 95.74%, что в полне удовлетворительно - пропустить какой-то процент писем со спамом лучше, чем отметить хорошее письмо как спам."
      ]
    },
    {
      "cell_type": "markdown",
      "id": "c85976d1",
      "metadata": {
        "id": "c85976d1"
      },
      "source": [
        "Нарисуйте ROC-кривую:"
      ]
    },
    {
      "cell_type": "code",
      "execution_count": 293,
      "id": "b4195126",
      "metadata": {
        "id": "b4195126"
      },
      "outputs": [
        {
          "name": "stdout",
          "output_type": "stream",
          "text": [
            "ROC-AUC на тестовой выборке: 0.987\n"
          ]
        },
        {
          "data": {
            "image/png": "[encoded data removed]",
            "text/plain": [
              "<Figure size 1000x700 with 1 Axes>"
            ]
          },
          "metadata": {},
          "output_type": "display_data"
        }
      ],
      "source": [
        "def get_roc_curve(model, X_train, y_train, X_test, y_test):\n",
        "    model.fit(X_train, y_train)\n",
        "    return metrics.roc_curve(y_test, model.predict(X_test))\n",
        "\n",
        "false_positive_rates, true_positive_rates, threshold = get_roc_curve(\n",
        "    ComplementNB(alpha=alpha),\n",
        "    X_train, y_train, X_test, y_test\n",
        ")\n",
        "\n",
        "false_positive_rates_m, true_positive_rates_m, threshold_m = get_roc_curve(\n",
        "    MultinomialNB(alpha=alpha),\n",
        "    X_train, y_train, X_test, y_test\n",
        ")\n",
        "\n",
        "roc_auc = metrics.roc_auc_score(y_test, y_test_pred).round(3)\n",
        "print(\"ROC-AUC на тестовой выборке:\", roc_auc)\n",
        "\n",
        "# создаём график\n",
        "plt.figure(figsize=(10, 7))\n",
        "\n",
        "# рисуем кривую\n",
        "plt.plot(false_positive_rates, true_positive_rates,\n",
        "         label='Сглаженные значения ROC-AUC (для ComplementNB)')\n",
        "\n",
        "plt.plot(false_positive_rates_m, true_positive_rates_m, color='red',\n",
        "         label='Сглаженные значения ROC-AUC (для MultinomialNB)')\n",
        "\n",
        "# кривая, соответствующая случайному угадыванию\n",
        "plt.plot([0, 1], [0, 1], color='k', lw=2, linestyle=':',\n",
        "         label='Модель, выдающая случайное значение')\n",
        "\n",
        "plt.title('ROC curve')\n",
        "plt.xlabel('False Positive Rate')\n",
        "plt.ylabel('True Positive Rate')\n",
        "\n",
        "plt.fill_between(false_positive_rates, true_positive_rates,\n",
        "                 alpha=0.5, label='Площадь под кривой (ROC-AUC для ComplementNB)')\n",
        "plt.legend()\n",
        "plt.show()"
      ]
    },
    {
      "cell_type": "markdown",
      "id": "ed3c8d08",
      "metadata": {},
      "source": [
        "### Вывод\n",
        "* Из графика кривых видно, что площадь под кривой у модели ComplementNB больше, чем у MultinomialNB"
      ]
    },
    {
      "cell_type": "markdown",
      "id": "cf0bb49b",
      "metadata": {
        "id": "cf0bb49b"
      },
      "source": [
        "## Задание 5 (3 балла)"
      ]
    },
    {
      "cell_type": "markdown",
      "id": "30b7a0ae",
      "metadata": {
        "id": "30b7a0ae"
      },
      "source": [
        "Переберите несколько значений alpha с помощью кросс-валидации. Оцените, зависит ли от этого параметра качество классификации."
      ]
    },
    {
      "cell_type": "code",
      "execution_count": 294,
      "id": "3513d907",
      "metadata": {
        "id": "3513d907"
      },
      "outputs": [
        {
          "name": "stdout",
          "output_type": "stream",
          "text": [
            "CPU times: user 2.08 s, sys: 237 ms, total: 2.32 s\n",
            "Wall time: 2.35 s\n",
            "Наилучшие значения гиперпараметров: {'alpha': 0.33668341708542715}\n",
            "\n",
            "Accuracy на тестовой выборке: 0.9947\n",
            "Recall на тестовой выборке: 0.9758\n",
            "Precission на тестовой выборке: 0.9918\n",
            "F1 score на тестовой выборке: 0.9837\n"
          ]
        }
      ],
      "source": [
        "import sys\n",
        "import warnings\n",
        "import os\n",
        "if not sys.warnoptions:\n",
        "    warnings.simplefilter(\"ignore\")\n",
        "    os.environ[\"PYTHONWARNINGS\"] = \"ignore\"\n",
        "\n",
        "param_grid = {\n",
        "    'alpha': np.linspace(0, 1, 200),\n",
        "}\n",
        "\n",
        "clf = ComplementNB(force_alpha=True)\n",
        "grid_search = model_selection.GridSearchCV(\n",
        "    estimator=clf,\n",
        "    param_grid=param_grid,\n",
        ")\n",
        "\n",
        "%time grid_search.fit(X_train, y_train)\n",
        "y_test_pred = grid_search.predict(X_test)\n",
        "\n",
        "print(\"Наилучшие значения гиперпараметров: {}\".format(grid_search.best_params_))\n",
        "print('\\nAccuracy на тестовой выборке: {:.4f}'.format(metrics.accuracy_score(y_test, y_test_pred)))\n",
        "print('Recall на тестовой выборке: {:.4f}'.format(metrics.recall_score(y_test, y_test_pred)))\n",
        "print('Precission на тестовой выборке: {:.4f}'.format(metrics.precision_score(y_test, y_test_pred)))\n",
        "print('F1 score на тестовой выборке: {:.4f}'.format(metrics.f1_score(y_test, y_test_pred)))"
      ]
    },
    {
      "cell_type": "code",
      "execution_count": 287,
      "id": "c4af0cc9",
      "metadata": {},
      "outputs": [
        {
          "data": {
            "text/plain": [
              "[Text(0.0, 0, '0'),\n",
              " Text(0.2, 0, '0.2'),\n",
              " Text(0.3367, 0, '0.3367'),\n",
              " Text(0.4, 0, '0.4'),\n",
              " Text(0.6, 0, '0.6'),\n",
              " Text(0.8, 0, '0.8'),\n",
              " Text(1.0, 0, '1')]"
            ]
          },
          "execution_count": 287,
          "metadata": {},
          "output_type": "execute_result"
        },
        {
          "data": {
            "image/png": "[encoded data removed]",
            "text/plain": [
              "<Figure size 1000x500 with 1 Axes>"
            ]
          },
          "metadata": {},
          "output_type": "display_data"
        }
      ],
      "source": [
        "plt.figure(figsize=(10, 5))\n",
        "ax = sns.lineplot(x=grid_search.cv_results_['param_alpha'], y=grid_search.cv_results_['mean_test_score'])\n",
        "ax.set_title('Зависимость метрики accuracy от гипер-параметра alpha')\n",
        "ax.set_xlabel('alpha')\n",
        "ax.set_ylabel('accuracy')\n",
        "ax.axvline(\n",
        "    x=grid_search.best_params_['alpha'],\n",
        "    color='red',\n",
        "    linestyle='dashed',\n",
        ")\n",
        "x_labels = [0, 0.2, round(grid_search.best_params_['alpha'], 4), 0.4, 0.6, 0.8, 1]\n",
        "ax.set_xticks(x_labels)\n",
        "ax.set_xticklabels(x_labels)\n"
      ]
    },
    {
      "cell_type": "markdown",
      "id": "da044c74",
      "metadata": {},
      "source": [
        "### Выводы\n",
        "* при $\\alpha = 0.3367$ улучшились метрики: \n",
        "    * $accuracy = 0.9947$ (было 0.9880)\n",
        "    * $recall = 0.9758$ (было 0.9274)\n",
        "    * $F_1 score = 0.9837$ (было 0.9623)\n",
        "* метрика $precission = 0.9918$ ухудшилась (было 1.0)\n",
        "* можно сказать, что гипер-параметр $\\alpha$ влияет на качество классификации"
      ]
    },
    {
      "cell_type": "code",
      "execution_count": null,
      "id": "f8565f9d",
      "metadata": {},
      "outputs": [],
      "source": []
    }
  ],
  "metadata": {
    "colab": {
      "name": "SGA_unit6_NBC.ipynb",
      "provenance": []
    },
    "kernelspec": {
      "display_name": "Python 3 (ipykernel)",
      "language": "python",
      "name": "python3"
    },
    "language_info": {
      "codemirror_mode": {
        "name": "ipython",
        "version": 3
      },
      "file_extension": ".py",
      "mimetype": "text/x-python",
      "name": "python",
      "nbconvert_exporter": "python",
      "pygments_lexer": "ipython3",
      "version": "3.9.16"
    }
  },
  "nbformat": 4,
  "nbformat_minor": 5
}
