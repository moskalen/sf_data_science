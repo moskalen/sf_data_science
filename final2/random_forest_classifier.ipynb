{
 "cells": [
  {
   "cell_type": "code",
   "execution_count": 3,
   "metadata": {},
   "outputs": [
    {
     "name": "stdout",
     "output_type": "stream",
     "text": [
      "Обучаем модель RandomForestClassifier...\n",
      "Модель сохранена в models/random_forest.pkl\n"
     ]
    }
   ],
   "source": [
    "import pandas as pd\n",
    "import os\n",
    "import joblib\n",
    "from sklearn.ensemble import RandomForestClassifier\n",
    "\n",
    "# === Пути ===\n",
    "model_path = \"models/random_forest.pkl\"\n",
    "os.makedirs(\"models\", exist_ok=True)\n",
    "\n",
    "# === Проверяем, существует ли модель ===\n",
    "if os.path.exists(model_path):\n",
    "    print(f\"Загружаем модель из {model_path}\")\n",
    "    model = joblib.load(model_path)\n",
    "\n",
    "else:\n",
    "    print(\"Обучаем модель RandomForestClassifier...\")\n",
    "\n",
    "    # Загрузка данных\n",
    "    events_train = pd.read_csv(\"data/events_train.csv\", parse_dates=[\"timestamp\"])\n",
    "    user_item_features = pd.read_csv(\"data/user_item_features.csv\")\n",
    "\n",
    "    # Создание метки\n",
    "    events_train[\"target\"] = (events_train[\"event\"] == \"transaction\").astype(int)\n",
    "    train_df = events_train[[\"visitorid\", \"itemid\", \"target\"]].drop_duplicates()\n",
    "\n",
    "    # Объединение с фичами\n",
    "    train_merged = train_df.merge(user_item_features, on=[\"visitorid\", \"itemid\"], how=\"left\").dropna()\n",
    "\n",
    "    # Разделение\n",
    "    X_train = train_merged.drop(columns=[\"visitorid\", \"itemid\", \"target\", \"last_interaction\"])\n",
    "    y_train = train_merged[\"target\"]\n",
    "\n",
    "    # Обучение\n",
    "    model = RandomForestClassifier(n_estimators=100, random_state=42)\n",
    "    model.fit(X_train, y_train)\n",
    "\n",
    "    # Сохраняем модель\n",
    "    joblib.dump(model, model_path)\n",
    "    print(f\"Модель сохранена в {model_path}\")"
   ]
  },
  {
   "cell_type": "code",
   "execution_count": 4,
   "metadata": {},
   "outputs": [],
   "source": [
    "# Загрузка модели\n",
    "model = joblib.load(\"models/random_forest.pkl\")\n",
    "\n",
    "# Загрузка user-item признаков и тестовой выборки\n",
    "user_item_features = pd.read_csv(\"data/user_item_features.csv\")\n",
    "events_test = pd.read_csv(\"data/events_test.csv\")\n",
    "\n",
    "# Формируем уникальные (visitorid, itemid)\n",
    "test_pairs = events_test[[\"visitorid\", \"itemid\"]].drop_duplicates()"
   ]
  },
  {
   "cell_type": "code",
   "execution_count": 5,
   "metadata": {},
   "outputs": [],
   "source": [
    "# Объединяем с user_item_features\n",
    "test_data = test_pairs.merge(user_item_features, on=[\"visitorid\", \"itemid\"], how=\"left\")\n",
    "\n",
    "# Удаляем строки без признаков (если такие есть)\n",
    "test_data = test_data.dropna()"
   ]
  },
  {
   "cell_type": "code",
   "execution_count": 6,
   "metadata": {},
   "outputs": [],
   "source": [
    "# Удаляем ненужные колонки перед предсказанием\n",
    "X_test = test_data.drop(columns=[\"visitorid\", \"itemid\", \"last_interaction\"])\n",
    "\n",
    "# Предсказываем вероятность покупки\n",
    "test_data[\"score\"] = model.predict_proba(X_test)[:, 1]"
   ]
  },
  {
   "cell_type": "code",
   "execution_count": 7,
   "metadata": {},
   "outputs": [
    {
     "name": "stdout",
     "output_type": "stream",
     "text": [
      "Рекомендации сохранены в recommendations_top3.csv\n"
     ]
    }
   ],
   "source": [
    "top3 = (\n",
    "    test_data.sort_values([\"visitorid\", \"score\"], ascending=[True, False])\n",
    "    .groupby(\"visitorid\")\n",
    "    .head(3)\n",
    "    .reset_index(drop=True)\n",
    ")\n",
    "\n",
    "# Сохраняем рекомендации\n",
    "top3[[\"visitorid\", \"itemid\", \"score\"]].to_csv(\"models/recommendations_top3.csv\", index=False)\n",
    "print(\"Рекомендации сохранены в recommendations_top3.csv\")"
   ]
  },
  {
   "cell_type": "code",
   "execution_count": null,
   "metadata": {},
   "outputs": [],
   "source": []
  }
 ],
 "metadata": {
  "kernelspec": {
   "display_name": ".venv",
   "language": "python",
   "name": "python3"
  },
  "language_info": {
   "codemirror_mode": {
    "name": "ipython",
    "version": 3
   },
   "file_extension": ".py",
   "mimetype": "text/x-python",
   "name": "python",
   "nbconvert_exporter": "python",
   "pygments_lexer": "ipython3",
   "version": "3.9.20"
  }
 },
 "nbformat": 4,
 "nbformat_minor": 2
}
