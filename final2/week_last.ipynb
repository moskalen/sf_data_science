{
 "cells": [
  {
   "cell_type": "code",
   "execution_count": 1,
   "metadata": {},
   "outputs": [
    {
     "name": "stderr",
     "output_type": "stream",
     "text": [
      "/Users/moskalen/Documents/mine/IDE/final2/.venv/lib/python3.9/site-packages/lightfm/_lightfm_fast.py:9: UserWarning: LightFM was compiled without OpenMP support. Only a single thread will be used.\n",
      "  warnings.warn(\n",
      "/Users/moskalen/Documents/mine/IDE/final2/.venv/lib/python3.9/site-packages/tqdm/auto.py:21: TqdmWarning: IProgress not found. Please update jupyter and ipywidgets. See https://ipywidgets.readthedocs.io/en/stable/user_install.html\n",
      "  from .autonotebook import tqdm as notebook_tqdm\n"
     ]
    }
   ],
   "source": [
    "import pandas as pd\n",
    "import numpy as np\n",
    "from lightfm import LightFM\n",
    "from lightfm.evaluation import precision_at_k\n",
    "from scipy.sparse import coo_matrix\n",
    "from sklearn.model_selection import ParameterSampler\n",
    "from tqdm import tqdm\n",
    "import optuna\n",
    "from catboost import CatBoostClassifier\n",
    "from sklearn.model_selection import train_test_split\n",
    "from sklearn.metrics import precision_score\n"
   ]
  },
  {
   "cell_type": "markdown",
   "metadata": {},
   "source": [
    "### Выбор гипер-параметров для модели LightFM"
   ]
  },
  {
   "cell_type": "code",
   "execution_count": 41,
   "metadata": {},
   "outputs": [
    {
     "name": "stderr",
     "output_type": "stream",
     "text": [
      "Tuning: 100%|██████████| 20/20 [00:44<00:00,  2.20s/it]"
     ]
    },
    {
     "name": "stdout",
     "output_type": "stream",
     "text": [
      "Best Precision@3: 0.33675835\n",
      "Best Params: {'user_alpha': 1e-05, 'no_components': 64, 'loss': 'warp', 'learning_rate': 0.1, 'item_alpha': 1e-05}\n"
     ]
    },
    {
     "name": "stderr",
     "output_type": "stream",
     "text": [
      "\n"
     ]
    }
   ],
   "source": [
    "# Загрузка events_train — замените на свой путь\n",
    "df = pd.read_csv(\"data/events_train.csv\")\n",
    "\n",
    "# Фильтруем покупки\n",
    "df = df[df[\"event\"] == \"transaction\"]\n",
    "\n",
    "# Создаем маппинг\n",
    "user_ids = df[\"visitorid\"].unique()\n",
    "item_ids = df[\"itemid\"].unique()\n",
    "user_id_map = {id_: idx for idx, id_ in enumerate(user_ids)}\n",
    "item_id_map = {id_: idx for idx, id_ in enumerate(item_ids)}\n",
    "\n",
    "df[\"user_idx\"] = df[\"visitorid\"].map(user_id_map)\n",
    "df[\"item_idx\"] = df[\"itemid\"].map(item_id_map)\n",
    "\n",
    "# Создаем матрицу взаимодействий\n",
    "interactions = coo_matrix(\n",
    "    (np.ones(len(df)), (df[\"user_idx\"], df[\"item_idx\"])),\n",
    "    shape=(len(user_ids), len(item_ids))\n",
    ")\n",
    "\n",
    "# Параметры для подбора\n",
    "param_grid = {\n",
    "    \"no_components\": [16, 32, 64, 128],\n",
    "    \"learning_rate\": [0.01, 0.05, 0.1],\n",
    "    \"loss\": [\"warp\", \"bpr\", \"logistic\"],\n",
    "    \"item_alpha\": [0.0, 1e-6, 1e-5],\n",
    "    \"user_alpha\": [0.0, 1e-6, 1e-5],\n",
    "}\n",
    "\n",
    "n_iter = 20\n",
    "param_list = list(ParameterSampler(param_grid, n_iter=n_iter, random_state=42))\n",
    "\n",
    "best_precision = 0\n",
    "best_params = None\n",
    "\n",
    "for params in tqdm(param_list, desc=\"Tuning\"):\n",
    "    model = LightFM(\n",
    "        no_components=params[\"no_components\"],\n",
    "        learning_rate=params[\"learning_rate\"],\n",
    "        loss=params[\"loss\"],\n",
    "        item_alpha=params[\"item_alpha\"],\n",
    "        user_alpha=params[\"user_alpha\"],\n",
    "        random_state=42\n",
    "    )\n",
    "\n",
    "    model.fit(interactions, epochs=10, num_threads=4, verbose=False)\n",
    "    precision = precision_at_k(model, interactions, k=3).mean()\n",
    "\n",
    "    if precision > best_precision:\n",
    "        best_precision = precision\n",
    "        best_params = params\n",
    "\n",
    "print(\"Best Precision@3:\", best_precision)\n",
    "print(\"Best Params:\", best_params)"
   ]
  },
  {
   "cell_type": "markdown",
   "metadata": {},
   "source": [
    "### Выбор гипер-параметров для модели CatBoost"
   ]
  },
  {
   "cell_type": "code",
   "execution_count": 5,
   "metadata": {},
   "outputs": [
    {
     "name": "stderr",
     "output_type": "stream",
     "text": [
      "[I 2025-06-25 12:59:23,195] A new study created in memory with name: no-name-ce3e7bc9-74e1-4f58-a6c5-51bad2119151\n",
      "[I 2025-06-25 12:59:27,044] Trial 0 finished with value: 0.9924500730638091 and parameters: {'iterations': 212, 'depth': 4, 'learning_rate': 0.04325985981484932, 'l2_leaf_reg': 5.408349665248868, 'random_strength': 0.0016219779440147437, 'border_count': 179}. Best is trial 0 with value: 0.9924500730638091.\n",
      "[I 2025-06-25 12:59:35,940] Trial 1 finished with value: 0.9931757250792104 and parameters: {'iterations': 409, 'depth': 6, 'learning_rate': 0.0460191536688235, 'l2_leaf_reg': 0.09185889938406806, 'random_strength': 0.4282812432474685, 'border_count': 61}. Best is trial 1 with value: 0.9931757250792104.\n",
      "[I 2025-06-25 12:59:40,431] Trial 2 finished with value: 0.9934162399414777 and parameters: {'iterations': 237, 'depth': 6, 'learning_rate': 0.2998649171238329, 'l2_leaf_reg': 0.002509272540255054, 'random_strength': 0.13089122359702227, 'border_count': 222}. Best is trial 2 with value: 0.9934162399414777.\n",
      "[I 2025-06-25 12:59:44,786] Trial 3 finished with value: 0.9931757250792104 and parameters: {'iterations': 207, 'depth': 6, 'learning_rate': 0.0949355155214701, 'l2_leaf_reg': 2.1967775412147983, 'random_strength': 0.16405018412814085, 'border_count': 64}. Best is trial 2 with value: 0.9934162399414777.\n",
      "[I 2025-06-25 12:59:52,233] Trial 4 finished with value: 0.9936569895096365 and parameters: {'iterations': 434, 'depth': 5, 'learning_rate': 0.1543307931881583, 'l2_leaf_reg': 0.002807329897352471, 'random_strength': 0.002596305700203601, 'border_count': 168}. Best is trial 4 with value: 0.9936569895096365.\n",
      "[I 2025-06-25 13:00:03,224] Trial 5 finished with value: 0.9931757250792104 and parameters: {'iterations': 347, 'depth': 9, 'learning_rate': 0.02211509872724513, 'l2_leaf_reg': 3.7857212014713584, 'random_strength': 0.5927335210165905, 'border_count': 117}. Best is trial 4 with value: 0.9936569895096365.\n",
      "[I 2025-06-25 13:00:13,103] Trial 6 finished with value: 0.9931740614334471 and parameters: {'iterations': 456, 'depth': 7, 'learning_rate': 0.11360925647198217, 'l2_leaf_reg': 0.032991444909059434, 'random_strength': 0.002044366112786379, 'border_count': 236}. Best is trial 4 with value: 0.9936569895096365.\n",
      "[I 2025-06-25 13:00:23,169] Trial 7 finished with value: 0.9939009514515735 and parameters: {'iterations': 451, 'depth': 9, 'learning_rate': 0.298486375605183, 'l2_leaf_reg': 0.38668530853367844, 'random_strength': 0.08925670134763396, 'border_count': 43}. Best is trial 7 with value: 0.9939009514515735.\n",
      "[I 2025-06-25 13:00:27,462] Trial 8 finished with value: 0.9922084246408571 and parameters: {'iterations': 230, 'depth': 5, 'learning_rate': 0.014271555807577864, 'l2_leaf_reg': 0.0036724925524320774, 'random_strength': 0.2233840019840626, 'border_count': 113}. Best is trial 7 with value: 0.9939009514515735.\n",
      "[I 2025-06-25 13:00:34,156] Trial 9 finished with value: 0.9934162399414777 and parameters: {'iterations': 222, 'depth': 9, 'learning_rate': 0.2311062813094135, 'l2_leaf_reg': 1.2488067113593402, 'random_strength': 0.0029041432665466603, 'border_count': 210}. Best is trial 7 with value: 0.9939009514515735.\n",
      "[I 2025-06-25 13:00:49,881] Trial 10 finished with value: 0.9929285540112168 and parameters: {'iterations': 499, 'depth': 10, 'learning_rate': 0.07813725538360539, 'l2_leaf_reg': 0.45108203060613483, 'random_strength': 0.02681159358003634, 'border_count': 55}. Best is trial 7 with value: 0.9939009514515735.\n",
      "[I 2025-06-25 13:00:57,833] Trial 11 finished with value: 0.9931723969763472 and parameters: {'iterations': 382, 'depth': 8, 'learning_rate': 0.16259650550330085, 'l2_leaf_reg': 0.02418248005513041, 'random_strength': 0.016498119883854672, 'border_count': 160}. Best is trial 7 with value: 0.9939009514515735.\n",
      "[I 2025-06-25 13:01:04,536] Trial 12 finished with value: 0.9936569895096365 and parameters: {'iterations': 434, 'depth': 4, 'learning_rate': 0.17350429475052853, 'l2_leaf_reg': 0.32636411403989496, 'random_strength': 0.008589203082229241, 'border_count': 119}. Best is trial 7 with value: 0.9939009514515735.\n",
      "[I 2025-06-25 13:01:11,322] Trial 13 finished with value: 0.9929285540112168 and parameters: {'iterations': 318, 'depth': 8, 'learning_rate': 0.2900184137206896, 'l2_leaf_reg': 0.010221174368208005, 'random_strength': 0.06721545715520937, 'border_count': 159}. Best is trial 7 with value: 0.9939009514515735.\n",
      "[I 2025-06-25 13:01:24,135] Trial 14 finished with value: 0.9931723969763472 and parameters: {'iterations': 489, 'depth': 10, 'learning_rate': 0.15649448703249802, 'l2_leaf_reg': 0.17711532787743306, 'random_strength': 0.006176186735324888, 'border_count': 87}. Best is trial 7 with value: 0.9939009514515735.\n",
      "[I 2025-06-25 13:01:34,457] Trial 15 finished with value: 0.9931723969763472 and parameters: {'iterations': 454, 'depth': 7, 'learning_rate': 0.06438000636200604, 'l2_leaf_reg': 0.0014285135460734878, 'random_strength': 0.05721577249095342, 'border_count': 35}. Best is trial 7 with value: 0.9939009514515735.\n",
      "[I 2025-06-25 13:01:41,881] Trial 16 finished with value: 0.9939024390243902 and parameters: {'iterations': 385, 'depth': 5, 'learning_rate': 0.1226610829182325, 'l2_leaf_reg': 0.07145304203614887, 'random_strength': 0.005935994697767607, 'border_count': 200}. Best is trial 16 with value: 0.9939024390243902.\n",
      "[I 2025-06-25 13:01:52,978] Trial 17 finished with value: 0.9929337231968811 and parameters: {'iterations': 319, 'depth': 9, 'learning_rate': 0.03401679760859823, 'l2_leaf_reg': 0.7414517039534047, 'random_strength': 0.010915418454639569, 'border_count': 196}. Best is trial 16 with value: 0.9939024390243902.\n",
      "[I 2025-06-25 13:02:02,009] Trial 18 finished with value: 0.9934146341463415 and parameters: {'iterations': 370, 'depth': 8, 'learning_rate': 0.11683593848073644, 'l2_leaf_reg': 0.06998335086033089, 'random_strength': 0.045462658868261015, 'border_count': 249}. Best is trial 16 with value: 0.9939024390243902.\n",
      "[I 2025-06-25 13:02:07,001] Trial 19 finished with value: 0.9934162399414777 and parameters: {'iterations': 291, 'depth': 5, 'learning_rate': 0.21112727560519504, 'l2_leaf_reg': 0.012176086839858878, 'random_strength': 0.001007959251439113, 'border_count': 140}. Best is trial 16 with value: 0.9939024390243902.\n",
      "[I 2025-06-25 13:02:15,988] Trial 20 finished with value: 0.9931757250792104 and parameters: {'iterations': 414, 'depth': 7, 'learning_rate': 0.11011080878796446, 'l2_leaf_reg': 0.19901204442087303, 'random_strength': 0.00541717040004167, 'border_count': 93}. Best is trial 16 with value: 0.9939024390243902.\n",
      "[I 2025-06-25 13:02:23,016] Trial 21 finished with value: 0.9931723969763472 and parameters: {'iterations': 400, 'depth': 5, 'learning_rate': 0.14801899489114978, 'l2_leaf_reg': 0.05088137311945383, 'random_strength': 0.003876136430157253, 'border_count': 184}. Best is trial 16 with value: 0.9939024390243902.\n",
      "[I 2025-06-25 13:02:29,831] Trial 22 finished with value: 0.994140625 and parameters: {'iterations': 457, 'depth': 4, 'learning_rate': 0.2210108434501312, 'l2_leaf_reg': 0.009961523122557155, 'random_strength': 0.017734174437101843, 'border_count': 145}. Best is trial 22 with value: 0.994140625.\n",
      "[I 2025-06-25 13:02:36,858] Trial 23 finished with value: 0.9931757250792104 and parameters: {'iterations': 468, 'depth': 4, 'learning_rate': 0.22084887290816127, 'l2_leaf_reg': 0.013175905807587346, 'random_strength': 0.02159522426868426, 'border_count': 137}. Best is trial 22 with value: 0.994140625.\n",
      "[I 2025-06-25 13:02:43,481] Trial 24 finished with value: 0.9936585365853658 and parameters: {'iterations': 430, 'depth': 4, 'learning_rate': 0.2537196488212321, 'l2_leaf_reg': 0.14993674966448298, 'random_strength': 0.08943926506654347, 'border_count': 203}. Best is trial 22 with value: 0.994140625.\n",
      "[I 2025-06-25 13:02:51,191] Trial 25 finished with value: 0.9931723969763472 and parameters: {'iterations': 473, 'depth': 5, 'learning_rate': 0.19575432015721328, 'l2_leaf_reg': 0.006555057635473794, 'random_strength': 0.012743845430106898, 'border_count': 96}. Best is trial 22 with value: 0.994140625.\n",
      "[I 2025-06-25 13:02:59,253] Trial 26 finished with value: 0.9939024390243902 and parameters: {'iterations': 372, 'depth': 6, 'learning_rate': 0.08148510334825586, 'l2_leaf_reg': 0.024450018978276818, 'random_strength': 0.04142427144749387, 'border_count': 148}. Best is trial 22 with value: 0.994140625.\n",
      "[I 2025-06-25 13:03:07,092] Trial 27 finished with value: 0.9931740614334471 and parameters: {'iterations': 354, 'depth': 6, 'learning_rate': 0.07647807390749156, 'l2_leaf_reg': 0.027335441240603275, 'random_strength': 0.03563568829400926, 'border_count': 151}. Best is trial 22 with value: 0.994140625.\n",
      "[I 2025-06-25 13:03:12,472] Trial 28 finished with value: 0.9929337231968811 and parameters: {'iterations': 322, 'depth': 4, 'learning_rate': 0.05832228413538833, 'l2_leaf_reg': 0.005640568950850496, 'random_strength': 0.021524817296307692, 'border_count': 129}. Best is trial 22 with value: 0.994140625.\n",
      "[I 2025-06-25 13:03:17,303] Trial 29 finished with value: 0.9922084246408571 and parameters: {'iterations': 276, 'depth': 4, 'learning_rate': 0.0351569286577306, 'l2_leaf_reg': 8.6771312121995, 'random_strength': 0.008527846519611077, 'border_count': 179}. Best is trial 22 with value: 0.994140625.\n",
      "[I 2025-06-25 13:03:25,237] Trial 30 finished with value: 0.9929337231968811 and parameters: {'iterations': 389, 'depth': 5, 'learning_rate': 0.08182401879543957, 'l2_leaf_reg': 0.04719550184126629, 'random_strength': 0.004926735093648665, 'border_count': 186}. Best is trial 22 with value: 0.994140625.\n",
      "[I 2025-06-25 13:03:32,402] Trial 31 finished with value: 0.9936585365853658 and parameters: {'iterations': 356, 'depth': 6, 'learning_rate': 0.12947818589970903, 'l2_leaf_reg': 0.023619476164741932, 'random_strength': 0.10137511967972247, 'border_count': 223}. Best is trial 22 with value: 0.994140625.\n",
      "[I 2025-06-25 13:03:41,534] Trial 32 finished with value: 0.9931757250792104 and parameters: {'iterations': 415, 'depth': 6, 'learning_rate': 0.046173429988341064, 'l2_leaf_reg': 0.10451193655836673, 'random_strength': 0.03386721193838293, 'border_count': 105}. Best is trial 22 with value: 0.994140625.\n",
      "[I 2025-06-25 13:03:48,864] Trial 33 finished with value: 0.9934146341463415 and parameters: {'iterations': 450, 'depth': 5, 'learning_rate': 0.29528808977061405, 'l2_leaf_reg': 0.36313624496634744, 'random_strength': 0.3237600461881165, 'border_count': 77}. Best is trial 22 with value: 0.994140625.\n",
      "[I 2025-06-25 13:03:56,810] Trial 34 finished with value: 0.9934178449536811 and parameters: {'iterations': 372, 'depth': 6, 'learning_rate': 0.09136251030788481, 'l2_leaf_reg': 0.09674355575956425, 'random_strength': 0.9287786302950427, 'border_count': 170}. Best is trial 22 with value: 0.994140625.\n",
      "[I 2025-06-25 13:04:03,832] Trial 35 finished with value: 0.994140625 and parameters: {'iterations': 399, 'depth': 6, 'learning_rate': 0.1862736760757505, 'l2_leaf_reg': 0.015241821543693242, 'random_strength': 0.2012329053452416, 'border_count': 38}. Best is trial 22 with value: 0.994140625.\n",
      "[I 2025-06-25 13:04:11,644] Trial 36 finished with value: 0.9934162399414777 and parameters: {'iterations': 397, 'depth': 6, 'learning_rate': 0.1392608229926339, 'l2_leaf_reg': 0.016297851278780758, 'random_strength': 0.19240337744737382, 'border_count': 130}. Best is trial 22 with value: 0.994140625.\n",
      "[I 2025-06-25 13:04:17,722] Trial 37 finished with value: 0.9934146341463415 and parameters: {'iterations': 336, 'depth': 5, 'learning_rate': 0.18753433976313022, 'l2_leaf_reg': 0.006803007692119543, 'random_strength': 0.4460488522572639, 'border_count': 75}. Best is trial 22 with value: 0.994140625.\n",
      "[I 2025-06-25 13:04:25,820] Trial 38 finished with value: 0.9936600829066081 and parameters: {'iterations': 410, 'depth': 6, 'learning_rate': 0.10056159654199867, 'l2_leaf_reg': 0.0013442585739517135, 'random_strength': 0.014904809839734176, 'border_count': 148}. Best is trial 22 with value: 0.994140625.\n",
      "[I 2025-06-25 13:04:34,115] Trial 39 finished with value: 0.9929337231968811 and parameters: {'iterations': 376, 'depth': 7, 'learning_rate': 0.12454422012248763, 'l2_leaf_reg': 0.04447068766405961, 'random_strength': 0.14053189761060278, 'border_count': 213}. Best is trial 22 with value: 0.994140625.\n",
      "[I 2025-06-25 13:04:41,031] Trial 40 finished with value: 0.9934178449536811 and parameters: {'iterations': 425, 'depth': 4, 'learning_rate': 0.06675576561756624, 'l2_leaf_reg': 0.003351816812979334, 'random_strength': 0.0015798709523934412, 'border_count': 167}. Best is trial 22 with value: 0.994140625.\n",
      "[I 2025-06-25 13:04:48,461] Trial 41 finished with value: 0.9936600829066081 and parameters: {'iterations': 448, 'depth': 6, 'learning_rate': 0.25465365519820293, 'l2_leaf_reg': 1.670845591744615, 'random_strength': 0.08009749891861286, 'border_count': 33}. Best is trial 22 with value: 0.994140625.\n",
      "[I 2025-06-25 13:04:55,914] Trial 42 finished with value: 0.9939009514515735 and parameters: {'iterations': 440, 'depth': 5, 'learning_rate': 0.19088308059661277, 'l2_leaf_reg': 0.06857188108807802, 'random_strength': 0.2663356262316898, 'border_count': 48}. Best is trial 22 with value: 0.994140625.\n",
      "[I 2025-06-25 13:05:04,393] Trial 43 finished with value: 0.9936585365853658 and parameters: {'iterations': 468, 'depth': 7, 'learning_rate': 0.25244195812559567, 'l2_leaf_reg': 0.01668699246758184, 'random_strength': 0.04747993306801775, 'border_count': 47}. Best is trial 22 with value: 0.994140625.\n",
      "[I 2025-06-25 13:05:13,712] Trial 44 finished with value: 0.9936585365853658 and parameters: {'iterations': 481, 'depth': 7, 'learning_rate': 0.1742931609372586, 'l2_leaf_reg': 0.7249143776382472, 'random_strength': 0.12680253980082998, 'border_count': 67}. Best is trial 22 with value: 0.994140625.\n",
      "[I 2025-06-25 13:05:21,667] Trial 45 finished with value: 0.9931723969763472 and parameters: {'iterations': 396, 'depth': 8, 'learning_rate': 0.225734679399782, 'l2_leaf_reg': 0.008882200753879823, 'random_strength': 0.02564509057432235, 'border_count': 55}. Best is trial 22 with value: 0.994140625.\n",
      "[I 2025-06-25 13:05:32,354] Trial 46 finished with value: 0.9926900584795322 and parameters: {'iterations': 360, 'depth': 10, 'learning_rate': 0.0982635132038603, 'l2_leaf_reg': 0.004335706669617138, 'random_strength': 0.05736605634278735, 'border_count': 107}. Best is trial 22 with value: 0.994140625.\n",
      "[I 2025-06-25 13:05:40,740] Trial 47 finished with value: 0.9926918392204629 and parameters: {'iterations': 500, 'depth': 4, 'learning_rate': 0.011970114296361538, 'l2_leaf_reg': 0.032002565700357234, 'random_strength': 0.11911783240070559, 'border_count': 122}. Best is trial 22 with value: 0.994140625.\n",
      "[I 2025-06-25 13:05:51,844] Trial 48 finished with value: 0.9931723969763472 and parameters: {'iterations': 422, 'depth': 9, 'learning_rate': 0.15170439108120654, 'l2_leaf_reg': 0.22810114668513634, 'random_strength': 0.16270954652335484, 'border_count': 240}. Best is trial 22 with value: 0.994140625.\n",
      "[I 2025-06-25 13:05:58,186] Trial 49 finished with value: 0.9936538930925067 and parameters: {'iterations': 386, 'depth': 5, 'learning_rate': 0.2948274338353738, 'l2_leaf_reg': 0.01672414570929271, 'random_strength': 0.007585508988887405, 'border_count': 158}. Best is trial 22 with value: 0.994140625.\n"
     ]
    },
    {
     "name": "stdout",
     "output_type": "stream",
     "text": [
      "Best precision: 0.994140625\n",
      "Best params: {'iterations': 457, 'depth': 4, 'learning_rate': 0.2210108434501312, 'l2_leaf_reg': 0.009961523122557155, 'random_strength': 0.017734174437101843, 'border_count': 145}\n"
     ]
    }
   ],
   "source": [
    "DATA_PATH = \"data/combined_features.csv\"\n",
    "\n",
    "df = pd.read_csv(DATA_PATH)\n",
    "\n",
    "# Целевая переменная\n",
    "df[\"target\"] = df[\"user_item_purchase_count\"].apply(lambda x: 1 if x > 0 else 0)\n",
    "\n",
    "# Балансировка классов\n",
    "positive = df[df[\"target\"] == 1]\n",
    "negative = df[df[\"target\"] == 0].sample(n=len(positive) * 5, random_state=42)\n",
    "balanced_df = pd.concat([positive, negative]).sample(frac=1, random_state=42)\n",
    "\n",
    "# Удаляем ненужные столбцы\n",
    "drop_cols = [\n",
    "    \"visitorid\", \"itemid\", \"user_item_purchase_count\",\n",
    "    \"last_interaction\", \"last_property_update\", \"target\"\n",
    "]\n",
    "X = balanced_df.drop(columns=drop_cols, errors=\"ignore\")\n",
    "y = balanced_df[\"target\"]\n",
    "\n",
    "# Разделение на train/val\n",
    "X_train, X_val, y_train, y_val = train_test_split(X, y, test_size=0.2, random_state=42)\n",
    "\n",
    "cat_features = [\n",
    "    \"item_category_id\", \"parentid\", \"category_level\"\n",
    "]\n",
    "\n",
    "# Преобразуем категориальные признаки в строки\n",
    "for col in cat_features:\n",
    "    X_train[col] = X_train[col].astype(str)\n",
    "    X_val[col] = X_val[col].astype(str)\n",
    "\n",
    "\n",
    "def objective(trial):\n",
    "    params = {\n",
    "        \"iterations\": trial.suggest_int(\"iterations\", 200, 500),\n",
    "        \"depth\": trial.suggest_int(\"depth\", 4, 10),\n",
    "        \"learning_rate\": trial.suggest_float(\"learning_rate\", 0.01, 0.3, log=True),\n",
    "        \"l2_leaf_reg\": trial.suggest_float(\"l2_leaf_reg\", 1e-3, 10.0, log=True),\n",
    "        \"random_strength\": trial.suggest_float(\"random_strength\", 1e-3, 1.0, log=True),\n",
    "        \"border_count\": trial.suggest_int(\"border_count\", 32, 255),\n",
    "        \"verbose\": 0,\n",
    "        \"random_seed\": 42,\n",
    "    }\n",
    "\n",
    "    model = CatBoostClassifier(**params)\n",
    "    model.fit(X_train, y_train, cat_features=cat_features)\n",
    "\n",
    "    preds = model.predict(X_val)\n",
    "    return precision_score(y_val, preds)\n",
    "\n",
    "study = optuna.create_study(direction=\"maximize\")\n",
    "study.optimize(objective, n_trials=50)\n",
    "\n",
    "print(\"Best precision:\", study.best_value)\n",
    "print(\"Best params:\", study.best_params)\n"
   ]
  },
  {
   "cell_type": "code",
   "execution_count": null,
   "metadata": {},
   "outputs": [],
   "source": []
  }
 ],
 "metadata": {
  "kernelspec": {
   "display_name": ".venv",
   "language": "python",
   "name": "python3"
  },
  "language_info": {
   "codemirror_mode": {
    "name": "ipython",
    "version": 3
   },
   "file_extension": ".py",
   "mimetype": "text/x-python",
   "name": "python",
   "nbconvert_exporter": "python",
   "pygments_lexer": "ipython3",
   "version": "3.9.20"
  }
 },
 "nbformat": 4,
 "nbformat_minor": 2
}
